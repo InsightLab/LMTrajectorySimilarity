{
 "cells": [
  {
   "cell_type": "code",
   "execution_count": 1,
   "metadata": {
    "executionInfo": {
     "elapsed": 1244,
     "status": "ok",
     "timestamp": 1697550815107,
     "user": {
      "displayName": "Wilken Charles",
      "userId": "08238201343018523362"
     },
     "user_tz": 180
    },
    "id": "BKYLm8DXxnIP"
   },
   "outputs": [],
   "source": [
    "import gensim\n",
    "import numpy as np\n",
    "import pandas as pd\n",
    "\n",
    "from gensim.models.doc2vec import Doc2Vec, TaggedDocument"
   ]
  },
  {
   "cell_type": "code",
   "execution_count": 2,
   "metadata": {
    "colab": {
     "base_uri": "https://localhost:8080/"
    },
    "executionInfo": {
     "elapsed": 5,
     "status": "ok",
     "timestamp": 1697550815107,
     "user": {
      "displayName": "Wilken Charles",
      "userId": "08238201343018523362"
     },
     "user_tz": 180
    },
    "id": "84WEKWEXebfB",
    "outputId": "3aa39ea1-33bc-4cfc-eebc-ff6a30322c8f"
   },
   "outputs": [
    {
     "name": "stdout",
     "output_type": "stream",
     "text": [
      "4.2.0\n"
     ]
    }
   ],
   "source": [
    "# Treinado na versão 4.2.0\n",
    "print(gensim.__version__)"
   ]
  },
  {
   "cell_type": "code",
   "execution_count": 3,
   "metadata": {
    "colab": {
     "base_uri": "https://localhost:8080/"
    },
    "executionInfo": {
     "elapsed": 1838,
     "status": "ok",
     "timestamp": 1697550816942,
     "user": {
      "displayName": "Wilken Charles",
      "userId": "08238201343018523362"
     },
     "user_tz": 180
    },
    "id": "mH--TwkzY9hw",
    "outputId": "0377fc6e-872b-4ff7-b717-038d0486724a"
   },
   "outputs": [
    {
     "name": "stdout",
     "output_type": "stream",
     "text": [
      "df_tdrive_ALL-taxis.csv  exp1-trj.h5\t tdrive.csv\t\t   val2.src\r\n",
      "D_p-pts.pickle\t\t exp1-trj.label  tdrive_formato_t2vec.csv  val.mta\r\n",
      "D_q-pts.pickle\t\t exp1-trj.t\t train.mta\t\t   val.src\r\n",
      "Dq-pts.pickle\t\t mv.csv\t\t train.src\t\t   val.trg\r\n",
      "exp1-querydb.h5\t\t saved_models\t train.trg\t\t   vocab.txt\r\n"
     ]
    }
   ],
   "source": [
    "!ls '../data/'"
   ]
  },
  {
   "cell_type": "code",
   "execution_count": 4,
   "metadata": {
    "executionInfo": {
     "elapsed": 95445,
     "status": "ok",
     "timestamp": 1697550947709,
     "user": {
      "displayName": "Wilken Charles",
      "userId": "08238201343018523362"
     },
     "user_tz": 180
    },
    "id": "Zs5wdFuwxtnf"
   },
   "outputs": [],
   "source": [
    "# DISCRETIZAÇÃO DE CELS DO T2VEC:\n",
    "trajs_treino = []\n",
    "with open('../data/train.src', 'r') as f:\n",
    "    for linha in f:\n",
    "        # Divida as cels da linha usando espaço como delimitador e as converte em strings\n",
    "        traj = linha.strip().split(' ')\n",
    "        # Adicione a traj da linha à lista principal\n",
    "        trajs_treino.append(traj)"
   ]
  },
  {
   "cell_type": "code",
   "execution_count": 5,
   "metadata": {
    "colab": {
     "base_uri": "https://localhost:8080/"
    },
    "executionInfo": {
     "elapsed": 20,
     "status": "ok",
     "timestamp": 1697550947710,
     "user": {
      "displayName": "Wilken Charles",
      "userId": "08238201343018523362"
     },
     "user_tz": 180
    },
    "id": "LeLv6V31ewjO",
    "outputId": "009e63ac-1692-4fe0-ba88-6a06c7e9d95a"
   },
   "outputs": [
    {
     "name": "stdout",
     "output_type": "stream",
     "text": [
      "Quantidade de trajetórias de treino: 6352096\n"
     ]
    }
   ],
   "source": [
    "print(\"Quantidade de trajetórias de treino:\", len(trajs_treino))"
   ]
  },
  {
   "cell_type": "code",
   "execution_count": 6,
   "metadata": {
    "colab": {
     "base_uri": "https://localhost:8080/"
    },
    "executionInfo": {
     "elapsed": 6,
     "status": "ok",
     "timestamp": 1697550947710,
     "user": {
      "displayName": "Wilken Charles",
      "userId": "08238201343018523362"
     },
     "user_tz": 180
    },
    "id": "dN5Qz60D0mcc",
    "outputId": "76d721ef-7ddd-4ce4-913f-a2fc7e05e83a"
   },
   "outputs": [
    {
     "name": "stdout",
     "output_type": "stream",
     "text": [
      "['17321', '10721', '11693']\n"
     ]
    }
   ],
   "source": [
    "print(trajs_treino[0])"
   ]
  },
  {
   "cell_type": "code",
   "execution_count": 7,
   "metadata": {
    "executionInfo": {
     "elapsed": 84347,
     "status": "ok",
     "timestamp": 1697551032054,
     "user": {
      "displayName": "Wilken Charles",
      "userId": "08238201343018523362"
     },
     "user_tz": 180
    },
    "id": "8dj5GJzo1NgN"
   },
   "outputs": [],
   "source": [
    "tagged_docs = [TaggedDocument(doc, [i]) for i, doc in enumerate(trajs_treino)]"
   ]
  },
  {
   "cell_type": "code",
   "execution_count": 8,
   "metadata": {
    "colab": {
     "base_uri": "https://localhost:8080/"
    },
    "executionInfo": {
     "elapsed": 21,
     "status": "ok",
     "timestamp": 1697551032055,
     "user": {
      "displayName": "Wilken Charles",
      "userId": "08238201343018523362"
     },
     "user_tz": 180
    },
    "id": "zqLQCkZKMsfH",
    "outputId": "9913c777-6077-4dfd-9122-9d520f8e2ff4"
   },
   "outputs": [
    {
     "data": {
      "text/plain": [
       "TaggedDocument(words=['17321', '10721', '11693'], tags=[0])"
      ]
     },
     "execution_count": 8,
     "metadata": {},
     "output_type": "execute_result"
    }
   ],
   "source": [
    "tagged_docs[0]"
   ]
  },
  {
   "cell_type": "code",
   "execution_count": 9,
   "metadata": {
    "colab": {
     "base_uri": "https://localhost:8080/"
    },
    "executionInfo": {
     "elapsed": 18,
     "status": "ok",
     "timestamp": 1697551032055,
     "user": {
      "displayName": "Wilken Charles",
      "userId": "08238201343018523362"
     },
     "user_tz": 180
    },
    "id": "5iEBup71NH4M",
    "outputId": "65a40d7b-2176-4f64-8b7e-ac42154dbbd6"
   },
   "outputs": [
    {
     "data": {
      "text/plain": [
       "TaggedDocument(words=['10721', '11693', '10721'], tags=[90])"
      ]
     },
     "execution_count": 9,
     "metadata": {},
     "output_type": "execute_result"
    }
   ],
   "source": [
    "tagged_docs[90]"
   ]
  },
  {
   "cell_type": "code",
   "execution_count": 10,
   "metadata": {
    "colab": {
     "base_uri": "https://localhost:8080/"
    },
    "executionInfo": {
     "elapsed": 18,
     "status": "ok",
     "timestamp": 1697551671372,
     "user": {
      "displayName": "Wilken Charles",
      "userId": "08238201343018523362"
     },
     "user_tz": 180
    },
    "id": "k63bDk_XFNSz",
    "outputId": "ad2f7f10-7616-440b-862c-344ec83ac8ca"
   },
   "outputs": [],
   "source": [
    "dm = 0"
   ]
  },
  {
   "cell_type": "code",
   "execution_count": 11,
   "metadata": {},
   "outputs": [
    {
     "name": "stdout",
     "output_type": "stream",
     "text": [
      "CPU times: user 1h 47min 43s, sys: 12min 54s, total: 2h 37s\n",
      "Wall time: 1h 48s\n"
     ]
    }
   ],
   "source": [
    "%%time\n",
    "\"\"\"\n",
    "Training algorithm: Distributed Memory (Similar ao CBOW) or Distributed Bag of Words (Similar ao Skip-gram)\n",
    "Parameter --> dm: {0, 1} (0 for DBW, 1 for DM)\n",
    "\"\"\"\n",
    "model = Doc2Vec(tagged_docs, vector_size=512, window=5, min_count=1, epochs=30, dm=dm, workers=4)"
   ]
  },
  {
   "cell_type": "code",
   "execution_count": 12,
   "metadata": {},
   "outputs": [],
   "source": [
    "# Salvando o modelo...\n",
    "model.save('../data/saved_models/D2V/d2v_w{}_s{}_ep{}_dm{}.model'.format(model.window, model.vector_size, model.epochs, dm))"
   ]
  },
  {
   "cell_type": "code",
   "execution_count": 23,
   "metadata": {},
   "outputs": [
    {
     "name": "stdout",
     "output_type": "stream",
     "text": [
      "CPU times: user 1h 29min 43s, sys: 13min 9s, total: 1h 42min 52s\n",
      "Wall time: 1h 37s\n"
     ]
    }
   ],
   "source": [
    "%%time\n",
    "\"\"\"\n",
    "Training algorithm: Distributed Memory (Similar ao CBOW) or Distributed Bag of Words (Similar ao Skip-gram)\n",
    "Parameter --> dm: {0, 1} (0 for DBW, 1 for DM)\n",
    "\"\"\"\n",
    "model = Doc2Vec(tagged_docs, vector_size=256, window=5, min_count=1, epochs=30, dm=dm, workers=4)"
   ]
  },
  {
   "cell_type": "code",
   "execution_count": 24,
   "metadata": {},
   "outputs": [],
   "source": [
    "# Salvando o modelo...\n",
    "model.save('../data/saved_models/D2V/d2v_w{}_s{}_ep{}_dm{}.model'.format(model.window, model.vector_size, model.epochs, dm))"
   ]
  },
  {
   "cell_type": "code",
   "execution_count": 11,
   "metadata": {},
   "outputs": [
    {
     "name": "stdout",
     "output_type": "stream",
     "text": [
      "CPU times: user 1h 9min 15s, sys: 5min 44s, total: 1h 14min 59s\n",
      "Wall time: 52min 4s\n"
     ]
    }
   ],
   "source": [
    "%%time\n",
    "\"\"\"\n",
    "Training algorithm: Distributed Memory (Similar ao CBOW) or Distributed Bag of Words (Similar ao Skip-gram)\n",
    "Parameter --> dm: {0, 1} (0 for DBW, 1 for DM)\n",
    "\"\"\"\n",
    "model = Doc2Vec(tagged_docs, vector_size=128, window=5, min_count=1, epochs=30, dm=dm, workers=4)"
   ]
  },
  {
   "cell_type": "code",
   "execution_count": 12,
   "metadata": {},
   "outputs": [],
   "source": [
    "# Salvando o modelo...\n",
    "model.save('../data/saved_models/D2V/d2v_w{}_s{}_ep{}_dm{}.model'.format(model.window, model.vector_size, model.epochs, dm))"
   ]
  },
  {
   "cell_type": "code",
   "execution_count": 12,
   "metadata": {},
   "outputs": [
    {
     "name": "stdout",
     "output_type": "stream",
     "text": [
      "CPU times: user 2min 11s, sys: 9.55 s, total: 2min 21s\n",
      "Wall time: 1min 38s\n"
     ]
    }
   ],
   "source": [
    "%%time\n",
    "\"\"\"\n",
    "Training algorithm: Distributed Memory (Similar ao CBOW) or Distributed Bag of Words (Similar ao Skip-gram)\n",
    "Parameter --> dm: {0, 1} (0 for DBW, 1 for DM)\n",
    "\"\"\"\n",
    "model = Doc2Vec(tagged_docs, vector_size=64, window=5, min_count=1, epochs=1, dm=dm, workers=4)"
   ]
  },
  {
   "cell_type": "code",
   "execution_count": 13,
   "metadata": {},
   "outputs": [],
   "source": [
    "# Salvando o modelo...\n",
    "model.save('../data/saved_models/D2V/d2v_w{}_s{}_ep{}_dm{}.model'.format(model.window, model.vector_size, model.epochs, dm))"
   ]
  },
  {
   "cell_type": "code",
   "execution_count": 14,
   "metadata": {},
   "outputs": [
    {
     "name": "stdout",
     "output_type": "stream",
     "text": [
      "CPU times: user 11min 31s, sys: 53 s, total: 12min 24s\n",
      "Wall time: 8min 31s\n"
     ]
    }
   ],
   "source": [
    "%%time\n",
    "\"\"\"\n",
    "Training algorithm: Distributed Memory (Similar ao CBOW) or Distributed Bag of Words (Similar ao Skip-gram)\n",
    "Parameter --> dm: {0, 1} (0 for DBW, 1 for DM)\n",
    "\"\"\"\n",
    "model = Doc2Vec(tagged_docs, vector_size=64, window=5, min_count=1, epochs=5, dm=dm, workers=4)"
   ]
  },
  {
   "cell_type": "code",
   "execution_count": 15,
   "metadata": {},
   "outputs": [],
   "source": [
    "# Salvando o modelo...\n",
    "model.save('../data/saved_models/D2V/d2v_w{}_s{}_ep{}_dm{}.model'.format(model.window, model.vector_size, model.epochs, dm))"
   ]
  },
  {
   "cell_type": "code",
   "execution_count": 18,
   "metadata": {},
   "outputs": [
    {
     "name": "stdout",
     "output_type": "stream",
     "text": [
      "CPU times: user 23min 33s, sys: 1min 49s, total: 25min 22s\n",
      "Wall time: 20min 42s\n"
     ]
    }
   ],
   "source": [
    "%%time\n",
    "\"\"\"\n",
    "Training algorithm: Distributed Memory (Similar ao CBOW) or Distributed Bag of Words (Similar ao Skip-gram)\n",
    "Parameter --> dm: {0, 1} (0 for DBW, 1 for DM)\n",
    "\"\"\"\n",
    "model = Doc2Vec(tagged_docs, vector_size=64, window=5, min_count=1, epochs=10, dm=dm, workers=4)"
   ]
  },
  {
   "cell_type": "code",
   "execution_count": 19,
   "metadata": {},
   "outputs": [],
   "source": [
    "# Salvando o modelo...\n",
    "model.save('../data/saved_models/D2V/d2v_w{}_s{}_ep{}_dm{}.model'.format(model.window, model.vector_size, model.epochs, dm))"
   ]
  },
  {
   "cell_type": "code",
   "execution_count": 20,
   "metadata": {},
   "outputs": [
    {
     "name": "stdout",
     "output_type": "stream",
     "text": [
      "CPU times: user 44min 34s, sys: 3min 33s, total: 48min 8s\n",
      "Wall time: 33min 57s\n"
     ]
    }
   ],
   "source": [
    "%%time\n",
    "\"\"\"\n",
    "Training algorithm: Distributed Memory (Similar ao CBOW) or Distributed Bag of Words (Similar ao Skip-gram)\n",
    "Parameter --> dm: {0, 1} (0 for DBW, 1 for DM)\n",
    "\"\"\"\n",
    "model = Doc2Vec(tagged_docs, vector_size=64, window=5, min_count=1, epochs=20, dm=dm, workers=4)"
   ]
  },
  {
   "cell_type": "code",
   "execution_count": 21,
   "metadata": {},
   "outputs": [],
   "source": [
    "# Salvando o modelo...\n",
    "model.save('../data/saved_models/D2V/d2v_w{}_s{}_ep{}_dm{}.model'.format(model.window, model.vector_size, model.epochs, dm))"
   ]
  },
  {
   "cell_type": "code",
   "execution_count": 22,
   "metadata": {
    "scrolled": true
   },
   "outputs": [
    {
     "name": "stdout",
     "output_type": "stream",
     "text": [
      "CPU times: user 1h 5min 35s, sys: 5min 17s, total: 1h 10min 53s\n",
      "Wall time: 50min 47s\n"
     ]
    }
   ],
   "source": [
    "%%time\n",
    "\"\"\"\n",
    "Training algorithm: Distributed Memory (Similar ao CBOW) or Distributed Bag of Words (Similar ao Skip-gram)\n",
    "Parameter --> dm: {0, 1} (0 for DBW, 1 for DM)\n",
    "\"\"\"\n",
    "model = Doc2Vec(tagged_docs, vector_size=64, window=5, min_count=1, epochs=30, dm=dm, workers=4)"
   ]
  },
  {
   "cell_type": "code",
   "execution_count": 23,
   "metadata": {},
   "outputs": [],
   "source": [
    "# Salvando o modelo...\n",
    "model.save('../data/saved_models/D2V/d2v_w{}_s{}_ep{}_dm{}.model'.format(model.window, model.vector_size, model.epochs, dm))"
   ]
  },
  {
   "cell_type": "code",
   "execution_count": 24,
   "metadata": {},
   "outputs": [
    {
     "name": "stdout",
     "output_type": "stream",
     "text": [
      "CPU times: user 1h 26min 6s, sys: 7min 1s, total: 1h 33min 8s\n",
      "Wall time: 1h 10min 17s\n"
     ]
    }
   ],
   "source": [
    "%%time\n",
    "\"\"\"\n",
    "Training algorithm: Distributed Memory (Similar ao CBOW) or Distributed Bag of Words (Similar ao Skip-gram)\n",
    "Parameter --> dm: {0, 1} (0 for DBW, 1 for DM)\n",
    "\"\"\"\n",
    "model = Doc2Vec(tagged_docs, vector_size=64, window=5, min_count=1, epochs=40, dm=dm, workers=4)"
   ]
  },
  {
   "cell_type": "code",
   "execution_count": 25,
   "metadata": {},
   "outputs": [],
   "source": [
    "# Salvando o modelo...\n",
    "model.save('../data/saved_models/D2V/d2v_w{}_s{}_ep{}_dm{}.model'.format(model.window, model.vector_size, model.epochs, dm))"
   ]
  },
  {
   "cell_type": "code",
   "execution_count": 26,
   "metadata": {},
   "outputs": [
    {
     "name": "stdout",
     "output_type": "stream",
     "text": [
      "CPU times: user 1h 49min 57s, sys: 8min 57s, total: 1h 58min 54s\n",
      "Wall time: 1h 36min 36s\n"
     ]
    }
   ],
   "source": [
    "%%time\n",
    "\"\"\"\n",
    "Training algorithm: Distributed Memory (Similar ao CBOW) or Distributed Bag of Words (Similar ao Skip-gram)\n",
    "Parameter --> dm: {0, 1} (0 for DBW, 1 for DM)\n",
    "\"\"\"\n",
    "model = Doc2Vec(tagged_docs, vector_size=64, window=5, min_count=1, epochs=50, dm=dm, workers=4)"
   ]
  },
  {
   "cell_type": "code",
   "execution_count": 27,
   "metadata": {},
   "outputs": [],
   "source": [
    "# Salvando o modelo...\n",
    "model.save('../data/saved_models/D2V/d2v_w{}_s{}_ep{}_dm{}.model'.format(model.window, model.vector_size, model.epochs, dm))"
   ]
  },
  {
   "cell_type": "code",
   "execution_count": 28,
   "metadata": {
    "colab": {
     "base_uri": "https://localhost:8080/"
    },
    "executionInfo": {
     "elapsed": 639331,
     "status": "ok",
     "timestamp": 1697551671371,
     "user": {
      "displayName": "Wilken Charles",
      "userId": "08238201343018523362"
     },
     "user_tz": 180
    },
    "id": "UBK6P7v41XOr",
    "outputId": "4bf19723-18c0-4a5a-cb5a-5553effa2a6f"
   },
   "outputs": [
    {
     "name": "stdout",
     "output_type": "stream",
     "text": [
      "CPU times: user 3h 31min 17s, sys: 17min 45s, total: 3h 49min 2s\n",
      "Wall time: 2h 56min 57s\n"
     ]
    }
   ],
   "source": [
    "%%time\n",
    "\"\"\"\n",
    "Training algorithm: Distributed Memory (Similar ao CBOW) or Distributed Bag of Words (Similar ao Skip-gram)\n",
    "Parameter --> dm: {0, 1} (0 for DBW, 1 for DM)\n",
    "\"\"\"\n",
    "model = Doc2Vec(tagged_docs, vector_size=64, window=5, min_count=1, epochs=100, dm=dm, workers=4)"
   ]
  },
  {
   "cell_type": "code",
   "execution_count": 29,
   "metadata": {
    "executionInfo": {
     "elapsed": 131380,
     "status": "ok",
     "timestamp": 1697546065158,
     "user": {
      "displayName": "Wilken Charles",
      "userId": "08238201343018523362"
     },
     "user_tz": 180
    },
    "id": "al7gvXSnRH8M"
   },
   "outputs": [],
   "source": [
    "# Salvando o modelo...\n",
    "model.save('../data/saved_models/D2V/d2v_w{}_s{}_ep{}_dm{}.model'.format(model.window, model.vector_size, model.epochs, dm))"
   ]
  }
 ],
 "metadata": {
  "accelerator": "GPU",
  "colab": {
   "authorship_tag": "ABX9TyOyPGIAs23gYYhyLI4nvOIb",
   "gpuType": "A100",
   "machine_shape": "hm",
   "mount_file_id": "1vlMGqkvue2rdKR45Uhr1cH51SVR9ZEa1",
   "provenance": []
  },
  "kernelspec": {
   "display_name": "Python 3 (ipykernel)",
   "language": "python",
   "name": "python3"
  },
  "language_info": {
   "codemirror_mode": {
    "name": "ipython",
    "version": 3
   },
   "file_extension": ".py",
   "mimetype": "text/x-python",
   "name": "python",
   "nbconvert_exporter": "python",
   "pygments_lexer": "ipython3",
   "version": "3.7.12"
  }
 },
 "nbformat": 4,
 "nbformat_minor": 1
}
