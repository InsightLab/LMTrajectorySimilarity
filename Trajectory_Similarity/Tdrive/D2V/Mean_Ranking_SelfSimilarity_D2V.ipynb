{
 "cells": [
  {
   "cell_type": "code",
   "execution_count": 1,
   "metadata": {
    "executionInfo": {
     "elapsed": 267,
     "status": "ok",
     "timestamp": 1697549081634,
     "user": {
      "displayName": "Wilken Charles",
      "userId": "08238201343018523362"
     },
     "user_tz": 180
    },
    "id": "aqgeBfcey_BM"
   },
   "outputs": [],
   "source": [
    "import gensim\n",
    "import numpy as np\n",
    "import pandas as pd\n",
    "import scipy.stats as st\n",
    "\n",
    "from sklearn.metrics.pairwise import cosine_distances\n",
    "from gensim.models.doc2vec import Doc2Vec, TaggedDocument"
   ]
  },
  {
   "cell_type": "code",
   "execution_count": 2,
   "metadata": {
    "colab": {
     "base_uri": "https://localhost:8080/"
    },
    "executionInfo": {
     "elapsed": 1383,
     "status": "ok",
     "timestamp": 1697548215803,
     "user": {
      "displayName": "Wilken Charles",
      "userId": "08238201343018523362"
     },
     "user_tz": 180
    },
    "id": "MtzwIUgkdm6n",
    "outputId": "da459d98-b3bf-4ae3-a71e-ee0483f24590"
   },
   "outputs": [
    {
     "name": "stdout",
     "output_type": "stream",
     "text": [
      "3\r\n",
      "3\r\n",
      "3\r\n",
      "3\r\n",
      "3\r\n",
      "3\r\n",
      "3\r\n",
      "3\r\n",
      "3\r\n",
      "3\r\n",
      "9926 3189 88 7163 4076 13490 19059 13124 7310 5479\r\n",
      "9042 3107 4616 5742 4717 6339 15188 18899 14919 7274 11265 1081 7609 1351 393\r\n",
      "427 5334 8388 8967 4445 2056\r\n",
      "542 4013 17293 3322 11357 483 11138\r\n",
      "481 8071 657 2231 1769 173 1579 6198\r\n",
      "854 3107 5989 8778 6218 7338\r\n",
      "5773 8574 13056 11926 15551 6461\r\n",
      "4134 3764 9341 15412 13024 9086\r\n",
      "962 9873 469 373 6096 567 8620\r\n",
      "14405 4076 5305 3107 6807 1155\r\n"
     ]
    }
   ],
   "source": [
    "!head -n 20 '../data/exp1-trj.t'"
   ]
  },
  {
   "cell_type": "code",
   "execution_count": 3,
   "metadata": {
    "executionInfo": {
     "elapsed": 972,
     "status": "ok",
     "timestamp": 1697548231853,
     "user": {
      "displayName": "Wilken Charles",
      "userId": "08238201343018523362"
     },
     "user_tz": 180
    },
    "id": "Q8t6_YEezUds"
   },
   "outputs": [],
   "source": [
    "with open('../data/exp1-trj.t', 'r') as file:\n",
    "    trajs_teste = []\n",
    "\n",
    "    for line in file:\n",
    "        traj = line.strip().split()# Divide cada linha(traj) em cels usando espaço como delimitador e convertendo-as em strings\n",
    "        trajs_teste.append(traj)"
   ]
  },
  {
   "cell_type": "code",
   "execution_count": 4,
   "metadata": {
    "colab": {
     "base_uri": "https://localhost:8080/"
    },
    "executionInfo": {
     "elapsed": 282,
     "status": "ok",
     "timestamp": 1697548249394,
     "user": {
      "displayName": "Wilken Charles",
      "userId": "08238201343018523362"
     },
     "user_tz": 180
    },
    "id": "MmrzMCVE8LVv",
    "outputId": "3f214258-544b-42f5-9562-8f9c5f51c619"
   },
   "outputs": [
    {
     "name": "stdout",
     "output_type": "stream",
     "text": [
      "Quantidade de trajetórias de teste: 50500\n"
     ]
    }
   ],
   "source": [
    "print(\"Quantidade de trajetórias de teste:\", len(trajs_teste))"
   ]
  },
  {
   "cell_type": "code",
   "execution_count": 5,
   "metadata": {
    "colab": {
     "base_uri": "https://localhost:8080/"
    },
    "executionInfo": {
     "elapsed": 4,
     "status": "ok",
     "timestamp": 1697548262871,
     "user": {
      "displayName": "Wilken Charles",
      "userId": "08238201343018523362"
     },
     "user_tz": 180
    },
    "id": "rj5aePi08Tbc",
    "outputId": "6163a528-d906-44fc-cb20-d45412a42bd1"
   },
   "outputs": [
    {
     "name": "stdout",
     "output_type": "stream",
     "text": [
      "['9926', '3189', '88', '7163', '4076', '13490', '19059', '13124', '7310', '5479']\n"
     ]
    }
   ],
   "source": [
    "print(trajs_teste[10]) # query par"
   ]
  },
  {
   "cell_type": "code",
   "execution_count": 6,
   "metadata": {},
   "outputs": [
    {
     "name": "stdout",
     "output_type": "stream",
     "text": [
      "['9926', '8231', '92', '12594', '14968', '11048', '7821', '577']\n"
     ]
    }
   ],
   "source": [
    "print(trajs_teste[510]) # \"alvo\" da query par, ou seja, a query ímpar"
   ]
  },
  {
   "cell_type": "code",
   "execution_count": 7,
   "metadata": {
    "colab": {
     "base_uri": "https://localhost:8080/"
    },
    "executionInfo": {
     "elapsed": 297,
     "status": "ok",
     "timestamp": 1697548271367,
     "user": {
      "displayName": "Wilken Charles",
      "userId": "08238201343018523362"
     },
     "user_tz": 180
    },
    "id": "19wRcg6qCpGt",
    "outputId": "de449599-b0f5-452d-d206-bb8721009c01"
   },
   "outputs": [
    {
     "name": "stdout",
     "output_type": "stream",
     "text": [
      "d2v_w5_s512_ep30_dm0.model\r\n",
      "d2v_w5_s512_ep30_dm0.model.dv.vectors.npy\r\n",
      "d2v_w5_s64_ep30_dm0.model\r\n",
      "d2v_w5_s64_ep30_dm0.model.dv.vectors.npy\r\n"
     ]
    }
   ],
   "source": [
    "!ls '../data/saved_models/D2V/'"
   ]
  },
  {
   "cell_type": "code",
   "execution_count": 8,
   "metadata": {
    "executionInfo": {
     "elapsed": 34776,
     "status": "ok",
     "timestamp": 1697548343218,
     "user": {
      "displayName": "Wilken Charles",
      "userId": "08238201343018523362"
     },
     "user_tz": 180
    },
    "id": "tVYlOaR_c9bL"
   },
   "outputs": [],
   "source": [
    "# Carregando o modelo...\n",
    "model = Doc2Vec.load('../data/saved_models/D2V/d2v_w5_s512_ep30_dm0.model')"
   ]
  },
  {
   "cell_type": "code",
   "execution_count": 9,
   "metadata": {
    "colab": {
     "base_uri": "https://localhost:8080/"
    },
    "executionInfo": {
     "elapsed": 5,
     "status": "ok",
     "timestamp": 1697548343818,
     "user": {
      "displayName": "Wilken Charles",
      "userId": "08238201343018523362"
     },
     "user_tz": 180
    },
    "id": "mITOJekdhIV9",
    "outputId": "9e918b8f-2c6a-4386-d393-cab785318f59"
   },
   "outputs": [
    {
     "data": {
      "text/plain": [
       "19690"
      ]
     },
     "execution_count": 9,
     "metadata": {},
     "output_type": "execute_result"
    }
   ],
   "source": [
    "# Size vocab\n",
    "len(model.wv.key_to_index)"
   ]
  },
  {
   "cell_type": "code",
   "execution_count": 10,
   "metadata": {
    "colab": {
     "base_uri": "https://localhost:8080/"
    },
    "executionInfo": {
     "elapsed": 330,
     "status": "ok",
     "timestamp": 1697548713399,
     "user": {
      "displayName": "Wilken Charles",
      "userId": "08238201343018523362"
     },
     "user_tz": 180
    },
    "id": "WeMokOs4k_lC",
    "outputId": "773f70c1-708f-4131-e22f-b993cc108384"
   },
   "outputs": [
    {
     "data": {
      "text/plain": [
       "512"
      ]
     },
     "execution_count": 10,
     "metadata": {},
     "output_type": "execute_result"
    }
   ],
   "source": [
    "model.vector_size"
   ]
  },
  {
   "cell_type": "code",
   "execution_count": 11,
   "metadata": {
    "colab": {
     "base_uri": "https://localhost:8080/"
    },
    "executionInfo": {
     "elapsed": 2852,
     "status": "ok",
     "timestamp": 1697548740469,
     "user": {
      "displayName": "Wilken Charles",
      "userId": "08238201343018523362"
     },
     "user_tz": 180
    },
    "id": "tq50FNRyyeXv",
    "outputId": "507b9b32-1ac7-4cde-f01e-e5842a17e7aa"
   },
   "outputs": [
    {
     "data": {
      "text/plain": [
       "[(13, 0.9870317578315735),\n",
       " (1131668, 0.9858295917510986),\n",
       " (1132234, 0.9857214093208313),\n",
       " (809, 0.9851027131080627),\n",
       " (1131656, 0.9838312864303589),\n",
       " (807, 0.9836079478263855),\n",
       " (1131552, 0.9835062623023987),\n",
       " (1131617, 0.9835059642791748),\n",
       " (1131627, 0.9834228754043579),\n",
       " (349, 0.983258843421936)]"
      ]
     },
     "execution_count": 11,
     "metadata": {},
     "output_type": "execute_result"
    }
   ],
   "source": [
    "# Pegando as trajetórias mais similares a trajetória id = 0\n",
    "mosts = model.dv.most_similar(0)\n",
    "mosts"
   ]
  },
  {
   "cell_type": "code",
   "execution_count": 12,
   "metadata": {
    "executionInfo": {
     "elapsed": 326,
     "status": "ok",
     "timestamp": 1697548782476,
     "user": {
      "displayName": "Wilken Charles",
      "userId": "08238201343018523362"
     },
     "user_tz": 180
    },
    "id": "gumhb7AfyeUP"
   },
   "outputs": [],
   "source": [
    "def get_embedding_for_all_trajs(trajs):\n",
    "    emb_trajs = np.zeros((len(trajs),) + (model.vector_size,), dtype=np.float32) # shape --> (len(trajs), vector_size). Ex. para Dq, shape --> (1000, 64)\n",
    "\n",
    "    idx = 0\n",
    "    for traj in trajs:\n",
    "        emb_trajs[idx] = model.infer_vector(traj, epochs=model.epochs)\n",
    "        idx += 1\n",
    "\n",
    "        percent_done = (idx / len(trajs)) * 100 # Calcula a porcentagem concluída\n",
    "        print(f\"Progresso: {percent_done:.2f}% concluído\", end=\"\\r\")  # A opção `end=\"\\r\"` permite que a impressão seja substituída na mesma linha\n",
    "\n",
    "    return emb_trajs"
   ]
  },
  {
   "cell_type": "code",
   "execution_count": 13,
   "metadata": {
    "executionInfo": {
     "elapsed": 1517,
     "status": "ok",
     "timestamp": 1697548854035,
     "user": {
      "displayName": "Wilken Charles",
      "userId": "08238201343018523362"
     },
     "user_tz": 180
    },
    "id": "6GDX7KK2yeMy"
   },
   "outputs": [],
   "source": [
    "# Segmentando: query (trajs pares) e dbsearch (querys ímpar + 49500 outras ímpares)\n",
    "query = trajs_teste[:500] # trajs query (pares)\n",
    "dbsearch = trajs_teste[500:50500] # dbsearch trajs (as 500 primeiras são as query ímpar)"
   ]
  },
  {
   "cell_type": "code",
   "execution_count": 14,
   "metadata": {
    "colab": {
     "base_uri": "https://localhost:8080/"
    },
    "executionInfo": {
     "elapsed": 286,
     "status": "ok",
     "timestamp": 1697548932885,
     "user": {
      "displayName": "Wilken Charles",
      "userId": "08238201343018523362"
     },
     "user_tz": 180
    },
    "id": "6dblsSHHyeKQ",
    "outputId": "edc079a4-8d3d-4176-b618-a4b91f1e3327"
   },
   "outputs": [
    {
     "name": "stdout",
     "output_type": "stream",
     "text": [
      "500\n",
      "50000\n"
     ]
    }
   ],
   "source": [
    "print(len(query))\n",
    "print(len(dbsearch))"
   ]
  },
  {
   "cell_type": "code",
   "execution_count": 15,
   "metadata": {
    "colab": {
     "base_uri": "https://localhost:8080/"
    },
    "executionInfo": {
     "elapsed": 774,
     "status": "ok",
     "timestamp": 1697548949532,
     "user": {
      "displayName": "Wilken Charles",
      "userId": "08238201343018523362"
     },
     "user_tz": 180
    },
    "id": "ZefWaXD_y_cF",
    "outputId": "327faafe-5285-4c41-9272-da41238c39ea"
   },
   "outputs": [
    {
     "name": "stdout",
     "output_type": "stream",
     "text": [
      "Progresso: 100.00% concluído\r"
     ]
    }
   ],
   "source": [
    "# Pegando os embeddings das trajs query:\n",
    "query = get_embedding_for_all_trajs(query)"
   ]
  },
  {
   "cell_type": "code",
   "execution_count": 16,
   "metadata": {
    "colab": {
     "base_uri": "https://localhost:8080/"
    },
    "executionInfo": {
     "elapsed": 48509,
     "status": "ok",
     "timestamp": 1697549026734,
     "user": {
      "displayName": "Wilken Charles",
      "userId": "08238201343018523362"
     },
     "user_tz": 180
    },
    "id": "ukY6pelpy_XE",
    "outputId": "d2b0182f-cd7c-4879-a464-cdb9f82466ca"
   },
   "outputs": [
    {
     "name": "stdout",
     "output_type": "stream",
     "text": [
      "Progresso: 100.00% concluído\r"
     ]
    }
   ],
   "source": [
    "# Pegando os embeddings das trajs do dbsearch:\n",
    "dbsearch = get_embedding_for_all_trajs(dbsearch)"
   ]
  },
  {
   "cell_type": "code",
   "execution_count": 17,
   "metadata": {
    "executionInfo": {
     "elapsed": 7,
     "status": "ok",
     "timestamp": 1697549026735,
     "user": {
      "displayName": "Wilken Charles",
      "userId": "08238201343018523362"
     },
     "user_tz": 180
    },
    "id": "PJGYD4d6y_Uu"
   },
   "outputs": [],
   "source": [
    "def rank(t_query, i, db_search):\n",
    "    dists = cosine_distances(t_query.reshape(1, -1), db_search) # pega todas as distâncias de Dq[i] as trajs do db_search (D_qUD_p)\n",
    "    dists = dists.flatten()\n",
    "    order = dists.argsort() # pega a ordem\n",
    "    ranks = order.argsort() # pega o rank\n",
    "\n",
    "    return ranks[i] + 1 # retorna o ranking de ta' no dbsearch | soma +1 pq o argsort rankea a partir de 0 (zero)"
   ]
  },
  {
   "cell_type": "code",
   "execution_count": 18,
   "metadata": {
    "executionInfo": {
     "elapsed": 6,
     "status": "ok",
     "timestamp": 1697549026735,
     "user": {
      "displayName": "Wilken Charles",
      "userId": "08238201343018523362"
     },
     "user_tz": 180
    },
    "id": "Rxlewk3Ay_Rt"
   },
   "outputs": [],
   "source": [
    "def acc(ranks):\n",
    "    count = 0\n",
    "    for i in range(len(ranks)):\n",
    "        if ranks[i] == 1:\n",
    "            count += 1\n",
    "\n",
    "    return round(count/len(ranks), 2)"
   ]
  },
  {
   "cell_type": "code",
   "execution_count": 19,
   "metadata": {
    "executionInfo": {
     "elapsed": 5,
     "status": "ok",
     "timestamp": 1697549026735,
     "user": {
      "displayName": "Wilken Charles",
      "userId": "08238201343018523362"
     },
     "user_tz": 180
    },
    "id": "ZpgaRmRfzjAb"
   },
   "outputs": [],
   "source": [
    "def mr(ranks):\n",
    "    return (sum(ranks)/len(ranks))"
   ]
  },
  {
   "cell_type": "code",
   "execution_count": 20,
   "metadata": {
    "executionInfo": {
     "elapsed": 3,
     "status": "ok",
     "timestamp": 1697549037453,
     "user": {
      "displayName": "Wilken Charles",
      "userId": "08238201343018523362"
     },
     "user_tz": 180
    },
    "id": "KOYeynDwzi97"
   },
   "outputs": [],
   "source": [
    "def mrr(ranks):\n",
    "    count = 0\n",
    "    for i in range(len(ranks)):\n",
    "        count += 1/ranks[i]\n",
    "\n",
    "    return round(count/len(ranks), 2)"
   ]
  },
  {
   "cell_type": "code",
   "execution_count": 21,
   "metadata": {
    "executionInfo": {
     "elapsed": 473,
     "status": "ok",
     "timestamp": 1697549307006,
     "user": {
      "displayName": "Wilken Charles",
      "userId": "08238201343018523362"
     },
     "user_tz": 180
    },
    "id": "TlJZpKf0zi7S"
   },
   "outputs": [],
   "source": [
    "# Intervalo de Confiança do Ranks\n",
    "def cip_r(ranks):\n",
    "    data = []\n",
    "    for i in range(len(ranks)):\n",
    "        data.append(ranks[i]) # Add os Ranks\n",
    "\n",
    "    #create 95% confidence interval for population mean weight\n",
    "    ic = st.t.interval(alpha=0.95, df=len(data)-1, loc=np.mean(data), scale=st.sem(data))\n",
    "\n",
    "    return tuple(round(valor, 3) for valor in ic) # arredonda pra 3 casas decimais"
   ]
  },
  {
   "cell_type": "code",
   "execution_count": 22,
   "metadata": {
    "executionInfo": {
     "elapsed": 2,
     "status": "ok",
     "timestamp": 1697549307589,
     "user": {
      "displayName": "Wilken Charles",
      "userId": "08238201343018523362"
     },
     "user_tz": 180
    },
    "id": "yQ0cHmk9zi2Z"
   },
   "outputs": [],
   "source": [
    "# Intervalo de Confiança dos Reciprocal Ranks\n",
    "def cip_rr(ranks):\n",
    "    data = []\n",
    "    for i in range(len(ranks)):\n",
    "        data.append(1/ranks[i]) # Add os RRs...\n",
    "\n",
    "    #create 95% confidence interval for population mean weight\n",
    "    ic = st.t.interval(alpha=0.95, df=len(data)-1, loc=np.mean(data), scale=st.sem(data))\n",
    "\n",
    "    return tuple(round(valor, 3) for valor in ic) # arredonda pra 3 casas decimais"
   ]
  },
  {
   "cell_type": "code",
   "execution_count": 23,
   "metadata": {},
   "outputs": [
    {
     "name": "stdout",
     "output_type": "stream",
     "text": [
      "Mean rank: 115.628(88.274, 142.982), Acc: 0.47, MRR: 0.55(0.506, 0.584) with dbsearch size: 10000\n",
      "Mean rank: 215.004(163.783, 266.225), Acc: 0.44, MRR: 0.52(0.476, 0.555) with dbsearch size: 20000\n",
      "Mean rank: 301.128(229.488, 372.768), Acc: 0.42, MRR: 0.49(0.452, 0.531) with dbsearch size: 30000\n",
      "Mean rank: 381.74(291.096, 472.384), Acc: 0.41, MRR: 0.48(0.439, 0.519) with dbsearch size: 40000\n",
      "Mean rank: 498.948(380.017, 617.879), Acc: 0.41, MRR: 0.47(0.433, 0.513) with dbsearch size: 50000\n",
      "CPU times: user 7min 33s, sys: 18min 48s, total: 26min 21s\n",
      "Wall time: 6min 41s\n"
     ]
    }
   ],
   "source": [
    "%%time\n",
    "# d2v_w5_s512_ep30_dm0.model\n",
    "dbsizes = [10000, 20000, 30000, 40000, 50000]\n",
    "for dbsize in dbsizes:\n",
    "    ranks = []\n",
    "    search = dbsearch[:dbsize]\n",
    "    for i in range(len(query)):\n",
    "        ranks.append(rank(query[i], i, search)) # rank das ta no dbsearch!\n",
    "    print('Mean rank: {}{}, Acc: {}, MRR: {}{} with dbsearch size: {}'.format(mr(ranks), cip_r(ranks), acc(ranks), mrr(ranks), cip_rr(ranks), dbsize))"
   ]
  },
  {
   "cell_type": "code",
   "execution_count": 23,
   "metadata": {},
   "outputs": [
    {
     "name": "stdout",
     "output_type": "stream",
     "text": [
      "Mean rank: 117.976(90.709, 145.243), Acc: 0.49, MRR: 0.56(0.518, 0.597) with dbsearch size: 10000\n",
      "Mean rank: 220.76(169.203, 272.317), Acc: 0.46, MRR: 0.53(0.489, 0.568) with dbsearch size: 20000\n",
      "Mean rank: 308.78(237.004, 380.556), Acc: 0.44, MRR: 0.51(0.466, 0.546) with dbsearch size: 30000\n",
      "Mean rank: 390.98(300.267, 481.693), Acc: 0.43, MRR: 0.49(0.453, 0.533) with dbsearch size: 40000\n",
      "Mean rank: 511.966(392.292, 631.64), Acc: 0.42, MRR: 0.48(0.443, 0.523) with dbsearch size: 50000\n",
      "CPU times: user 5min 26s, sys: 15min 41s, total: 21min 7s\n",
      "Wall time: 5min 19s\n"
     ]
    }
   ],
   "source": [
    "%%time\n",
    "# d2v_w5_s128_ep30_dm0.model\n",
    "dbsizes = [10000, 20000, 30000, 40000, 50000]\n",
    "for dbsize in dbsizes:\n",
    "    ranks = []\n",
    "    search = dbsearch[:dbsize]\n",
    "    for i in range(len(query)):\n",
    "        ranks.append(rank(query[i], i, search)) # rank das ta no dbsearch!\n",
    "    print('Mean rank: {}{}, Acc: {}, MRR: {}{} with dbsearch size: {}'.format(mr(ranks), cip_r(ranks), acc(ranks), mrr(ranks), cip_rr(ranks), dbsize))"
   ]
  },
  {
   "cell_type": "code",
   "execution_count": 36,
   "metadata": {
    "colab": {
     "base_uri": "https://localhost:8080/"
    },
    "executionInfo": {
     "elapsed": 157861,
     "status": "ok",
     "timestamp": 1697549466414,
     "user": {
      "displayName": "Wilken Charles",
      "userId": "08238201343018523362"
     },
     "user_tz": 180
    },
    "id": "D82X900Izx8l",
    "outputId": "2377a5b8-5272-4e9f-92c9-ff2ac1b98046"
   },
   "outputs": [
    {
     "name": "stdout",
     "output_type": "stream",
     "text": [
      "Mean rank: 2040.386(1831.495, 2249.277), Acc: 0.02, MRR: 0.04(0.03, 0.057) with dbsearch size: 10000\n",
      "Mean rank: 4079.408(3658.796, 4500.02), Acc: 0.02, MRR: 0.03(0.022, 0.048) with dbsearch size: 20000\n",
      "Mean rank: 6155.294(5518.514, 6792.074), Acc: 0.02, MRR: 0.03(0.019, 0.043) with dbsearch size: 30000\n",
      "Mean rank: 8349.212(7488.715, 9209.709), Acc: 0.02, MRR: 0.03(0.019, 0.043) with dbsearch size: 40000\n",
      "Mean rank: 10446.29(9371.695, 11520.885), Acc: 0.02, MRR: 0.03(0.018, 0.042) with dbsearch size: 50000\n",
      "CPU times: user 4min 10s, sys: 12min 56s, total: 17min 7s\n",
      "Wall time: 4min 39s\n"
     ]
    }
   ],
   "source": [
    "%%time\n",
    "# d2v_w5_s64_ep1_dm0.model\n",
    "dbsizes = [10000, 20000, 30000, 40000, 50000]\n",
    "for dbsize in dbsizes:\n",
    "    ranks = []\n",
    "    search = dbsearch[:dbsize]\n",
    "    for i in range(len(query)):\n",
    "        ranks.append(rank(query[i], i, search)) # rank das ta no dbsearch!\n",
    "    print('Mean rank: {}{}, Acc: {}, MRR: {}{} with dbsearch size: {}'.format(mr(ranks), cip_r(ranks), acc(ranks), mrr(ranks), cip_rr(ranks), dbsize))"
   ]
  },
  {
   "cell_type": "code",
   "execution_count": 112,
   "metadata": {},
   "outputs": [
    {
     "name": "stdout",
     "output_type": "stream",
     "text": [
      "Mean rank: 431.646(287.203, 576.089), Acc: 0.42, MRR: 0.49(0.453, 0.532) with dbsearch size: 10000\n",
      "Mean rank: 866.47(575.451, 1157.489), Acc: 0.37, MRR: 0.44(0.397, 0.475) with dbsearch size: 20000\n",
      "Mean rank: 1302.85(863.755, 1741.945), Acc: 0.34, MRR: 0.4(0.366, 0.444) with dbsearch size: 30000\n",
      "Mean rank: 1728.682(1143.171, 2314.193), Acc: 0.31, MRR: 0.38(0.343, 0.42) with dbsearch size: 40000\n",
      "Mean rank: 2158.192(1428.54, 2887.844), Acc: 0.3, MRR: 0.37(0.33, 0.406) with dbsearch size: 50000\n",
      "CPU times: user 3min 12s, sys: 9min 57s, total: 13min 10s\n",
      "Wall time: 3min 40s\n"
     ]
    }
   ],
   "source": [
    "%%time\n",
    "# d2v_w5_s64_ep5_dm0.model\n",
    "dbsizes = [10000, 20000, 30000, 40000, 50000]\n",
    "for dbsize in dbsizes:\n",
    "    ranks = []\n",
    "    search = dbsearch[:dbsize]\n",
    "    for i in range(len(query)):\n",
    "        ranks.append(rank(query[i], i, search)) # rank das ta no dbsearch!\n",
    "    print('Mean rank: {}{}, Acc: {}, MRR: {}{} with dbsearch size: {}'.format(mr(ranks), cip_r(ranks), acc(ranks), mrr(ranks), cip_rr(ranks), dbsize))"
   ]
  },
  {
   "cell_type": "code",
   "execution_count": 128,
   "metadata": {},
   "outputs": [
    {
     "name": "stdout",
     "output_type": "stream",
     "text": [
      "Mean rank: 174.19(98.7, 249.68), Acc: 0.54, MRR: 0.6(0.564, 0.643) with dbsearch size: 10000\n",
      "Mean rank: 337.208(186.955, 487.461), Acc: 0.49, MRR: 0.56(0.521, 0.6) with dbsearch size: 20000\n",
      "Mean rank: 492.096(267.08, 717.112), Acc: 0.46, MRR: 0.53(0.487, 0.566) with dbsearch size: 30000\n",
      "Mean rank: 636.986(339.296, 934.676), Acc: 0.45, MRR: 0.51(0.473, 0.554) with dbsearch size: 40000\n",
      "Mean rank: 811.684(438.229, 1185.139), Acc: 0.44, MRR: 0.5(0.464, 0.544) with dbsearch size: 50000\n",
      "CPU times: user 3min 15s, sys: 10min 5s, total: 13min 21s\n",
      "Wall time: 3min 43s\n"
     ]
    }
   ],
   "source": [
    "%%time\n",
    "# d2v_w5_s64_ep10_dm0.model\n",
    "dbsizes = [10000, 20000, 30000, 40000, 50000]\n",
    "for dbsize in dbsizes:\n",
    "    ranks = []\n",
    "    search = dbsearch[:dbsize]\n",
    "    for i in range(len(query)):\n",
    "        ranks.append(rank(query[i], i, search)) # rank das ta no dbsearch!\n",
    "    print('Mean rank: {}{}, Acc: {}, MRR: {}{} with dbsearch size: {}'.format(mr(ranks), cip_r(ranks), acc(ranks), mrr(ranks), cip_rr(ranks), dbsize))"
   ]
  },
  {
   "cell_type": "code",
   "execution_count": 144,
   "metadata": {},
   "outputs": [
    {
     "name": "stdout",
     "output_type": "stream",
     "text": [
      "Mean rank: 115.096(84.5, 145.692), Acc: 0.51, MRR: 0.58(0.54, 0.618) with dbsearch size: 10000\n",
      "Mean rank: 215.712(156.968, 274.456), Acc: 0.48, MRR: 0.55(0.506, 0.585) with dbsearch size: 20000\n",
      "Mean rank: 303.812(220.572, 387.052), Acc: 0.46, MRR: 0.52(0.482, 0.563) with dbsearch size: 30000\n",
      "Mean rank: 383.104(276.999, 489.209), Acc: 0.45, MRR: 0.51(0.469, 0.55) with dbsearch size: 40000\n",
      "Mean rank: 502.048(364.02, 640.076), Acc: 0.44, MRR: 0.5(0.459, 0.539) with dbsearch size: 50000\n",
      "CPU times: user 3min 11s, sys: 9min 55s, total: 13min 7s\n",
      "Wall time: 3min 39s\n"
     ]
    }
   ],
   "source": [
    "%%time\n",
    "# d2v_w5_s64_ep20_dm0.model\n",
    "dbsizes = [10000, 20000, 30000, 40000, 50000]\n",
    "for dbsize in dbsizes:\n",
    "    ranks = []\n",
    "    search = dbsearch[:dbsize]\n",
    "    for i in range(len(query)):\n",
    "        ranks.append(rank(query[i], i, search)) # rank das ta no dbsearch!\n",
    "    print('Mean rank: {}{}, Acc: {}, MRR: {}{} with dbsearch size: {}'.format(mr(ranks), cip_r(ranks), acc(ranks), mrr(ranks), cip_rr(ranks), dbsize))"
   ]
  },
  {
   "cell_type": "code",
   "execution_count": 160,
   "metadata": {},
   "outputs": [
    {
     "name": "stdout",
     "output_type": "stream",
     "text": [
      "Mean rank: 111.594(84.69, 138.498), Acc: 0.48, MRR: 0.56(0.518, 0.596) with dbsearch size: 10000\n",
      "Mean rank: 207.702(156.982, 258.422), Acc: 0.45, MRR: 0.52(0.482, 0.561) with dbsearch size: 20000\n",
      "Mean rank: 291.716(220.724, 362.708), Acc: 0.44, MRR: 0.5(0.462, 0.542) with dbsearch size: 30000\n",
      "Mean rank: 370.068(280.25, 459.886), Acc: 0.42, MRR: 0.48(0.445, 0.524) with dbsearch size: 40000\n",
      "Mean rank: 482.872(364.936, 600.808), Acc: 0.41, MRR: 0.48(0.438, 0.518) with dbsearch size: 50000\n",
      "CPU times: user 3min 11s, sys: 9min 53s, total: 13min 4s\n",
      "Wall time: 3min 38s\n"
     ]
    }
   ],
   "source": [
    "%%time\n",
    "# d2v_w5_s64_ep30_dm0.model\n",
    "dbsizes = [10000, 20000, 30000, 40000, 50000]\n",
    "for dbsize in dbsizes:\n",
    "    ranks = []\n",
    "    search = dbsearch[:dbsize]\n",
    "    for i in range(len(query)):\n",
    "        ranks.append(rank(query[i], i, search)) # rank das ta no dbsearch!\n",
    "    print('Mean rank: {}{}, Acc: {}, MRR: {}{} with dbsearch size: {}'.format(mr(ranks), cip_r(ranks), acc(ranks), mrr(ranks), cip_rr(ranks), dbsize))"
   ]
  },
  {
   "cell_type": "code",
   "execution_count": 177,
   "metadata": {},
   "outputs": [
    {
     "name": "stdout",
     "output_type": "stream",
     "text": [
      "Mean rank: 121.794(92.553, 151.035), Acc: 0.49, MRR: 0.56(0.519, 0.598) with dbsearch size: 10000\n",
      "Mean rank: 226.314(171.473, 281.155), Acc: 0.46, MRR: 0.53(0.487, 0.566) with dbsearch size: 20000\n",
      "Mean rank: 319.188(241.883, 396.493), Acc: 0.44, MRR: 0.5(0.464, 0.544) with dbsearch size: 30000\n",
      "Mean rank: 403.072(305.497, 500.647), Acc: 0.43, MRR: 0.49(0.45, 0.53) with dbsearch size: 40000\n",
      "Mean rank: 525.43(397.503, 653.357), Acc: 0.42, MRR: 0.48(0.439, 0.519) with dbsearch size: 50000\n",
      "CPU times: user 3min 11s, sys: 9min 51s, total: 13min 3s\n",
      "Wall time: 3min 38s\n"
     ]
    }
   ],
   "source": [
    "%%time\n",
    "# d2v_w5_s64_ep40_dm0.model\n",
    "dbsizes = [10000, 20000, 30000, 40000, 50000]\n",
    "for dbsize in dbsizes:\n",
    "    ranks = []\n",
    "    search = dbsearch[:dbsize]\n",
    "    for i in range(len(query)):\n",
    "        ranks.append(rank(query[i], i, search)) # rank das ta no dbsearch!\n",
    "    print('Mean rank: {}{}, Acc: {}, MRR: {}{} with dbsearch size: {}'.format(mr(ranks), cip_r(ranks), acc(ranks), mrr(ranks), cip_rr(ranks), dbsize))"
   ]
  },
  {
   "cell_type": "code",
   "execution_count": 193,
   "metadata": {},
   "outputs": [
    {
     "name": "stdout",
     "output_type": "stream",
     "text": [
      "Mean rank: 133.904(100.425, 167.383), Acc: 0.49, MRR: 0.56(0.519, 0.598) with dbsearch size: 10000\n",
      "Mean rank: 249.138(185.772, 312.504), Acc: 0.46, MRR: 0.52(0.485, 0.565) with dbsearch size: 20000\n",
      "Mean rank: 354.762(263.146, 446.378), Acc: 0.44, MRR: 0.5(0.463, 0.543) with dbsearch size: 30000\n",
      "Mean rank: 451.52(333.93, 569.11), Acc: 0.41, MRR: 0.49(0.446, 0.526) with dbsearch size: 40000\n",
      "Mean rank: 586.03(434.759, 737.301), Acc: 0.4, MRR: 0.48(0.437, 0.516) with dbsearch size: 50000\n",
      "CPU times: user 3min 9s, sys: 9min 56s, total: 13min 6s\n",
      "Wall time: 3min 39s\n"
     ]
    }
   ],
   "source": [
    "%%time\n",
    "# d2v_w5_s64_ep50_dm0.model\n",
    "dbsizes = [10000, 20000, 30000, 40000, 50000]\n",
    "for dbsize in dbsizes:\n",
    "    ranks = []\n",
    "    search = dbsearch[:dbsize]\n",
    "    for i in range(len(query)):\n",
    "        ranks.append(rank(query[i], i, search)) # rank das ta no dbsearch!\n",
    "    print('Mean rank: {}{}, Acc: {}, MRR: {}{} with dbsearch size: {}'.format(mr(ranks), cip_r(ranks), acc(ranks), mrr(ranks), cip_rr(ranks), dbsize))"
   ]
  },
  {
   "cell_type": "code",
   "execution_count": 212,
   "metadata": {
    "id": "SPgGq8hEyeHX"
   },
   "outputs": [
    {
     "name": "stdout",
     "output_type": "stream",
     "text": [
      "Mean rank: 157.178(119.262, 195.094), Acc: 0.44, MRR: 0.51(0.471, 0.551) with dbsearch size: 10000\n",
      "Mean rank: 298.332(224.99, 371.674), Acc: 0.43, MRR: 0.49(0.45, 0.531) with dbsearch size: 20000\n",
      "Mean rank: 429.38(323.277, 535.483), Acc: 0.42, MRR: 0.47(0.433, 0.514) with dbsearch size: 30000\n",
      "Mean rank: 547.088(410.726, 683.45), Acc: 0.41, MRR: 0.46(0.422, 0.503) with dbsearch size: 40000\n",
      "Mean rank: 702.808(529.153, 876.463), Acc: 0.4, MRR: 0.46(0.416, 0.496) with dbsearch size: 50000\n",
      "CPU times: user 4min 25s, sys: 14min 7s, total: 18min 32s\n",
      "Wall time: 4min 39s\n"
     ]
    }
   ],
   "source": [
    "%%time\n",
    "# d2v_w5_s64_ep100_dm0.model\n",
    "dbsizes = [10000, 20000, 30000, 40000, 50000]\n",
    "for dbsize in dbsizes:\n",
    "    ranks = []\n",
    "    search = dbsearch[:dbsize]\n",
    "    for i in range(len(query)):\n",
    "        ranks.append(rank(query[i], i, search)) # rank das ta no dbsearch!\n",
    "    print('Mean rank: {}{}, Acc: {}, MRR: {}{} with dbsearch size: {}'.format(mr(ranks), cip_r(ranks), acc(ranks), mrr(ranks), cip_rr(ranks), dbsize))"
   ]
  }
 ],
 "metadata": {
  "colab": {
   "authorship_tag": "ABX9TyPy37m4vuWRdT+RjuoFGswM",
   "machine_shape": "hm",
   "mount_file_id": "1p08vH0TUoD3gAjgD0xgbL72V9mmzEwii",
   "provenance": []
  },
  "gpuClass": "standard",
  "kernelspec": {
   "display_name": "Python 3 (ipykernel)",
   "language": "python",
   "name": "python3"
  },
  "language_info": {
   "codemirror_mode": {
    "name": "ipython",
    "version": 3
   },
   "file_extension": ".py",
   "mimetype": "text/x-python",
   "name": "python",
   "nbconvert_exporter": "python",
   "pygments_lexer": "ipython3",
   "version": "3.7.12"
  }
 },
 "nbformat": 4,
 "nbformat_minor": 1
}
