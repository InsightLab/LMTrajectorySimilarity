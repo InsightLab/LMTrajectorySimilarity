{
 "cells": [
  {
   "cell_type": "code",
   "execution_count": 1,
   "id": "4042578c",
   "metadata": {},
   "outputs": [],
   "source": [
    "import math\n",
    "import pickle\n",
    "import numpy as np\n",
    "import pandas as pd\n",
    "import scipy.stats as st\n",
    "from numba import njit, prange\n",
    "from math import sin, cos, sqrt, atan2, radians"
   ]
  },
  {
   "cell_type": "code",
   "execution_count": 2,
   "id": "f48f182f",
   "metadata": {},
   "outputs": [],
   "source": [
    "path = '../data/'"
   ]
  },
  {
   "cell_type": "code",
   "execution_count": 3,
   "id": "b4a11b87",
   "metadata": {},
   "outputs": [
    {
     "name": "stdout",
     "output_type": "stream",
     "text": [
      "df_tdrive_ALL-taxis.csv  exp1-trj.h5\t tdrive.csv\t\t   val.mta\r\n",
      "D_p-pts.pickle\t\t exp1-trj.label  tdrive_formato_t2vec.csv  val.src\r\n",
      "D_q-pts.pickle\t\t exp1-trj.t\t train.mta\t\t   val.trg\r\n",
      "Dq-pts.pickle\t\t mv.csv\t\t train.src\t\t   vocab.txt\r\n",
      "exp1-querydb.h5\t\t saved_models\t train.trg\r\n"
     ]
    }
   ],
   "source": [
    "!ls $path"
   ]
  },
  {
   "cell_type": "code",
   "execution_count": 4,
   "id": "b5232059",
   "metadata": {},
   "outputs": [],
   "source": [
    "# Reloading Dq...\n",
    "with open(path+'Dq-pts.pickle', 'rb') as file:\n",
    "    Dq = pickle.load(file)\n",
    "\n",
    "# Reloading D_q...\n",
    "with open(path+'D_q-pts.pickle', 'rb') as file:\n",
    "    D_q = pickle.load(file)\n",
    "\n",
    "# Reloading D_p...\n",
    "with open(path+'D_p-pts.pickle', 'rb') as file:\n",
    "    D_p = pickle.load(file)"
   ]
  },
  {
   "cell_type": "code",
   "execution_count": 5,
   "id": "0c4c97b9",
   "metadata": {},
   "outputs": [
    {
     "data": {
      "text/plain": [
       "array([[116.82171,  40.37281],\n",
       "       [116.82175,  40.37281],\n",
       "       [116.82152,  40.37284],\n",
       "       [116.82182,  40.37286],\n",
       "       [116.82177,  40.37284],\n",
       "       [116.82184,  40.37366]])"
      ]
     },
     "execution_count": 5,
     "metadata": {},
     "output_type": "execute_result"
    }
   ],
   "source": [
    "Dq[0]"
   ]
  },
  {
   "cell_type": "code",
   "execution_count": 6,
   "id": "4f35efdd",
   "metadata": {},
   "outputs": [
    {
     "data": {
      "text/plain": [
       "array([[116.82174,  40.3728 ],\n",
       "       [116.82171,  40.37251],\n",
       "       [116.82152,  40.3722 ],\n",
       "       [116.82178,  40.37288],\n",
       "       [116.82183,  40.37386]])"
      ]
     },
     "execution_count": 6,
     "metadata": {},
     "output_type": "execute_result"
    }
   ],
   "source": [
    "D_q[0]"
   ]
  },
  {
   "cell_type": "code",
   "execution_count": 7,
   "id": "b1bc0caa",
   "metadata": {},
   "outputs": [
    {
     "data": {
      "text/plain": [
       "array([[116.41468,  39.87831],\n",
       "       [116.41383,  39.88515],\n",
       "       [116.42151,  39.89236],\n",
       "       [116.43186,  39.89213],\n",
       "       [116.43391,  39.88984]])"
      ]
     },
     "execution_count": 7,
     "metadata": {},
     "output_type": "execute_result"
    }
   ],
   "source": [
    "D_p[0]"
   ]
  },
  {
   "cell_type": "code",
   "execution_count": 8,
   "id": "f39b8789",
   "metadata": {},
   "outputs": [],
   "source": [
    "@njit\n",
    "def haversine(p1, p2):\n",
    "    # Raio médio da Terra em metros\n",
    "    earth_radius = 6371000.0\n",
    "\n",
    "    # Conversão de graus para radianos\n",
    "    lat1 = math.radians(p1[0])\n",
    "    lon1 = math.radians(p1[1])\n",
    "    lat2 = math.radians(p2[0])\n",
    "    lon2 = math.radians(p2[1])\n",
    "\n",
    "    # Diferença de latitudes e longitudes\n",
    "    dlat = lat2 - lat1\n",
    "    dlon = lon2 - lon1\n",
    "\n",
    "    # Fórmula de haversine\n",
    "    a = math.sin(dlat / 2)**2 + math.cos(lat1) * math.cos(lat2) * math.sin(dlon / 2)**2\n",
    "    c = 2 * math.atan2(math.sqrt(a), math.sqrt(1 - a))\n",
    "\n",
    "    # Distância em metros\n",
    "    distance = earth_radius * c\n",
    "    return distance"
   ]
  },
  {
   "cell_type": "code",
   "execution_count": 9,
   "id": "135105b1",
   "metadata": {},
   "outputs": [],
   "source": [
    "@njit\n",
    "def dist_lcss(T1, T2): # Programação Dinâmica da LCSS para trajetórias\n",
    "    m = len(T1) # length of the traj T1\n",
    "    n = len(T2) # length of the traj T2\n",
    "    thr = 225 # thr --> threshold in meters\n",
    "\n",
    "    # Declarando a matrix L(m+1 x n+1), lista de listas!\n",
    "    L = [[0]*(n + 1) for _ in range(m + 1)]\n",
    "\n",
    "    for i in prange(m + 1):\n",
    "        for j in prange(n + 1):\n",
    "            if i == 0 or j == 0 :\n",
    "                L[i][j] = 0\n",
    "            elif haversine(T1[i-1], T2[j-1]) <= thr:\n",
    "                L[i][j] = L[i-1][j-1] + 1\n",
    "            else:\n",
    "                L[i][j] = max(L[i-1][j], L[i][j-1])\n",
    "\n",
    "    lcss_length = L[m][n]\n",
    "    \n",
    "    return 1 - (lcss_length/max(m, n))"
   ]
  },
  {
   "cell_type": "code",
   "execution_count": 10,
   "id": "8824eb94",
   "metadata": {},
   "outputs": [],
   "source": [
    "t1 =  np.array([[-37.97151, -4.93422],\n",
    "                [-37.971341, -4.934051],\n",
    "                [-37.971111, -4.933850],\n",
    "                [-37.970728, -4.933544],\n",
    "                [-37.970429, -4.933256],\n",
    "                [-37.970207, -4.933063]], dtype=np.float32)\n",
    "\n",
    "t2 =  np.array([[-37.97135, -4.93438],\n",
    "                [-37.971143, -4.934198],\n",
    "                [-37.970769, -4.933945],\n",
    "                [-37.969606, -4.934348]], dtype=np.float32)"
   ]
  },
  {
   "cell_type": "code",
   "execution_count": 11,
   "id": "de2513a8",
   "metadata": {},
   "outputs": [
    {
     "data": {
      "text/plain": [
       "0.33333333333333337"
      ]
     },
     "execution_count": 11,
     "metadata": {},
     "output_type": "execute_result"
    }
   ],
   "source": [
    "dist_lcss(t1, t2)"
   ]
  },
  {
   "cell_type": "code",
   "execution_count": 12,
   "id": "64ce9895",
   "metadata": {},
   "outputs": [
    {
     "data": {
      "text/plain": [
       "0.0"
      ]
     },
     "execution_count": 12,
     "metadata": {},
     "output_type": "execute_result"
    }
   ],
   "source": [
    "dist_lcss(t1, t1)"
   ]
  },
  {
   "cell_type": "code",
   "execution_count": 13,
   "id": "208ceff7",
   "metadata": {},
   "outputs": [],
   "source": [
    "def rank(t_query, i, db_search):\n",
    "    dists = list(map(lambda t: dist_lcss(t_query, t), db_search)) # pega todas as distâncias de Dq[i] as trajs de D_qUD_p\n",
    "    dists = np.array(dists)\n",
    "    order = dists.argsort() # pega a ordem\n",
    "    ranks = order.argsort() # pega o rank\n",
    "\n",
    "    return ranks[i] + 1 # retorna o ranking de ta' no dbsearch | soma +1 pq o argsort rankea a partir de 0 (zero)"
   ]
  },
  {
   "cell_type": "code",
   "execution_count": 14,
   "id": "9a7ca2ab",
   "metadata": {},
   "outputs": [],
   "source": [
    "def acc(ranks):\n",
    "    count = 0\n",
    "    for i in range(len(ranks)):\n",
    "        if ranks[i] == 1:\n",
    "            count += 1\n",
    "\n",
    "    return round(count/len(ranks), 3)"
   ]
  },
  {
   "cell_type": "code",
   "execution_count": 15,
   "id": "7eb0631b",
   "metadata": {},
   "outputs": [],
   "source": [
    "def mr(ranks):\n",
    "    return (sum(ranks)/len(ranks))"
   ]
  },
  {
   "cell_type": "code",
   "execution_count": 16,
   "id": "f785349e",
   "metadata": {},
   "outputs": [],
   "source": [
    "def mrr(ranks):\n",
    "    count = 0\n",
    "    for i in range(len(ranks)):\n",
    "        count += 1/ranks[i]\n",
    "\n",
    "    return round(count/len(ranks), 3)"
   ]
  },
  {
   "cell_type": "code",
   "execution_count": 17,
   "id": "0877402c",
   "metadata": {},
   "outputs": [],
   "source": [
    "# Intervalo de Confiança do Ranks\n",
    "def cip_r(ranks):\n",
    "    data = []\n",
    "    for i in range(len(ranks)):\n",
    "        data.append(ranks[i]) # Add os Ranks\n",
    "    \n",
    "    #create 95% confidence interval for population mean weight\n",
    "    ic = st.t.interval(alpha=0.95, df=len(data)-1, loc=np.mean(data), scale=st.sem(data))\n",
    "    \n",
    "    return tuple(round(valor, 3) for valor in ic) # arredonda pra 3 casas decimais"
   ]
  },
  {
   "cell_type": "code",
   "execution_count": 18,
   "id": "cb2368b6",
   "metadata": {},
   "outputs": [],
   "source": [
    "# Intervalo de Confiança dos Reciprocal Ranks\n",
    "def cip_rr(ranks):\n",
    "    data = []\n",
    "    for i in range(len(ranks)):\n",
    "        data.append(1/ranks[i]) # Add os RRs...\n",
    "    \n",
    "    #create 95% confidence interval for population mean weight\n",
    "    ic = st.t.interval(alpha=0.95, df=len(data)-1, loc=np.mean(data), scale=st.sem(data))\n",
    "    \n",
    "    return tuple(round(valor, 3) for valor in ic) # arredonda pra 3 casas decimais"
   ]
  },
  {
   "cell_type": "code",
   "execution_count": 19,
   "id": "6c45d749",
   "metadata": {},
   "outputs": [
    {
     "name": "stdout",
     "output_type": "stream",
     "text": [
      "Mean rank: 660.584(487.381, 833.787), Acc: 0.636, MRR: 0.702(0.666, 0.738) with dbsearch size: 10000\n",
      "Mean rank: 1355.62(999.541, 1711.699), Acc: 0.618, MRR: 0.683(0.646, 0.72) with dbsearch size: 20000\n",
      "Mean rank: 2004.378(1478.108, 2530.648), Acc: 0.598, MRR: 0.669(0.631, 0.706) with dbsearch size: 30000\n",
      "Mean rank: 2677.752(1974.896, 3380.608), Acc: 0.576, MRR: 0.647(0.609, 0.685) with dbsearch size: 40000\n",
      "Mean rank: 3362.308(2480.163, 4244.453), Acc: 0.584, MRR: 0.645(0.607, 0.683) with dbsearch size: 50000\n",
      "CPU times: user 11min 48s, sys: 3.97 ms, total: 11min 48s\n",
      "Wall time: 11min 48s\n"
     ]
    }
   ],
   "source": [
    "%%time\n",
    "dbsizes = [10000, 20000, 30000, 40000, 50000]\n",
    "entire_db = D_q + D_p\n",
    "for dbsize in dbsizes:\n",
    "    ranks = []\n",
    "    dbsearch = entire_db[:dbsize]\n",
    "    for i in range(len(Dq)):\n",
    "        ranks.append(rank(Dq[i], i, dbsearch)) # rank de ta' no dbsearch!\n",
    "    print('Mean rank: {}{}, Acc: {}, MRR: {}{} with dbsearch size: {}'.format(mr(ranks), cip_r(ranks), acc(ranks), mrr(ranks), cip_rr(ranks), dbsize))"
   ]
  }
 ],
 "metadata": {
  "kernelspec": {
   "display_name": "Python 3 (ipykernel)",
   "language": "python",
   "name": "python3"
  },
  "language_info": {
   "codemirror_mode": {
    "name": "ipython",
    "version": 3
   },
   "file_extension": ".py",
   "mimetype": "text/x-python",
   "name": "python",
   "nbconvert_exporter": "python",
   "pygments_lexer": "ipython3",
   "version": "3.7.12"
  }
 },
 "nbformat": 4,
 "nbformat_minor": 5
}
