{
 "cells": [
  {
   "cell_type": "code",
   "execution_count": 2,
   "metadata": {},
   "outputs": [
    {
     "name": "stdout",
     "output_type": "stream",
     "text": [
      "Defaulting to user installation because normal site-packages is not writeable\n",
      "Collecting numba\n",
      "  Downloading numba-0.56.4-cp37-cp37m-manylinux2014_x86_64.manylinux_2_17_x86_64.whl (3.5 MB)\n",
      "     |████████████████████████████████| 3.5 MB 1.1 MB/s            \n",
      "\u001b[?25hCollecting llvmlite<0.40,>=0.39.0dev0\n",
      "  Downloading llvmlite-0.39.1-cp37-cp37m-manylinux_2_17_x86_64.manylinux2014_x86_64.whl (34.6 MB)\n",
      "     |████████████████████████████████| 34.6 MB 14.7 MB/s            \n",
      "\u001b[?25hRequirement already satisfied: setuptools in /opt/tljh/user/lib/python3.7/site-packages (from numba) (68.0.0)\n",
      "Requirement already satisfied: importlib-metadata in /opt/tljh/user/lib/python3.7/site-packages (from numba) (6.7.0)\n",
      "Requirement already satisfied: numpy<1.24,>=1.18 in /opt/tljh/user/lib/python3.7/site-packages (from numba) (1.21.6)\n",
      "Requirement already satisfied: typing-extensions>=3.6.4 in /opt/tljh/user/lib/python3.7/site-packages (from importlib-metadata->numba) (4.7.1)\n",
      "Requirement already satisfied: zipp>=0.5 in /opt/tljh/user/lib/python3.7/site-packages (from importlib-metadata->numba) (3.15.0)\n",
      "Installing collected packages: llvmlite, numba\n",
      "Successfully installed llvmlite-0.39.1 numba-0.56.4\n"
     ]
    }
   ],
   "source": [
    "!pip install numba"
   ]
  },
  {
   "cell_type": "code",
   "execution_count": 2,
   "metadata": {
    "id": "aqgeBfcey_BM"
   },
   "outputs": [],
   "source": [
    "import math\n",
    "import time\n",
    "import pickle\n",
    "import numpy as np\n",
    "import pandas as pd\n",
    "import scipy.stats as st\n",
    "from numba import njit, prange\n",
    "from math import sin, cos, sqrt, atan2, radians"
   ]
  },
  {
   "cell_type": "code",
   "execution_count": 3,
   "metadata": {
    "id": "OYJ6oHsNo21z"
   },
   "outputs": [],
   "source": [
    "path = '../data/'"
   ]
  },
  {
   "cell_type": "code",
   "execution_count": 4,
   "metadata": {},
   "outputs": [
    {
     "name": "stdout",
     "output_type": "stream",
     "text": [
      "df_tdrive_ALL-taxis.csv  exp1-trj.h5\t tdrive.csv\t\t   val.mta\r\n",
      "D_p-pts.pickle\t\t exp1-trj.label  tdrive_formato_t2vec.csv  val.src\r\n",
      "D_q-pts.pickle\t\t exp1-trj.t\t train.mta\t\t   val.trg\r\n",
      "Dq-pts.pickle\t\t mv.csv\t\t train.src\t\t   vocab.txt\r\n",
      "exp1-querydb.h5\t\t saved_models\t train.trg\r\n"
     ]
    }
   ],
   "source": [
    "!ls $path"
   ]
  },
  {
   "cell_type": "code",
   "execution_count": 5,
   "metadata": {
    "id": "ZFe83F7qowi8"
   },
   "outputs": [],
   "source": [
    "# Reloading Dq...\n",
    "with open(path+'Dq-pts.pickle', 'rb') as file:\n",
    "    Dq = pickle.load(file)\n",
    "\n",
    "# Reloading D_q...\n",
    "with open(path+'D_q-pts.pickle', 'rb') as file:\n",
    "    D_q = pickle.load(file)\n",
    "\n",
    "# Reloading D_p...\n",
    "with open(path+'D_p-pts.pickle', 'rb') as file:\n",
    "    D_p = pickle.load(file)"
   ]
  },
  {
   "cell_type": "code",
   "execution_count": 6,
   "metadata": {
    "id": "3HS7mjhosJDE"
   },
   "outputs": [],
   "source": [
    "@njit\n",
    "def haversine(p1, p2):\n",
    "    # Raio médio da Terra em metros\n",
    "    earth_radius = 6371000.0\n",
    "\n",
    "    # Conversão de graus para radianos\n",
    "    lat1 = math.radians(p1[0])\n",
    "    lon1 = math.radians(p1[1])\n",
    "    lat2 = math.radians(p2[0])\n",
    "    lon2 = math.radians(p2[1])\n",
    "\n",
    "    # Diferença de latitudes e longitudes\n",
    "    dlat = lat2 - lat1\n",
    "    dlon = lon2 - lon1\n",
    "\n",
    "    # Fórmula de haversine\n",
    "    a = math.sin(dlat / 2)**2 + math.cos(lat1) * math.cos(lat2) * math.sin(dlon / 2)**2\n",
    "    c = 2 * math.atan2(math.sqrt(a), math.sqrt(1 - a))\n",
    "\n",
    "    # Distância em metros\n",
    "    distance = earth_radius * c\n",
    "    return distance"
   ]
  },
  {
   "cell_type": "code",
   "execution_count": 7,
   "metadata": {
    "id": "KuRW3Akaqjva"
   },
   "outputs": [],
   "source": [
    "@njit\n",
    "def dtw_numba(t1, t2, dist):\n",
    "    len_t1, len_t2 = t1.shape[0], t2.shape[0]\n",
    "    dists = np.full((len_t1+1, len_t2+1), np.inf)\n",
    "    dists[0, 0] = 0.0\n",
    "    for i in prange(1, len_t1+1):\n",
    "        for j in prange(1, len_t2+1):\n",
    "            dt = dist(t1[i-1], t2[j-1])\n",
    "            dists[i, j] = min((dists[i-1, j]+dt), (dists[i, j-1]+dt), (dists[i-1, j-1]+dt))\n",
    "\n",
    "    return dists[len_t1, len_t2]"
   ]
  },
  {
   "cell_type": "code",
   "execution_count": 8,
   "metadata": {
    "colab": {
     "base_uri": "https://localhost:8080/"
    },
    "executionInfo": {
     "elapsed": 2,
     "status": "ok",
     "timestamp": 1688672508033,
     "user": {
      "displayName": "Wilken Charles",
      "userId": "08238201343018523362"
     },
     "user_tz": 180
    },
    "id": "D5VgnwytsYWp",
    "outputId": "11d71edd-bc1b-403f-ff1d-8de23cb260c4"
   },
   "outputs": [
    {
     "data": {
      "text/plain": [
       "array([[116.82171,  40.37281],\n",
       "       [116.82175,  40.37281],\n",
       "       [116.82152,  40.37284],\n",
       "       [116.82182,  40.37286],\n",
       "       [116.82177,  40.37284],\n",
       "       [116.82184,  40.37366]])"
      ]
     },
     "execution_count": 8,
     "metadata": {},
     "output_type": "execute_result"
    }
   ],
   "source": [
    "Dq[0]"
   ]
  },
  {
   "cell_type": "code",
   "execution_count": 9,
   "metadata": {
    "colab": {
     "base_uri": "https://localhost:8080/"
    },
    "executionInfo": {
     "elapsed": 3,
     "status": "ok",
     "timestamp": 1688671154398,
     "user": {
      "displayName": "Wilken Charles",
      "userId": "08238201343018523362"
     },
     "user_tz": 180
    },
    "id": "-2jOhahOpNr5",
    "outputId": "f67e0c76-b89a-4a1d-8402-1ab81a484815"
   },
   "outputs": [
    {
     "data": {
      "text/plain": [
       "array([[116.82174,  40.3728 ],\n",
       "       [116.82171,  40.37251],\n",
       "       [116.82152,  40.3722 ],\n",
       "       [116.82178,  40.37288],\n",
       "       [116.82183,  40.37386]])"
      ]
     },
     "execution_count": 9,
     "metadata": {},
     "output_type": "execute_result"
    }
   ],
   "source": [
    "D_q[0]"
   ]
  },
  {
   "cell_type": "code",
   "execution_count": 10,
   "metadata": {},
   "outputs": [
    {
     "data": {
      "text/plain": [
       "array([[116.41468,  39.87831],\n",
       "       [116.41383,  39.88515],\n",
       "       [116.42151,  39.89236],\n",
       "       [116.43186,  39.89213],\n",
       "       [116.43391,  39.88984]])"
      ]
     },
     "execution_count": 10,
     "metadata": {},
     "output_type": "execute_result"
    }
   ],
   "source": [
    "D_p[0]"
   ]
  },
  {
   "cell_type": "code",
   "execution_count": 11,
   "metadata": {
    "colab": {
     "base_uri": "https://localhost:8080/"
    },
    "executionInfo": {
     "elapsed": 636,
     "status": "ok",
     "timestamp": 1688673908637,
     "user": {
      "displayName": "Wilken Charles",
      "userId": "08238201343018523362"
     },
     "user_tz": 180
    },
    "id": "sJuZ8FS1qSeM",
    "outputId": "fec3e2ae-bd9d-4c81-9329-8c400f463493"
   },
   "outputs": [
    {
     "data": {
      "text/plain": [
       "68.12910457154875"
      ]
     },
     "execution_count": 11,
     "metadata": {},
     "output_type": "execute_result"
    }
   ],
   "source": [
    "dtw_numba(Dq[0], D_q[0], dist=haversine)"
   ]
  },
  {
   "cell_type": "code",
   "execution_count": 12,
   "metadata": {},
   "outputs": [
    {
     "data": {
      "text/plain": [
       "0.0"
      ]
     },
     "execution_count": 12,
     "metadata": {},
     "output_type": "execute_result"
    }
   ],
   "source": [
    "dtw_numba(Dq[0], Dq[0], dist=haversine)"
   ]
  },
  {
   "cell_type": "code",
   "execution_count": 20,
   "metadata": {
    "id": "RzUG03aoz-4t"
   },
   "outputs": [],
   "source": [
    "def rank(t_query, i, db_search):\n",
    "    dists = list(map(lambda t: dtw_numba(t_query, t, dist=haversine), db_search)) # pega todas as distâncias de Dq[i] as trajs de D_qUD_p\n",
    "    dists = np.array(dists)\n",
    "    order = dists.argsort() # pega a ordem\n",
    "    ranks = order.argsort() # pega o rank\n",
    "\n",
    "    return ranks[i] + 1 # retorna o ranking de ta' no dbsearch | soma +1 pq o argsort rankea a partir de 0 (zero)"
   ]
  },
  {
   "cell_type": "code",
   "execution_count": 21,
   "metadata": {
    "id": "8DaoxnU9z-1U"
   },
   "outputs": [],
   "source": [
    "def acc(ranks):\n",
    "    count = 0\n",
    "    for i in range(len(ranks)):\n",
    "        if ranks[i] == 1:\n",
    "            count += 1\n",
    "\n",
    "    return round(count/len(ranks), 3)"
   ]
  },
  {
   "cell_type": "code",
   "execution_count": 22,
   "metadata": {},
   "outputs": [],
   "source": [
    "def mr(ranks):\n",
    "    return (sum(ranks)/len(ranks))"
   ]
  },
  {
   "cell_type": "code",
   "execution_count": 23,
   "metadata": {},
   "outputs": [],
   "source": [
    "def mrr(ranks):\n",
    "    count = 0\n",
    "    for i in range(len(ranks)):\n",
    "        count += 1/ranks[i]\n",
    "\n",
    "    return round(count/len(ranks), 3)"
   ]
  },
  {
   "cell_type": "code",
   "execution_count": 24,
   "metadata": {},
   "outputs": [],
   "source": [
    "# Intervalo de Confiança dos Ranks\n",
    "def cip_r(ranks):\n",
    "    data = []\n",
    "    for i in range(len(ranks)):\n",
    "        data.append(ranks[i]) # Add os Ranks\n",
    "    \n",
    "    #create 95% confidence interval for population mean weight\n",
    "    ic = st.t.interval(alpha=0.95, df=len(data)-1, loc=np.mean(data), scale=st.sem(data))\n",
    "    \n",
    "    return tuple(round(valor, 3) for valor in ic) # arredonda pra 3 casas decimais"
   ]
  },
  {
   "cell_type": "code",
   "execution_count": 25,
   "metadata": {},
   "outputs": [],
   "source": [
    "# Intervalo de Confiança dos Reciprocal Ranks\n",
    "def cip_rr(ranks):\n",
    "    data = []\n",
    "    for i in range(len(ranks)):\n",
    "        data.append(1/ranks[i]) # Add os RRs...\n",
    "    \n",
    "    #create 95% confidence interval for population mean weight\n",
    "    ic = st.t.interval(alpha=0.95, df=len(data)-1, loc=np.mean(data), scale=st.sem(data))\n",
    "    \n",
    "    return tuple(round(valor, 3) for valor in ic) # arredonda pra 3 casas decimais"
   ]
  },
  {
   "cell_type": "code",
   "execution_count": 26,
   "metadata": {},
   "outputs": [
    {
     "name": "stdout",
     "output_type": "stream",
     "text": [
      "Mean rank: 454.64(-98.42, 1007.7), Acc: 0.766, MRR: 0.822(0.793, 0.852) with dbsearch size: 10000\n",
      "Mean rank: 892.04(-213.68, 1997.76), Acc: 0.732, MRR: 0.792(0.76, 0.823) with dbsearch size: 20000\n",
      "Mean rank: 1327.98(-330.83, 2986.79), Acc: 0.712, MRR: 0.775(0.743, 0.808) with dbsearch size: 30000\n",
      "Mean rank: 1774.94(-440.77, 3990.65), Acc: 0.702, MRR: 0.763(0.73, 0.796) with dbsearch size: 40000\n",
      "Mean rank: 2214.63(-553.97, 4983.25), Acc: 0.696, MRR: 0.756(0.722, 0.789) with dbsearch size: 50000\n",
      "CPU times: user 28min 14s, sys: 4.11 ms, total: 29min 32s\n",
      "Wall time: 29min 32s\n"
     ]
    }
   ],
   "source": [
    "%%time\n",
    "dbsizes = [10000, 20000, 30000, 40000, 50000]\n",
    "entire_db = D_q + D_p\n",
    "for dbsize in dbsizes:\n",
    "    ranks = []\n",
    "    dbsearch = entire_db[:dbsize]\n",
    "    for i in range(len(Dq)):\n",
    "        ranks.append(rank(Dq[i], i, dbsearch)) # rank de ta' no dbsearch!\n",
    "    print('Mean rank: {}{}, Acc: {}, MRR: {}{} with dbsearch size: {}'.format(mr(ranks), cip_r(ranks), acc(ranks), mrr(ranks), cip_rr(ranks), dbsize))"
   ]
  }
 ],
 "metadata": {
  "colab": {
   "authorship_tag": "ABX9TyONEQfUk+U2+ZNl73i79fIZ",
   "machine_shape": "hm",
   "mount_file_id": "1AJXwHl_xRr_XEAE9S_OhbO3W_uxGSZES",
   "provenance": []
  },
  "kernelspec": {
   "display_name": "Python 3 (ipykernel)",
   "language": "python",
   "name": "python3"
  },
  "language_info": {
   "codemirror_mode": {
    "name": "ipython",
    "version": 3
   },
   "file_extension": ".py",
   "mimetype": "text/x-python",
   "name": "python",
   "nbconvert_exporter": "python",
   "pygments_lexer": "ipython3",
   "version": "3.7.12"
  }
 },
 "nbformat": 4,
 "nbformat_minor": 1
}
