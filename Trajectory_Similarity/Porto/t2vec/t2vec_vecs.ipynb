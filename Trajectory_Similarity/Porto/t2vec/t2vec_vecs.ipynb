{
 "cells": [
  {
   "cell_type": "markdown",
   "id": "f7cbac8e",
   "metadata": {},
   "source": [
    "## Teste dos embeddings do t2vec usando a função de rank em Python"
   ]
  },
  {
   "cell_type": "code",
   "execution_count": 1,
   "id": "5d6ccbba",
   "metadata": {},
   "outputs": [],
   "source": [
    "import h5py\n",
    "import numpy as np\n",
    "\n",
    "from sklearn.metrics.pairwise import cosine_distances"
   ]
  },
  {
   "cell_type": "code",
   "execution_count": 2,
   "id": "378e55f5",
   "metadata": {},
   "outputs": [
    {
     "name": "stdout",
     "output_type": "stream",
     "text": [
      "D_p-pts.pickle\texp1-trj.h5\texp1-trj.t   README.md\t   train.trg  vocab.txt\r\n",
      "D_q-pts.pickle\texp1-trj.label\texp2-trj.h5  saved_models  val.src\r\n",
      "Dq-pts.pickle\texp1-trj.pts\tporto.csv    train.src\t   val.trg\r\n"
     ]
    }
   ],
   "source": [
    "!ls '../data/'"
   ]
  },
  {
   "cell_type": "code",
   "execution_count": 3,
   "id": "a4e2e83b",
   "metadata": {},
   "outputs": [],
   "source": [
    "vecfile = '../data/exp1-trj.h5'"
   ]
  },
  {
   "cell_type": "code",
   "execution_count": 4,
   "id": "8285a882",
   "metadata": {},
   "outputs": [],
   "source": [
    "# Carregando os vetores (embeddings do t2vec)\n",
    "with h5py.File(vecfile, 'r') as f:\n",
    "    vecs = np.array(f['layer3'])"
   ]
  },
  {
   "cell_type": "code",
   "execution_count": 5,
   "id": "c6599db5",
   "metadata": {},
   "outputs": [
    {
     "data": {
      "text/plain": [
       "array([-0.68647516,  0.86736786, -0.99379593, -1.        ,  0.9991714 ,\n",
       "        0.6531223 ,  0.98044574,  0.9939335 , -0.7251372 , -1.        ,\n",
       "       -0.03488281, -1.        ,  0.47257993, -0.8890793 ,  0.9831597 ,\n",
       "        0.79987305, -1.        ,  0.992221  , -0.03797043, -0.90551114,\n",
       "        0.39030176, -0.924447  , -0.13001299,  0.60980725, -0.16162528,\n",
       "       -0.7791138 , -0.27359173,  1.        , -0.21262921, -0.5503183 ,\n",
       "        0.10815368,  0.966651  ,  0.98836386,  1.        , -0.01773597,\n",
       "        0.40998647,  0.9999997 ,  0.9998418 ,  0.75152695, -0.9231957 ,\n",
       "       -0.9999996 ,  0.45086482,  0.54504293, -1.        , -0.6131711 ,\n",
       "        0.72926766,  0.9999319 , -0.9115782 ,  0.09714752,  1.        ,\n",
       "        0.7436581 , -0.51482934, -0.27191746, -0.6620586 ,  0.99229515,\n",
       "       -0.6926462 ,  1.        ,  0.9596888 , -0.98361933,  0.9995927 ,\n",
       "        0.0512807 ,  0.31783974, -0.9508169 ,  0.9912928 , -1.        ,\n",
       "        0.22825116,  0.43637615, -0.59943515,  0.99894285, -0.4122461 ,\n",
       "        0.8609332 ,  1.        , -0.81226593, -0.93470246, -0.69136816,\n",
       "       -0.99999994,  0.14576596, -0.9999993 , -0.98023045,  0.99211514,\n",
       "        0.5806639 ,  0.9846309 ,  1.        , -0.99999994,  0.22452648,\n",
       "        0.9840307 ,  0.08300819, -0.6997638 ,  0.9812833 , -1.        ,\n",
       "       -0.29718357,  0.999941  , -0.9983155 ,  0.27463475,  1.        ,\n",
       "       -0.9900539 ,  0.90359753, -0.17890143, -0.99148756,  0.8727677 ,\n",
       "       -0.99999994, -0.93860984,  0.9448827 , -1.        , -0.7289095 ,\n",
       "        0.99901956, -0.76172864, -0.99889535, -0.7610815 , -0.99999994,\n",
       "        1.        ,  0.9993244 , -0.16900285,  0.82159716,  0.86214197,\n",
       "        0.9293353 ,  0.7751125 ,  0.48196805, -0.7984652 , -0.98351353,\n",
       "       -0.98055005,  0.14318098, -0.9452648 ,  0.03527838, -1.        ,\n",
       "        0.68745995,  0.78685063, -0.5950516 ,  0.99993545,  0.9785655 ,\n",
       "        0.9999885 ,  0.733491  ,  0.99798673,  0.08345084,  0.9999777 ,\n",
       "       -0.18759212, -0.99995524,  0.09099412, -0.36348322,  0.94064504,\n",
       "        0.2264208 , -0.98108685, -0.943478  , -0.60620993, -0.9999999 ,\n",
       "        0.9999212 ,  0.97346973,  0.9996581 , -0.4528099 , -0.8550241 ,\n",
       "        0.9999813 , -0.9999992 ,  1.        ,  0.9975376 , -0.9828861 ,\n",
       "        0.99984103,  0.9994696 ,  0.9948632 ,  0.9999928 , -0.9875076 ,\n",
       "       -0.9998478 , -0.9999267 , -0.99966675,  0.77946615,  0.9558783 ,\n",
       "        0.99991745,  0.80766934,  0.993151  ,  0.99954003, -0.5195017 ,\n",
       "        0.44213274,  0.918418  , -0.9999721 , -0.9936963 ,  0.9991006 ,\n",
       "       -1.        ,  0.9995917 ,  0.99999374,  0.9863514 , -0.99999994,\n",
       "       -0.97496545, -0.9992513 ,  0.9999106 , -0.9999718 , -0.9946069 ,\n",
       "        0.93936664, -0.98928356,  0.9982147 ,  0.9953677 , -0.99776167,\n",
       "        0.8397919 ,  0.99483716, -0.9999244 , -0.9997441 ,  0.99780273,\n",
       "       -0.99663055, -0.6151736 , -0.99997395, -0.8020663 ,  0.9989041 ,\n",
       "        0.9910272 ,  0.928712  , -0.99364185,  0.9984976 ,  0.9999855 ,\n",
       "       -0.99703026, -0.9998826 , -0.9971555 ,  0.4886856 ,  0.90777385,\n",
       "        0.83165   ,  0.9998672 ,  0.9998247 , -0.9725199 ,  0.9821231 ,\n",
       "       -0.45589748,  0.9744385 ,  0.64507025, -0.93094313,  0.7358812 ,\n",
       "        0.9979729 , -0.99802   , -0.7678949 , -0.9035007 , -0.9999285 ,\n",
       "       -0.86521643, -1.        ,  0.9983221 ,  0.46535552, -0.9948082 ,\n",
       "       -0.9474859 , -0.99999994,  0.80648655,  0.55034393, -0.81858695,\n",
       "       -0.01213015,  0.87104225,  0.9529515 ,  0.97487974, -0.8931547 ,\n",
       "        0.6325315 , -0.3127545 , -0.99999994,  0.16988964,  0.9581548 ,\n",
       "        0.999909  ,  0.99971724,  0.9961374 , -0.99975705,  0.9998647 ,\n",
       "       -0.4779539 ,  0.9701999 , -0.8613033 , -0.9978981 , -0.999997  ,\n",
       "        0.98779994], dtype=float32)"
      ]
     },
     "execution_count": 5,
     "metadata": {},
     "output_type": "execute_result"
    }
   ],
   "source": [
    "vecs[0]"
   ]
  },
  {
   "cell_type": "code",
   "execution_count": 6,
   "id": "becdcd49",
   "metadata": {},
   "outputs": [
    {
     "data": {
      "text/plain": [
       "numpy.ndarray"
      ]
     },
     "execution_count": 6,
     "metadata": {},
     "output_type": "execute_result"
    }
   ],
   "source": [
    "type(vecs)"
   ]
  },
  {
   "cell_type": "code",
   "execution_count": 7,
   "id": "5d34663f",
   "metadata": {},
   "outputs": [
    {
     "data": {
      "text/plain": [
       "101000"
      ]
     },
     "execution_count": 7,
     "metadata": {},
     "output_type": "execute_result"
    }
   ],
   "source": [
    "len(vecs)"
   ]
  },
  {
   "cell_type": "code",
   "execution_count": 11,
   "id": "53774713",
   "metadata": {},
   "outputs": [],
   "source": [
    "query = vecs[:1000]\n",
    "dbsearch = vecs[1000:101000]"
   ]
  },
  {
   "cell_type": "code",
   "execution_count": 12,
   "id": "78feb81b",
   "metadata": {},
   "outputs": [
    {
     "name": "stdout",
     "output_type": "stream",
     "text": [
      "1000\n",
      "100000\n"
     ]
    }
   ],
   "source": [
    "print(len(query))\n",
    "print(len(dbsearch))"
   ]
  },
  {
   "cell_type": "code",
   "execution_count": 13,
   "id": "dd923f7e",
   "metadata": {},
   "outputs": [],
   "source": [
    "def rank(t_query, i, db_search):\n",
    "    dists = cosine_distances(t_query.reshape(1, -1), db_search) # pega todas as distâncias de Dq[i] as trajs do db_search (D_qUD_p)\n",
    "    dists = dists.flatten()\n",
    "    order = dists.argsort() # pega a ordem\n",
    "    ranks = order.argsort() # pega o rank\n",
    "\n",
    "    return ranks[i] + 1 # retorna o ranking de ta' no dbsearch | soma +1 pq o argsort rankea a partir de 0 (zero)"
   ]
  },
  {
   "cell_type": "code",
   "execution_count": 14,
   "id": "da9b250b",
   "metadata": {},
   "outputs": [],
   "source": [
    "def mr(ranks):\n",
    "    return (sum(ranks)/len(ranks))"
   ]
  },
  {
   "cell_type": "code",
   "execution_count": 17,
   "id": "624afce3",
   "metadata": {},
   "outputs": [
    {
     "name": "stdout",
     "output_type": "stream",
     "text": [
      "Mean rank: 2.446 with dbsearch size: 20000\n",
      "Mean rank: 3.692 with dbsearch size: 40000\n",
      "Mean rank: 5.103 with dbsearch size: 60000\n",
      "Mean rank: 6.878 with dbsearch size: 80000\n",
      "Mean rank: 8.34 with dbsearch size: 100000\n",
      "CPU times: user 15min 16s, sys: 38min 4s, total: 53min 21s\n",
      "Wall time: 13min 26s\n"
     ]
    }
   ],
   "source": [
    "%%time\n",
    "# t2vec\n",
    "dbsizes = [20000, 40000, 60000, 80000, 100000]\n",
    "for dbsize in dbsizes:\n",
    "    ranks = []\n",
    "    search = dbsearch[:dbsize]\n",
    "    for i in range(len(query)):\n",
    "        ranks.append(rank(query[i], i, search)) # rank das ta no dbsearch!\n",
    "    print('Mean rank: {} with dbsearch size: {}'.format(mr(ranks), dbsize))"
   ]
  }
 ],
 "metadata": {
  "kernelspec": {
   "display_name": "Python 3 (ipykernel)",
   "language": "python",
   "name": "python3"
  },
  "language_info": {
   "codemirror_mode": {
    "name": "ipython",
    "version": 3
   },
   "file_extension": ".py",
   "mimetype": "text/x-python",
   "name": "python",
   "nbconvert_exporter": "python",
   "pygments_lexer": "ipython3",
   "version": "3.7.12"
  }
 },
 "nbformat": 4,
 "nbformat_minor": 5
}
