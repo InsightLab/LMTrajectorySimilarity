{
 "cells": [
  {
   "cell_type": "code",
   "execution_count": 1,
   "metadata": {
    "executionInfo": {
     "elapsed": 1534,
     "status": "ok",
     "timestamp": 1694960055004,
     "user": {
      "displayName": "Wilken Charles",
      "userId": "08238201343018523362"
     },
     "user_tz": 180
    },
    "id": "aqgeBfcey_BM"
   },
   "outputs": [],
   "source": [
    "import pandas as pd\n",
    "import numpy as np\n",
    "import gensim\n",
    "\n",
    "from gensim.models import Word2Vec"
   ]
  },
  {
   "cell_type": "code",
   "execution_count": 2,
   "metadata": {
    "colab": {
     "base_uri": "https://localhost:8080/"
    },
    "executionInfo": {
     "elapsed": 21,
     "status": "ok",
     "timestamp": 1694960055006,
     "user": {
      "displayName": "Wilken Charles",
      "userId": "08238201343018523362"
     },
     "user_tz": 180
    },
    "id": "Ypae87PhPSZX",
    "outputId": "201a1f88-2e9c-46ca-ef86-2021ec849b10"
   },
   "outputs": [
    {
     "name": "stdout",
     "output_type": "stream",
     "text": [
      "4.2.0\n"
     ]
    }
   ],
   "source": [
    "# Treinado na versão 4.2.0\n",
    "print(gensim.__version__)"
   ]
  },
  {
   "cell_type": "code",
   "execution_count": 3,
   "metadata": {},
   "outputs": [
    {
     "name": "stdout",
     "output_type": "stream",
     "text": [
      "D_p-pts.pickle\texp1-trj.h5\texp1-trj.t   README.md\t   train.trg  vocab.txt\r\n",
      "D_q-pts.pickle\texp1-trj.label\texp2-trj.h5  saved_models  val.src\r\n",
      "Dq-pts.pickle\texp1-trj.pts\tporto.csv    train.src\t   val.trg\r\n"
     ]
    }
   ],
   "source": [
    "!ls '../data/'"
   ]
  },
  {
   "cell_type": "markdown",
   "metadata": {
    "id": "sU41umndbA3q"
   },
   "source": [
    "## Treino do modelo Word2Vec"
   ]
  },
  {
   "cell_type": "code",
   "execution_count": 4,
   "metadata": {},
   "outputs": [],
   "source": [
    "# DISCRETIZAÇÃO DE CELS DO T2VEC:\n",
    "trajs_treino = []\n",
    "with open('../data/train.src', 'r') as f:\n",
    "    for linha in f:\n",
    "        # Divida as cels da linha usando espaço como delimitador e as converte em strings\n",
    "        traj = linha.strip().split(' ')\n",
    "        # Adicione a traj da linha à lista principal\n",
    "        trajs_treino.append(traj)"
   ]
  },
  {
   "cell_type": "code",
   "execution_count": 5,
   "metadata": {
    "id": "Z-U9IThrjTU2"
   },
   "outputs": [
    {
     "name": "stdout",
     "output_type": "stream",
     "text": [
      "Quantidade de trajetórias de treino: 13369584\n"
     ]
    }
   ],
   "source": [
    "print(\"Quantidade de trajetórias de treino:\", len(trajs_treino))"
   ]
  },
  {
   "cell_type": "code",
   "execution_count": 6,
   "metadata": {},
   "outputs": [
    {
     "name": "stdout",
     "output_type": "stream",
     "text": [
      "['506', '112', '144', '148', '250', '258', '384', '106', '15', '4', '71', '1179', '93', '165', '160', '211', '300', '1245', '547']\n"
     ]
    }
   ],
   "source": [
    "print(trajs_treino[0])"
   ]
  },
  {
   "cell_type": "code",
   "execution_count": 7,
   "metadata": {
    "id": "JQY-sVRtXOlM"
   },
   "outputs": [
    {
     "name": "stdout",
     "output_type": "stream",
     "text": [
      "CPU times: user 31min 34s, sys: 939 ms, total: 31min 35s\n",
      "Wall time: 14min 22s\n"
     ]
    }
   ],
   "source": [
    "%%time\n",
    "\"\"\"\n",
    "Training algorithm: Skip-gram or CBOW\n",
    "Parameter --> sg: {0, 1} (1 for Skip-gram, 0 for CBOW)\n",
    "\"\"\"\n",
    "# Inicializando o modelo e treinando-o com 1 época:\n",
    "model = Word2Vec(trajs_treino, vector_size=256, window=5, min_count=1, sg=1, epochs=1, alpha=0.025)"
   ]
  },
  {
   "cell_type": "code",
   "execution_count": 8,
   "metadata": {},
   "outputs": [],
   "source": [
    "# Definindo os critérios de parada:\n",
    "max_epochs = 100\n",
    "min_loss = 5000\n",
    "previous_loss = float('inf')"
   ]
  },
  {
   "cell_type": "code",
   "execution_count": 9,
   "metadata": {},
   "outputs": [],
   "source": [
    "# Definindo os critérios de parada:\n",
    "max_epochs = 100\n",
    "min_loss = 5000\n",
    "previous_loss = float('inf')"
   ]
  },
  {
   "cell_type": "code",
   "execution_count": 10,
   "metadata": {},
   "outputs": [
    {
     "name": "stdout",
     "output_type": "stream",
     "text": [
      "Dif. Loss: inf\n",
      "Dif. Loss: -245616.0\n",
      "Parando o treinamento após 3 épocas.\n",
      "CPU times: user 59min 7s, sys: 1.49 s, total: 59min 9s\n",
      "Wall time: 19min 47s\n"
     ]
    }
   ],
   "source": [
    "%%time\n",
    "# Treinando o modelo...\n",
    "for epoch in range(2, max_epochs): # Comeca da 2a epoca, pois na inicializacao o modelo treina a 1a epoca\n",
    "    model.train(trajs_treino, total_examples=len(trajs_treino), epochs=1, compute_loss=True)\n",
    "    loss = model.get_latest_training_loss()\n",
    "\n",
    "    # Verifique o critério de parada\n",
    "    print('Dif. Loss:', previous_loss - loss)\n",
    "    if (previous_loss - loss) < min_loss:\n",
    "        print(f\"Parando o treinamento após {epoch} épocas.\")\n",
    "        break\n",
    "\n",
    "    previous_loss = loss"
   ]
  },
  {
   "cell_type": "code",
   "execution_count": 11,
   "metadata": {},
   "outputs": [
    {
     "name": "stdout",
     "output_type": "stream",
     "text": [
      "w2v_w5_s256_ep3_sg1.model saved!\n"
     ]
    }
   ],
   "source": [
    "# Salvando o modelo...\n",
    "model.save('../data/saved_models/W2V/w2v_w{}_s{}_ep{}_sg{}.model'.format(model.window, model.vector_size, epoch, model.sg))\n",
    "print('w2v_w{}_s{}_ep{}_sg{}.model saved!'.format(model.window, model.vector_size, epoch, model.sg))"
   ]
  },
  {
   "cell_type": "code",
   "execution_count": null,
   "metadata": {},
   "outputs": [],
   "source": []
  }
 ],
 "metadata": {
  "colab": {
   "authorship_tag": "ABX9TyN05obvCHYYI/x4WVjQiWV4",
   "machine_shape": "hm",
   "mount_file_id": "1nZct9XvGBDCEtiZS2l26AaeuUVtF-Nmt",
   "provenance": []
  },
  "kernelspec": {
   "display_name": "Python 3 (ipykernel)",
   "language": "python",
   "name": "python3"
  },
  "language_info": {
   "codemirror_mode": {
    "name": "ipython",
    "version": 3
   },
   "file_extension": ".py",
   "mimetype": "text/x-python",
   "name": "python",
   "nbconvert_exporter": "python",
   "pygments_lexer": "ipython3",
   "version": "3.7.12"
  }
 },
 "nbformat": 4,
 "nbformat_minor": 1
}
