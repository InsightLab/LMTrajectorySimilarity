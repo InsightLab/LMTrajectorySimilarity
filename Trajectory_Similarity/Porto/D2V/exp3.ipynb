{
 "cells": [
  {
   "cell_type": "code",
   "execution_count": 1,
   "metadata": {
    "executionInfo": {
     "elapsed": 267,
     "status": "ok",
     "timestamp": 1697549081634,
     "user": {
      "displayName": "Wilken Charles",
      "userId": "08238201343018523362"
     },
     "user_tz": 180
    },
    "id": "aqgeBfcey_BM"
   },
   "outputs": [],
   "source": [
    "import time\n",
    "import gensim\n",
    "import numpy as np\n",
    "#import pandas as pd\n",
    "#import scipy.stats as st\n",
    "\n",
    "from sklearn.neighbors import KDTree\n",
    "from gensim.models.doc2vec import Doc2Vec, TaggedDocument"
   ]
  },
  {
   "cell_type": "code",
   "execution_count": 2,
   "metadata": {
    "colab": {
     "base_uri": "https://localhost:8080/"
    },
    "executionInfo": {
     "elapsed": 1383,
     "status": "ok",
     "timestamp": 1697548215803,
     "user": {
      "displayName": "Wilken Charles",
      "userId": "08238201343018523362"
     },
     "user_tz": 180
    },
    "id": "MtzwIUgkdm6n",
    "outputId": "da459d98-b3bf-4ae3-a71e-ee0483f24590"
   },
   "outputs": [
    {
     "name": "stdout",
     "output_type": "stream",
     "text": [
      "508 465 1641 857 3176 1346 1301 3303 3277 3977 4430 8513 9755 11383 9496 12228 11150 13279 9215 17279 14428 9279 14792 14310 18351 7997 15024 15267 15665 16329 15125 14591 14797 3\r\n",
      "19 191 68 41 46 4 964 543 154 171 382 732 632 923 4815 460 273 439 607 908 726 6277 5338 5821 6933 5438 8005 10438 9812 17030 12351 12132 13988 9320 5581 13142 15720 14944 5048 11012\r\n",
      "51 2263 345 53 120 405 803 585 692 1566 533 1728 1880 739 544 226 8\r\n",
      "15 4 58 9 38 54 196 648 193 1022 575 1560 753 229 260 532 317 764 159 633 1304 207 798 2811 301 211 880 80 23 89 40 537 781 141 5900 240 38 54 655 1616 196 648 437 749 575\r\n"
     ]
    }
   ],
   "source": [
    "!head -n 4 '../data/exp1-trj.t'"
   ]
  },
  {
   "cell_type": "code",
   "execution_count": 3,
   "metadata": {
    "executionInfo": {
     "elapsed": 972,
     "status": "ok",
     "timestamp": 1697548231853,
     "user": {
      "displayName": "Wilken Charles",
      "userId": "08238201343018523362"
     },
     "user_tz": 180
    },
    "id": "Q8t6_YEezUds"
   },
   "outputs": [],
   "source": [
    "with open('../data/exp1-trj.t', 'r') as file:\n",
    "    trajs_teste = []\n",
    "\n",
    "    for line in file:\n",
    "        traj = line.strip().split()# Divide cada linha(traj) em cels usando espaço como delimitador e convertendo-as em strings\n",
    "        trajs_teste.append(traj)"
   ]
  },
  {
   "cell_type": "code",
   "execution_count": 4,
   "metadata": {
    "colab": {
     "base_uri": "https://localhost:8080/"
    },
    "executionInfo": {
     "elapsed": 282,
     "status": "ok",
     "timestamp": 1697548249394,
     "user": {
      "displayName": "Wilken Charles",
      "userId": "08238201343018523362"
     },
     "user_tz": 180
    },
    "id": "MmrzMCVE8LVv",
    "outputId": "3f214258-544b-42f5-9562-8f9c5f51c619"
   },
   "outputs": [
    {
     "name": "stdout",
     "output_type": "stream",
     "text": [
      "Quantidade de trajetórias de teste: 101000\n"
     ]
    }
   ],
   "source": [
    "print(\"Quantidade de trajetórias de teste:\", len(trajs_teste))"
   ]
  },
  {
   "cell_type": "code",
   "execution_count": 5,
   "metadata": {
    "colab": {
     "base_uri": "https://localhost:8080/"
    },
    "executionInfo": {
     "elapsed": 4,
     "status": "ok",
     "timestamp": 1697548262871,
     "user": {
      "displayName": "Wilken Charles",
      "userId": "08238201343018523362"
     },
     "user_tz": 180
    },
    "id": "rj5aePi08Tbc",
    "outputId": "6163a528-d906-44fc-cb20-d45412a42bd1"
   },
   "outputs": [
    {
     "name": "stdout",
     "output_type": "stream",
     "text": [
      "['51', '2263', '345', '53', '120', '405', '803', '585', '692', '1566', '533', '1728', '1880', '739', '544', '226', '8']\n"
     ]
    }
   ],
   "source": [
    "print(trajs_teste[2]) # query par"
   ]
  },
  {
   "cell_type": "code",
   "execution_count": 6,
   "metadata": {},
   "outputs": [
    {
     "name": "stdout",
     "output_type": "stream",
     "text": [
      "['51', '430', '345', '120', '856', '131', '673', '585', '233', '2200', '533', '361', '1299', '1215', '66', '588', '7', '8']\n"
     ]
    }
   ],
   "source": [
    "print(trajs_teste[1002]) # \"alvo\" da query par, ou seja, a query ímpar"
   ]
  },
  {
   "cell_type": "code",
   "execution_count": 7,
   "metadata": {
    "colab": {
     "base_uri": "https://localhost:8080/"
    },
    "executionInfo": {
     "elapsed": 297,
     "status": "ok",
     "timestamp": 1697548271367,
     "user": {
      "displayName": "Wilken Charles",
      "userId": "08238201343018523362"
     },
     "user_tz": 180
    },
    "id": "19wRcg6qCpGt",
    "outputId": "de449599-b0f5-452d-d206-bb8721009c01"
   },
   "outputs": [
    {
     "name": "stdout",
     "output_type": "stream",
     "text": [
      "d2v_w5_s64_ep30_dm0.model\r\n",
      "d2v_w5_s64_ep30_dm0.model.dv.vectors.npy\r\n",
      "d2v_w5_s64_ep40_dm0.model\r\n",
      "d2v_w5_s64_ep40_dm0.model.dv.vectors.npy\r\n"
     ]
    }
   ],
   "source": [
    "!ls '../data/saved_models/D2V/'"
   ]
  },
  {
   "cell_type": "code",
   "execution_count": 8,
   "metadata": {
    "executionInfo": {
     "elapsed": 34776,
     "status": "ok",
     "timestamp": 1697548343218,
     "user": {
      "displayName": "Wilken Charles",
      "userId": "08238201343018523362"
     },
     "user_tz": 180
    },
    "id": "tVYlOaR_c9bL"
   },
   "outputs": [],
   "source": [
    "# Carregando o modelo...\n",
    "model = Doc2Vec.load('../data/saved_models/D2V/d2v_w5_s64_ep30_dm0.model')"
   ]
  },
  {
   "cell_type": "code",
   "execution_count": 9,
   "metadata": {
    "colab": {
     "base_uri": "https://localhost:8080/"
    },
    "executionInfo": {
     "elapsed": 5,
     "status": "ok",
     "timestamp": 1697548343818,
     "user": {
      "displayName": "Wilken Charles",
      "userId": "08238201343018523362"
     },
     "user_tz": 180
    },
    "id": "mITOJekdhIV9",
    "outputId": "9e918b8f-2c6a-4386-d393-cab785318f59"
   },
   "outputs": [
    {
     "data": {
      "text/plain": [
       "18827"
      ]
     },
     "execution_count": 9,
     "metadata": {},
     "output_type": "execute_result"
    }
   ],
   "source": [
    "# Size vocab\n",
    "len(model.wv.key_to_index)"
   ]
  },
  {
   "cell_type": "code",
   "execution_count": 10,
   "metadata": {
    "colab": {
     "base_uri": "https://localhost:8080/"
    },
    "executionInfo": {
     "elapsed": 330,
     "status": "ok",
     "timestamp": 1697548713399,
     "user": {
      "displayName": "Wilken Charles",
      "userId": "08238201343018523362"
     },
     "user_tz": 180
    },
    "id": "WeMokOs4k_lC",
    "outputId": "773f70c1-708f-4131-e22f-b993cc108384"
   },
   "outputs": [
    {
     "data": {
      "text/plain": [
       "64"
      ]
     },
     "execution_count": 10,
     "metadata": {},
     "output_type": "execute_result"
    }
   ],
   "source": [
    "model.vector_size"
   ]
  },
  {
   "cell_type": "code",
   "execution_count": 11,
   "metadata": {
    "colab": {
     "base_uri": "https://localhost:8080/"
    },
    "executionInfo": {
     "elapsed": 2852,
     "status": "ok",
     "timestamp": 1697548740469,
     "user": {
      "displayName": "Wilken Charles",
      "userId": "08238201343018523362"
     },
     "user_tz": 180
    },
    "id": "tq50FNRyyeXv",
    "outputId": "507b9b32-1ac7-4cde-f01e-e5842a17e7aa"
   },
   "outputs": [
    {
     "data": {
      "text/plain": [
       "[(1, 0.9527559280395508),\n",
       " (6, 0.9382349252700806),\n",
       " (4, 0.9378328323364258),\n",
       " (2, 0.9327696561813354),\n",
       " (7, 0.9076344966888428),\n",
       " (8, 0.9008456468582153),\n",
       " (3, 0.8869067430496216),\n",
       " (12, 0.8747737407684326),\n",
       " (5, 0.8740744590759277),\n",
       " (13, 0.870564877986908)]"
      ]
     },
     "execution_count": 11,
     "metadata": {},
     "output_type": "execute_result"
    }
   ],
   "source": [
    "# Pegando as trajetórias mais similares a trajetória id = 0\n",
    "mosts = model.dv.most_similar(0)\n",
    "mosts"
   ]
  },
  {
   "cell_type": "code",
   "execution_count": 12,
   "metadata": {
    "executionInfo": {
     "elapsed": 326,
     "status": "ok",
     "timestamp": 1697548782476,
     "user": {
      "displayName": "Wilken Charles",
      "userId": "08238201343018523362"
     },
     "user_tz": 180
    },
    "id": "gumhb7AfyeUP"
   },
   "outputs": [],
   "source": [
    "def get_embedding_for_all_trajs(trajs):\n",
    "    emb_trajs = np.zeros((len(trajs),) + (model.vector_size,), dtype=np.float32) # shape --> (len(trajs), vector_size). Ex. para Dq, shape --> (1000, 64)\n",
    "\n",
    "    idx = 0\n",
    "    for traj in trajs:\n",
    "        emb_trajs[idx] = model.infer_vector(traj, epochs=model.epochs)\n",
    "        idx += 1\n",
    "\n",
    "        percent_done = (idx / len(trajs)) * 100 # Calcula a porcentagem concluída\n",
    "        print(f\"Progresso: {percent_done:.2f}% concluído\", end=\"\\r\")  # A opção `end=\"\\r\"` permite que a impressão seja substituída na mesma linha\n",
    "\n",
    "    return emb_trajs"
   ]
  },
  {
   "cell_type": "code",
   "execution_count": 13,
   "metadata": {
    "executionInfo": {
     "elapsed": 1517,
     "status": "ok",
     "timestamp": 1697548854035,
     "user": {
      "displayName": "Wilken Charles",
      "userId": "08238201343018523362"
     },
     "user_tz": 180
    },
    "id": "6GDX7KK2yeMy"
   },
   "outputs": [],
   "source": [
    "# Segmentando: query (trajs pares) e dbsearch (querys ímpar + 99000 outras ímpares)\n",
    "query = trajs_teste[:1000] # trajs query (pares)\n",
    "dbsearch = trajs_teste[1000:101000] # dbsearch trajs (as 1000 primeiras são as query ímpar)"
   ]
  },
  {
   "cell_type": "code",
   "execution_count": 14,
   "metadata": {
    "colab": {
     "base_uri": "https://localhost:8080/"
    },
    "executionInfo": {
     "elapsed": 286,
     "status": "ok",
     "timestamp": 1697548932885,
     "user": {
      "displayName": "Wilken Charles",
      "userId": "08238201343018523362"
     },
     "user_tz": 180
    },
    "id": "6dblsSHHyeKQ",
    "outputId": "edc079a4-8d3d-4176-b618-a4b91f1e3327"
   },
   "outputs": [
    {
     "name": "stdout",
     "output_type": "stream",
     "text": [
      "1000\n",
      "100000\n"
     ]
    }
   ],
   "source": [
    "print(len(query))\n",
    "print(len(dbsearch))"
   ]
  },
  {
   "cell_type": "code",
   "execution_count": 15,
   "metadata": {
    "colab": {
     "base_uri": "https://localhost:8080/"
    },
    "executionInfo": {
     "elapsed": 774,
     "status": "ok",
     "timestamp": 1697548949532,
     "user": {
      "displayName": "Wilken Charles",
      "userId": "08238201343018523362"
     },
     "user_tz": 180
    },
    "id": "ZefWaXD_y_cF",
    "outputId": "327faafe-5285-4c41-9272-da41238c39ea"
   },
   "outputs": [
    {
     "name": "stdout",
     "output_type": "stream",
     "text": [
      "Progresso: 100.00% concluído\r"
     ]
    }
   ],
   "source": [
    "# Pegando os embeddings das trajs query:\n",
    "query = get_embedding_for_all_trajs(query)"
   ]
  },
  {
   "cell_type": "code",
   "execution_count": 16,
   "metadata": {
    "colab": {
     "base_uri": "https://localhost:8080/"
    },
    "executionInfo": {
     "elapsed": 48509,
     "status": "ok",
     "timestamp": 1697549026734,
     "user": {
      "displayName": "Wilken Charles",
      "userId": "08238201343018523362"
     },
     "user_tz": 180
    },
    "id": "ukY6pelpy_XE",
    "outputId": "d2b0182f-cd7c-4879-a464-cdb9f82466ca"
   },
   "outputs": [
    {
     "name": "stdout",
     "output_type": "stream",
     "text": [
      "Progresso: 100.00% concluído\r"
     ]
    }
   ],
   "source": [
    "# Pegando os embeddings das trajs do dbsearch:\n",
    "dbsearch = get_embedding_for_all_trajs(dbsearch)"
   ]
  },
  {
   "cell_type": "markdown",
   "metadata": {
    "id": "SPgGq8hEyeHX"
   },
   "source": [
    "## Time efficiency of D2V using KDTree "
   ]
  },
  {
   "cell_type": "code",
   "execution_count": 17,
   "metadata": {},
   "outputs": [],
   "source": [
    "def knn(q, db, k):\n",
    "    tree = KDTree(db)\n",
    "    \n",
    "    start_time = time.time()\n",
    "    for i in range(len(q)):\n",
    "        _, ind = tree.query([q[i]], k=k)\n",
    "    end_time = time.time()\n",
    "    elapsed_time = round(end_time - start_time, 2)\n",
    "    print(f\"Knn time: {elapsed_time} segundos, with dbsize: {len(db)}\")"
   ]
  },
  {
   "cell_type": "code",
   "execution_count": 18,
   "metadata": {},
   "outputs": [
    {
     "name": "stdout",
     "output_type": "stream",
     "text": [
      "Knn time: 1.19 segundos, with dbsize: 20000\n",
      "Knn time: 4.41 segundos, with dbsize: 40000\n",
      "Knn time: 7.94 segundos, with dbsize: 60000\n",
      "Knn time: 10.52 segundos, with dbsize: 80000\n",
      "Knn time: 14.33 segundos, with dbsize: 100000\n"
     ]
    }
   ],
   "source": [
    "dbsizes = [20000, 40000, 60000, 80000, 100000]\n",
    "for dbsize in dbsizes:\n",
    "    knn(query, dbsearch[:dbsize], 50)"
   ]
  },
  {
   "cell_type": "code",
   "execution_count": null,
   "metadata": {},
   "outputs": [],
   "source": []
  }
 ],
 "metadata": {
  "colab": {
   "authorship_tag": "ABX9TyPy37m4vuWRdT+RjuoFGswM",
   "machine_shape": "hm",
   "mount_file_id": "1p08vH0TUoD3gAjgD0xgbL72V9mmzEwii",
   "provenance": []
  },
  "gpuClass": "standard",
  "kernelspec": {
   "display_name": "Python 3 (ipykernel)",
   "language": "python",
   "name": "python3"
  },
  "language_info": {
   "codemirror_mode": {
    "name": "ipython",
    "version": 3
   },
   "file_extension": ".py",
   "mimetype": "text/x-python",
   "name": "python",
   "nbconvert_exporter": "python",
   "pygments_lexer": "ipython3",
   "version": "3.7.12"
  }
 },
 "nbformat": 4,
 "nbformat_minor": 1
}
