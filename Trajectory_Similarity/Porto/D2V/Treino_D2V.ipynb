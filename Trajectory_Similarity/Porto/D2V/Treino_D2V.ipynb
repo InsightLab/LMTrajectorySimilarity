{
 "cells": [
  {
   "cell_type": "code",
   "execution_count": 1,
   "metadata": {
    "executionInfo": {
     "elapsed": 1244,
     "status": "ok",
     "timestamp": 1697550815107,
     "user": {
      "displayName": "Wilken Charles",
      "userId": "08238201343018523362"
     },
     "user_tz": 180
    },
    "id": "BKYLm8DXxnIP"
   },
   "outputs": [],
   "source": [
    "import gensim\n",
    "import numpy as np\n",
    "import pandas as pd\n",
    "\n",
    "from gensim.models.doc2vec import Doc2Vec, TaggedDocument"
   ]
  },
  {
   "cell_type": "code",
   "execution_count": 2,
   "metadata": {
    "colab": {
     "base_uri": "https://localhost:8080/"
    },
    "executionInfo": {
     "elapsed": 5,
     "status": "ok",
     "timestamp": 1697550815107,
     "user": {
      "displayName": "Wilken Charles",
      "userId": "08238201343018523362"
     },
     "user_tz": 180
    },
    "id": "84WEKWEXebfB",
    "outputId": "3aa39ea1-33bc-4cfc-eebc-ff6a30322c8f"
   },
   "outputs": [
    {
     "name": "stdout",
     "output_type": "stream",
     "text": [
      "4.2.0\n"
     ]
    }
   ],
   "source": [
    "# Treinado na versão 4.2.0\n",
    "print(gensim.__version__)"
   ]
  },
  {
   "cell_type": "code",
   "execution_count": 3,
   "metadata": {
    "colab": {
     "base_uri": "https://localhost:8080/"
    },
    "executionInfo": {
     "elapsed": 1838,
     "status": "ok",
     "timestamp": 1697550816942,
     "user": {
      "displayName": "Wilken Charles",
      "userId": "08238201343018523362"
     },
     "user_tz": 180
    },
    "id": "mH--TwkzY9hw",
    "outputId": "0377fc6e-872b-4ff7-b717-038d0486724a"
   },
   "outputs": [
    {
     "name": "stdout",
     "output_type": "stream",
     "text": [
      "D_p-pts.pickle\texp1-trj.h5\texp1-trj.t   README.md\t   train.trg  vocab.txt\r\n",
      "D_q-pts.pickle\texp1-trj.label\texp2-trj.h5  saved_models  val.src\r\n",
      "Dq-pts.pickle\texp1-trj.pts\tporto.csv    train.src\t   val.trg\r\n"
     ]
    }
   ],
   "source": [
    "!ls '../data/'"
   ]
  },
  {
   "cell_type": "code",
   "execution_count": 4,
   "metadata": {
    "executionInfo": {
     "elapsed": 95445,
     "status": "ok",
     "timestamp": 1697550947709,
     "user": {
      "displayName": "Wilken Charles",
      "userId": "08238201343018523362"
     },
     "user_tz": 180
    },
    "id": "Zs5wdFuwxtnf"
   },
   "outputs": [],
   "source": [
    "# DISCRETIZAÇÃO DE CELS DO T2VEC:\n",
    "trajs_treino = []\n",
    "with open('../data/train.src', 'r') as f:\n",
    "    for linha in f:\n",
    "        # Divida as cels da linha usando espaço como delimitador e as converte em strings\n",
    "        traj = linha.strip().split(' ')\n",
    "        # Adicione a traj da linha à lista principal\n",
    "        trajs_treino.append(traj)"
   ]
  },
  {
   "cell_type": "code",
   "execution_count": 5,
   "metadata": {
    "colab": {
     "base_uri": "https://localhost:8080/"
    },
    "executionInfo": {
     "elapsed": 20,
     "status": "ok",
     "timestamp": 1697550947710,
     "user": {
      "displayName": "Wilken Charles",
      "userId": "08238201343018523362"
     },
     "user_tz": 180
    },
    "id": "LeLv6V31ewjO",
    "outputId": "009e63ac-1692-4fe0-ba88-6a06c7e9d95a"
   },
   "outputs": [
    {
     "name": "stdout",
     "output_type": "stream",
     "text": [
      "Quantidade de trajetórias de treino: 13369584\n"
     ]
    }
   ],
   "source": [
    "print(\"Quantidade de trajetórias de treino:\", len(trajs_treino))"
   ]
  },
  {
   "cell_type": "code",
   "execution_count": 6,
   "metadata": {
    "colab": {
     "base_uri": "https://localhost:8080/"
    },
    "executionInfo": {
     "elapsed": 6,
     "status": "ok",
     "timestamp": 1697550947710,
     "user": {
      "displayName": "Wilken Charles",
      "userId": "08238201343018523362"
     },
     "user_tz": 180
    },
    "id": "dN5Qz60D0mcc",
    "outputId": "76d721ef-7ddd-4ce4-913f-a2fc7e05e83a"
   },
   "outputs": [
    {
     "name": "stdout",
     "output_type": "stream",
     "text": [
      "['506', '112', '144', '148', '250', '258', '384', '106', '15', '4', '71', '1179', '93', '165', '160', '211', '300', '1245', '547']\n"
     ]
    }
   ],
   "source": [
    "print(trajs_treino[0])"
   ]
  },
  {
   "cell_type": "code",
   "execution_count": 7,
   "metadata": {
    "executionInfo": {
     "elapsed": 84347,
     "status": "ok",
     "timestamp": 1697551032054,
     "user": {
      "displayName": "Wilken Charles",
      "userId": "08238201343018523362"
     },
     "user_tz": 180
    },
    "id": "8dj5GJzo1NgN"
   },
   "outputs": [],
   "source": [
    "tagged_docs = [TaggedDocument(doc, [i]) for i, doc in enumerate(trajs_treino)]"
   ]
  },
  {
   "cell_type": "code",
   "execution_count": 8,
   "metadata": {
    "colab": {
     "base_uri": "https://localhost:8080/"
    },
    "executionInfo": {
     "elapsed": 21,
     "status": "ok",
     "timestamp": 1697551032055,
     "user": {
      "displayName": "Wilken Charles",
      "userId": "08238201343018523362"
     },
     "user_tz": 180
    },
    "id": "zqLQCkZKMsfH",
    "outputId": "9913c777-6077-4dfd-9122-9d520f8e2ff4"
   },
   "outputs": [
    {
     "data": {
      "text/plain": [
       "TaggedDocument(words=['506', '112', '144', '148', '250', '258', '384', '106', '15', '4', '71', '1179', '93', '165', '160', '211', '300', '1245', '547'], tags=[0])"
      ]
     },
     "execution_count": 8,
     "metadata": {},
     "output_type": "execute_result"
    }
   ],
   "source": [
    "tagged_docs[0]"
   ]
  },
  {
   "cell_type": "code",
   "execution_count": 9,
   "metadata": {
    "colab": {
     "base_uri": "https://localhost:8080/"
    },
    "executionInfo": {
     "elapsed": 18,
     "status": "ok",
     "timestamp": 1697551032055,
     "user": {
      "displayName": "Wilken Charles",
      "userId": "08238201343018523362"
     },
     "user_tz": 180
    },
    "id": "5iEBup71NH4M",
    "outputId": "65a40d7b-2176-4f64-8b7e-ac42154dbbd6"
   },
   "outputs": [
    {
     "data": {
      "text/plain": [
       "TaggedDocument(words=['878', '785', '158', '349', '420', '3588', '580', '253', '1075', '50', '684', '26', '219', '149', '76', '313', '27', '313', '1618', '11050', '27', '3075', '5753', '937', '1231', '796', '929', '335', '331', '591', '7107', '389', '296', '1633', '348', '158'], tags=[90])"
      ]
     },
     "execution_count": 9,
     "metadata": {},
     "output_type": "execute_result"
    }
   ],
   "source": [
    "tagged_docs[90]"
   ]
  },
  {
   "cell_type": "code",
   "execution_count": 10,
   "metadata": {
    "colab": {
     "base_uri": "https://localhost:8080/"
    },
    "executionInfo": {
     "elapsed": 18,
     "status": "ok",
     "timestamp": 1697551671372,
     "user": {
      "displayName": "Wilken Charles",
      "userId": "08238201343018523362"
     },
     "user_tz": 180
    },
    "id": "k63bDk_XFNSz",
    "outputId": "ad2f7f10-7616-440b-862c-344ec83ac8ca"
   },
   "outputs": [],
   "source": [
    "dm = 0"
   ]
  },
  {
   "cell_type": "code",
   "execution_count": 11,
   "metadata": {},
   "outputs": [
    {
     "name": "stdout",
     "output_type": "stream",
     "text": [
      "CPU times: user 5h 18min 52s, sys: 52min 6s, total: 6h 10min 58s\n",
      "Wall time: 5h 56min 33s\n"
     ]
    }
   ],
   "source": [
    "%%time\n",
    "\"\"\"\n",
    "Training algorithm: Distributed Memory (Similar ao CBOW) or Distributed Bag of Words (Similar ao Skip-gram)\n",
    "Parameter --> dm: {0, 1} (0 for DBW, 1 for DM)\n",
    "\"\"\"\n",
    "model = Doc2Vec(tagged_docs, vector_size=256, window=5, min_count=1, epochs=30, dm=dm, workers=4)"
   ]
  },
  {
   "cell_type": "code",
   "execution_count": 12,
   "metadata": {},
   "outputs": [],
   "source": [
    "# Salvando o modelo com 30 épocas...\n",
    "model.save('../data/saved_models/D2V/d2v_w{}_s{}_ep{}_dm{}.model'.format(model.window, model.vector_size, model.epochs, dm))"
   ]
  },
  {
   "cell_type": "code",
   "execution_count": 11,
   "metadata": {},
   "outputs": [
    {
     "name": "stdout",
     "output_type": "stream",
     "text": [
      "CPU times: user 4h 3min 13s, sys: 13min 20s, total: 4h 16min 33s\n",
      "Wall time: 2h 14min 56s\n"
     ]
    }
   ],
   "source": [
    "%%time\n",
    "\"\"\"\n",
    "Training algorithm: Distributed Memory (Similar ao CBOW) or Distributed Bag of Words (Similar ao Skip-gram)\n",
    "Parameter --> dm: {0, 1} (0 for DBW, 1 for DM)\n",
    "\"\"\"\n",
    "model = Doc2Vec(tagged_docs, vector_size=128, window=5, min_count=1, epochs=30, dm=dm, workers=4)"
   ]
  },
  {
   "cell_type": "code",
   "execution_count": 12,
   "metadata": {},
   "outputs": [],
   "source": [
    "# Salvando o modelo com 30 épocas...\n",
    "model.save('../data/saved_models/D2V/d2v_w{}_s{}_ep{}_dm{}.model'.format(model.window, model.vector_size, model.epochs, dm))"
   ]
  },
  {
   "cell_type": "code",
   "execution_count": 12,
   "metadata": {},
   "outputs": [
    {
     "name": "stdout",
     "output_type": "stream",
     "text": [
      "CPU times: user 8min 26s, sys: 23.5 s, total: 8min 50s\n",
      "Wall time: 4min 43s\n"
     ]
    }
   ],
   "source": [
    "%%time\n",
    "\"\"\"\n",
    "Training algorithm: Distributed Memory (Similar ao CBOW) or Distributed Bag of Words (Similar ao Skip-gram)\n",
    "Parameter --> dm: {0, 1} (0 for DBW, 1 for DM)\n",
    "\"\"\"\n",
    "model = Doc2Vec(tagged_docs, vector_size=64, window=5, min_count=1, epochs=1, dm=dm, workers=4)"
   ]
  },
  {
   "cell_type": "code",
   "execution_count": 13,
   "metadata": {},
   "outputs": [],
   "source": [
    "# Salvando o modelo com apenas 1 época...\n",
    "model.save('../data/saved_models/D2V/d2v_w{}_s{}_ep{}_dm{}.model'.format(model.window, model.vector_size, model.epochs, dm))"
   ]
  },
  {
   "cell_type": "code",
   "execution_count": 14,
   "metadata": {},
   "outputs": [
    {
     "name": "stdout",
     "output_type": "stream",
     "text": [
      "CPU times: user 40min 56s, sys: 2min 5s, total: 43min 2s\n",
      "Wall time: 22min 27s\n"
     ]
    }
   ],
   "source": [
    "%%time\n",
    "\"\"\"\n",
    "Training algorithm: Distributed Memory (Similar ao CBOW) or Distributed Bag of Words (Similar ao Skip-gram)\n",
    "Parameter --> dm: {0, 1} (0 for DBW, 1 for DM)\n",
    "\"\"\"\n",
    "model = Doc2Vec(tagged_docs, vector_size=64, window=5, min_count=1, epochs=5, dm=dm, workers=4)"
   ]
  },
  {
   "cell_type": "code",
   "execution_count": 15,
   "metadata": {},
   "outputs": [],
   "source": [
    "# Salvando o modelo com apenas 1 época...\n",
    "model.save('../data/saved_models/D2V/d2v_w{}_s{}_ep{}_dm{}.model'.format(model.window, model.vector_size, model.epochs, dm))"
   ]
  },
  {
   "cell_type": "code",
   "execution_count": 16,
   "metadata": {},
   "outputs": [
    {
     "name": "stdout",
     "output_type": "stream",
     "text": [
      "CPU times: user 1h 18min 43s, sys: 4min 7s, total: 1h 22min 50s\n",
      "Wall time: 44min 3s\n"
     ]
    }
   ],
   "source": [
    "%%time\n",
    "\"\"\"\n",
    "Training algorithm: Distributed Memory (Similar ao CBOW) or Distributed Bag of Words (Similar ao Skip-gram)\n",
    "Parameter --> dm: {0, 1} (0 for DBW, 1 for DM)\n",
    "\"\"\"\n",
    "model = Doc2Vec(tagged_docs, vector_size=64, window=5, min_count=1, epochs=10, dm=dm, workers=4)"
   ]
  },
  {
   "cell_type": "code",
   "execution_count": 17,
   "metadata": {},
   "outputs": [],
   "source": [
    "Salvando o modelo com apenas 1 época...\n",
    "model.save('../data/saved_models/D2V/d2v_w{}_s{}_ep{}_dm{}.model'.format(model.window, model.vector_size, model.epochs, dm))"
   ]
  },
  {
   "cell_type": "code",
   "execution_count": 18,
   "metadata": {},
   "outputs": [
    {
     "name": "stdout",
     "output_type": "stream",
     "text": [
      "CPU times: user 2h 31min 20s, sys: 8min 18s, total: 2h 39min 39s\n",
      "Wall time: 1h 27min 28s\n"
     ]
    }
   ],
   "source": [
    "%%time\n",
    "\"\"\"\n",
    "Training algorithm: Distributed Memory (Similar ao CBOW) or Distributed Bag of Words (Similar ao Skip-gram)\n",
    "Parameter --> dm: {0, 1} (0 for DBW, 1 for DM)\n",
    "\"\"\"\n",
    "model = Doc2Vec(tagged_docs, vector_size=64, window=5, min_count=1, epochs=20, dm=dm, workers=4)"
   ]
  },
  {
   "cell_type": "code",
   "execution_count": 19,
   "metadata": {},
   "outputs": [],
   "source": [
    "# Salvando o modelo com apenas 1 época...\n",
    "model.save('../data/saved_models/D2V/d2v_w{}_s{}_ep{}_dm{}.model'.format(model.window, model.vector_size, model.epochs, dm))"
   ]
  },
  {
   "cell_type": "code",
   "execution_count": 20,
   "metadata": {
    "scrolled": true
   },
   "outputs": [
    {
     "name": "stdout",
     "output_type": "stream",
     "text": [
      "CPU times: user 3h 43min 27s, sys: 12min 20s, total: 3h 55min 47s\n",
      "Wall time: 2h 10min 12s\n"
     ]
    }
   ],
   "source": [
    "%%time\n",
    "\"\"\"\n",
    "Training algorithm: Distributed Memory (Similar ao CBOW) or Distributed Bag of Words (Similar ao Skip-gram)\n",
    "Parameter --> dm: {0, 1} (0 for DBW, 1 for DM)\n",
    "\"\"\"\n",
    "model = Doc2Vec(tagged_docs, vector_size=64, window=5, min_count=1, epochs=30, dm=dm, workers=4)"
   ]
  },
  {
   "cell_type": "code",
   "execution_count": 21,
   "metadata": {},
   "outputs": [],
   "source": [
    "# Salvando o modelo com apenas 1 época...\n",
    "model.save('../data/saved_models/D2V/d2v_w{}_s{}_ep{}_dm{}.model'.format(model.window, model.vector_size, model.epochs, dm))"
   ]
  },
  {
   "cell_type": "code",
   "execution_count": 22,
   "metadata": {},
   "outputs": [
    {
     "name": "stdout",
     "output_type": "stream",
     "text": [
      "CPU times: user 4h 54min 52s, sys: 16min 28s, total: 5h 11min 21s\n",
      "Wall time: 2h 55min 27s\n"
     ]
    }
   ],
   "source": [
    "%%time\n",
    "\"\"\"\n",
    "Training algorithm: Distributed Memory (Similar ao CBOW) or Distributed Bag of Words (Similar ao Skip-gram)\n",
    "Parameter --> dm: {0, 1} (0 for DBW, 1 for DM)\n",
    "\"\"\"\n",
    "model = Doc2Vec(tagged_docs, vector_size=64, window=5, min_count=1, epochs=40, dm=dm, workers=4)"
   ]
  },
  {
   "cell_type": "code",
   "execution_count": 23,
   "metadata": {},
   "outputs": [],
   "source": [
    "# Salvando o modelo com apenas 1 época...\n",
    "model.save('../data/saved_models/D2V/d2v_w{}_s{}_ep{}_dm{}.model'.format(model.window, model.vector_size, model.epochs, dm))"
   ]
  },
  {
   "cell_type": "code",
   "execution_count": 24,
   "metadata": {},
   "outputs": [
    {
     "name": "stdout",
     "output_type": "stream",
     "text": [
      "CPU times: user 6h 7min 1s, sys: 20min 25s, total: 6h 27min 27s\n",
      "Wall time: 3h 37min 32s\n"
     ]
    }
   ],
   "source": [
    "%%time\n",
    "\"\"\"\n",
    "Training algorithm: Distributed Memory (Similar ao CBOW) or Distributed Bag of Words (Similar ao Skip-gram)\n",
    "Parameter --> dm: {0, 1} (0 for DBW, 1 for DM)\n",
    "\"\"\"\n",
    "model = Doc2Vec(tagged_docs, vector_size=64, window=5, min_count=1, epochs=50, dm=dm, workers=4)"
   ]
  },
  {
   "cell_type": "code",
   "execution_count": 25,
   "metadata": {},
   "outputs": [],
   "source": [
    "# Salvando o modelo com apenas 1 época...\n",
    "model.save('../data/saved_models/D2V/d2v_w{}_s{}_ep{}_dm{}.model'.format(model.window, model.vector_size, model.epochs, dm))"
   ]
  },
  {
   "cell_type": "code",
   "execution_count": 13,
   "metadata": {
    "colab": {
     "base_uri": "https://localhost:8080/"
    },
    "executionInfo": {
     "elapsed": 639331,
     "status": "ok",
     "timestamp": 1697551671371,
     "user": {
      "displayName": "Wilken Charles",
      "userId": "08238201343018523362"
     },
     "user_tz": 180
    },
    "id": "UBK6P7v41XOr",
    "outputId": "4bf19723-18c0-4a5a-cb5a-5553effa2a6f"
   },
   "outputs": [
    {
     "name": "stdout",
     "output_type": "stream",
     "text": [
      "CPU times: user 11h 53min 6s, sys: 40min 10s, total: 12h 33min 16s\n",
      "Wall time: 7h 9min 19s\n"
     ]
    }
   ],
   "source": [
    "%%time\n",
    "\"\"\"\n",
    "Training algorithm: Distributed Memory (Similar ao CBOW) or Distributed Bag of Words (Similar ao Skip-gram)\n",
    "Parameter --> dm: {0, 1} (0 for DBW, 1 for DM)\n",
    "\"\"\"\n",
    "model = Doc2Vec(tagged_docs, vector_size=64, window=5, min_count=1, epochs=100, dm=dm, workers=4)"
   ]
  },
  {
   "cell_type": "code",
   "execution_count": 15,
   "metadata": {
    "executionInfo": {
     "elapsed": 131380,
     "status": "ok",
     "timestamp": 1697546065158,
     "user": {
      "displayName": "Wilken Charles",
      "userId": "08238201343018523362"
     },
     "user_tz": 180
    },
    "id": "al7gvXSnRH8M"
   },
   "outputs": [],
   "source": [
    "# Salvando o modelo com apenas 1 época...\n",
    "model.save('../data/saved_models/D2V/d2v_w{}_s{}_ep{}_dm{}.model'.format(model.window, model.vector_size, model.epochs, dm))"
   ]
  }
 ],
 "metadata": {
  "accelerator": "GPU",
  "colab": {
   "authorship_tag": "ABX9TyOyPGIAs23gYYhyLI4nvOIb",
   "gpuType": "A100",
   "machine_shape": "hm",
   "mount_file_id": "1vlMGqkvue2rdKR45Uhr1cH51SVR9ZEa1",
   "provenance": []
  },
  "kernelspec": {
   "display_name": "Python 3 (ipykernel)",
   "language": "python",
   "name": "python3"
  },
  "language_info": {
   "codemirror_mode": {
    "name": "ipython",
    "version": 3
   },
   "file_extension": ".py",
   "mimetype": "text/x-python",
   "name": "python",
   "nbconvert_exporter": "python",
   "pygments_lexer": "ipython3",
   "version": "3.7.12"
  }
 },
 "nbformat": 4,
 "nbformat_minor": 1
}
