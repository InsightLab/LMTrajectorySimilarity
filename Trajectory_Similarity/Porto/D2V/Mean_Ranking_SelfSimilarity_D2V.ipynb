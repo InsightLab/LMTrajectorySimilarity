{
 "cells": [
  {
   "cell_type": "code",
   "execution_count": 1,
   "metadata": {
    "executionInfo": {
     "elapsed": 267,
     "status": "ok",
     "timestamp": 1697549081634,
     "user": {
      "displayName": "Wilken Charles",
      "userId": "08238201343018523362"
     },
     "user_tz": 180
    },
    "id": "aqgeBfcey_BM"
   },
   "outputs": [],
   "source": [
    "import gensim\n",
    "import numpy as np\n",
    "import pandas as pd\n",
    "import scipy.stats as st\n",
    "\n",
    "from sklearn.metrics.pairwise import cosine_distances\n",
    "from gensim.models.doc2vec import Doc2Vec, TaggedDocument"
   ]
  },
  {
   "cell_type": "code",
   "execution_count": 2,
   "metadata": {
    "colab": {
     "base_uri": "https://localhost:8080/"
    },
    "executionInfo": {
     "elapsed": 1383,
     "status": "ok",
     "timestamp": 1697548215803,
     "user": {
      "displayName": "Wilken Charles",
      "userId": "08238201343018523362"
     },
     "user_tz": 180
    },
    "id": "MtzwIUgkdm6n",
    "outputId": "da459d98-b3bf-4ae3-a71e-ee0483f24590"
   },
   "outputs": [
    {
     "name": "stdout",
     "output_type": "stream",
     "text": [
      "508 465 1641 857 3176 1346 1301 3303 3277 3977 4430 8513 9755 11383 9496 12228 11150 13279 9215 17279 14428 9279 14792 14310 18351 7997 15024 15267 15665 16329 15125 14591 14797 3\r\n",
      "19 191 68 41 46 4 964 543 154 171 382 732 632 923 4815 460 273 439 607 908 726 6277 5338 5821 6933 5438 8005 10438 9812 17030 12351 12132 13988 9320 5581 13142 15720 14944 5048 11012\r\n",
      "51 2263 345 53 120 405 803 585 692 1566 533 1728 1880 739 544 226 8\r\n",
      "15 4 58 9 38 54 196 648 193 1022 575 1560 753 229 260 532 317 764 159 633 1304 207 798 2811 301 211 880 80 23 89 40 537 781 141 5900 240 38 54 655 1616 196 648 437 749 575\r\n"
     ]
    }
   ],
   "source": [
    "!head -n 4 '../data/exp1-trj.t'"
   ]
  },
  {
   "cell_type": "code",
   "execution_count": 3,
   "metadata": {
    "executionInfo": {
     "elapsed": 972,
     "status": "ok",
     "timestamp": 1697548231853,
     "user": {
      "displayName": "Wilken Charles",
      "userId": "08238201343018523362"
     },
     "user_tz": 180
    },
    "id": "Q8t6_YEezUds"
   },
   "outputs": [],
   "source": [
    "with open('../data/exp1-trj.t', 'r') as file:\n",
    "    trajs_teste = []\n",
    "\n",
    "    for line in file:\n",
    "        traj = line.strip().split()# Divide cada linha(traj) em cels usando espaço como delimitador e convertendo-as em strings\n",
    "        trajs_teste.append(traj)"
   ]
  },
  {
   "cell_type": "code",
   "execution_count": 4,
   "metadata": {
    "colab": {
     "base_uri": "https://localhost:8080/"
    },
    "executionInfo": {
     "elapsed": 282,
     "status": "ok",
     "timestamp": 1697548249394,
     "user": {
      "displayName": "Wilken Charles",
      "userId": "08238201343018523362"
     },
     "user_tz": 180
    },
    "id": "MmrzMCVE8LVv",
    "outputId": "3f214258-544b-42f5-9562-8f9c5f51c619"
   },
   "outputs": [
    {
     "name": "stdout",
     "output_type": "stream",
     "text": [
      "Quantidade de trajetórias de teste: 101000\n"
     ]
    }
   ],
   "source": [
    "print(\"Quantidade de trajetórias de teste:\", len(trajs_teste))"
   ]
  },
  {
   "cell_type": "code",
   "execution_count": 5,
   "metadata": {
    "colab": {
     "base_uri": "https://localhost:8080/"
    },
    "executionInfo": {
     "elapsed": 4,
     "status": "ok",
     "timestamp": 1697548262871,
     "user": {
      "displayName": "Wilken Charles",
      "userId": "08238201343018523362"
     },
     "user_tz": 180
    },
    "id": "rj5aePi08Tbc",
    "outputId": "6163a528-d906-44fc-cb20-d45412a42bd1"
   },
   "outputs": [
    {
     "name": "stdout",
     "output_type": "stream",
     "text": [
      "['51', '2263', '345', '53', '120', '405', '803', '585', '692', '1566', '533', '1728', '1880', '739', '544', '226', '8']\n"
     ]
    }
   ],
   "source": [
    "print(trajs_teste[2]) # query par"
   ]
  },
  {
   "cell_type": "code",
   "execution_count": 6,
   "metadata": {},
   "outputs": [
    {
     "name": "stdout",
     "output_type": "stream",
     "text": [
      "['51', '430', '345', '120', '856', '131', '673', '585', '233', '2200', '533', '361', '1299', '1215', '66', '588', '7', '8']\n"
     ]
    }
   ],
   "source": [
    "print(trajs_teste[1002]) # \"alvo\" da query par, ou seja, a query ímpar"
   ]
  },
  {
   "cell_type": "code",
   "execution_count": 7,
   "metadata": {
    "colab": {
     "base_uri": "https://localhost:8080/"
    },
    "executionInfo": {
     "elapsed": 297,
     "status": "ok",
     "timestamp": 1697548271367,
     "user": {
      "displayName": "Wilken Charles",
      "userId": "08238201343018523362"
     },
     "user_tz": 180
    },
    "id": "19wRcg6qCpGt",
    "outputId": "de449599-b0f5-452d-d206-bb8721009c01"
   },
   "outputs": [
    {
     "name": "stdout",
     "output_type": "stream",
     "text": [
      "d2v_w5_s256_ep30_dm0.model\r\n",
      "d2v_w5_s256_ep30_dm0.model.dv.vectors.npy\r\n",
      "d2v_w5_s64_ep30_dm0.model\r\n",
      "d2v_w5_s64_ep30_dm0.model.dv.vectors.npy\r\n"
     ]
    }
   ],
   "source": [
    "!ls '../data/saved_models/D2V/'"
   ]
  },
  {
   "cell_type": "code",
   "execution_count": 8,
   "metadata": {
    "executionInfo": {
     "elapsed": 34776,
     "status": "ok",
     "timestamp": 1697548343218,
     "user": {
      "displayName": "Wilken Charles",
      "userId": "08238201343018523362"
     },
     "user_tz": 180
    },
    "id": "tVYlOaR_c9bL"
   },
   "outputs": [],
   "source": [
    "# Carregando o modelo...\n",
    "model = Doc2Vec.load('../data/saved_models/D2V/d2v_w5_s256_ep30_dm0.model')"
   ]
  },
  {
   "cell_type": "code",
   "execution_count": 9,
   "metadata": {
    "colab": {
     "base_uri": "https://localhost:8080/"
    },
    "executionInfo": {
     "elapsed": 5,
     "status": "ok",
     "timestamp": 1697548343818,
     "user": {
      "displayName": "Wilken Charles",
      "userId": "08238201343018523362"
     },
     "user_tz": 180
    },
    "id": "mITOJekdhIV9",
    "outputId": "9e918b8f-2c6a-4386-d393-cab785318f59"
   },
   "outputs": [
    {
     "data": {
      "text/plain": [
       "18827"
      ]
     },
     "execution_count": 9,
     "metadata": {},
     "output_type": "execute_result"
    }
   ],
   "source": [
    "# Size vocab\n",
    "len(model.wv.key_to_index)"
   ]
  },
  {
   "cell_type": "code",
   "execution_count": 10,
   "metadata": {
    "colab": {
     "base_uri": "https://localhost:8080/"
    },
    "executionInfo": {
     "elapsed": 330,
     "status": "ok",
     "timestamp": 1697548713399,
     "user": {
      "displayName": "Wilken Charles",
      "userId": "08238201343018523362"
     },
     "user_tz": 180
    },
    "id": "WeMokOs4k_lC",
    "outputId": "773f70c1-708f-4131-e22f-b993cc108384"
   },
   "outputs": [
    {
     "data": {
      "text/plain": [
       "256"
      ]
     },
     "execution_count": 10,
     "metadata": {},
     "output_type": "execute_result"
    }
   ],
   "source": [
    "model.vector_size"
   ]
  },
  {
   "cell_type": "code",
   "execution_count": 11,
   "metadata": {
    "colab": {
     "base_uri": "https://localhost:8080/"
    },
    "executionInfo": {
     "elapsed": 2852,
     "status": "ok",
     "timestamp": 1697548740469,
     "user": {
      "displayName": "Wilken Charles",
      "userId": "08238201343018523362"
     },
     "user_tz": 180
    },
    "id": "tq50FNRyyeXv",
    "outputId": "507b9b32-1ac7-4cde-f01e-e5842a17e7aa"
   },
   "outputs": [
    {
     "data": {
      "text/plain": [
       "[(1, 0.9288357496261597),\n",
       " (2, 0.9009144902229309),\n",
       " (8, 0.8770485520362854),\n",
       " (4, 0.8750783801078796),\n",
       " (10, 0.8543340563774109),\n",
       " (9, 0.8264051675796509),\n",
       " (6, 0.8199347853660583),\n",
       " (15, 0.7996591329574585),\n",
       " (14, 0.7890172004699707),\n",
       " (12, 0.7884296178817749)]"
      ]
     },
     "execution_count": 11,
     "metadata": {},
     "output_type": "execute_result"
    }
   ],
   "source": [
    "# Pegando as trajetórias mais similares a trajetória id = 0\n",
    "mosts = model.dv.most_similar(0)\n",
    "mosts"
   ]
  },
  {
   "cell_type": "code",
   "execution_count": 12,
   "metadata": {
    "executionInfo": {
     "elapsed": 326,
     "status": "ok",
     "timestamp": 1697548782476,
     "user": {
      "displayName": "Wilken Charles",
      "userId": "08238201343018523362"
     },
     "user_tz": 180
    },
    "id": "gumhb7AfyeUP"
   },
   "outputs": [],
   "source": [
    "def get_embedding_for_all_trajs(trajs):\n",
    "    emb_trajs = np.zeros((len(trajs),) + (model.vector_size,), dtype=np.float32) # shape --> (len(trajs), vector_size). Ex. para Dq, shape --> (1000, 64)\n",
    "\n",
    "    idx = 0\n",
    "    for traj in trajs:\n",
    "        emb_trajs[idx] = model.infer_vector(traj, epochs=model.epochs)\n",
    "        idx += 1\n",
    "\n",
    "        percent_done = (idx / len(trajs)) * 100 # Calcula a porcentagem concluída\n",
    "        print(f\"Progresso: {percent_done:.2f}% concluído\", end=\"\\r\")  # A opção `end=\"\\r\"` permite que a impressão seja substituída na mesma linha\n",
    "\n",
    "    return emb_trajs"
   ]
  },
  {
   "cell_type": "code",
   "execution_count": 13,
   "metadata": {
    "executionInfo": {
     "elapsed": 1517,
     "status": "ok",
     "timestamp": 1697548854035,
     "user": {
      "displayName": "Wilken Charles",
      "userId": "08238201343018523362"
     },
     "user_tz": 180
    },
    "id": "6GDX7KK2yeMy"
   },
   "outputs": [],
   "source": [
    "# Segmentando: query (trajs pares) e dbsearch (querys ímpar + 99000 outras ímpares)\n",
    "query = trajs_teste[:1000] # trajs query (pares)\n",
    "dbsearch = trajs_teste[1000:101000] # dbsearch trajs (as 1000 primeiras são as query ímpar)"
   ]
  },
  {
   "cell_type": "code",
   "execution_count": 14,
   "metadata": {
    "colab": {
     "base_uri": "https://localhost:8080/"
    },
    "executionInfo": {
     "elapsed": 286,
     "status": "ok",
     "timestamp": 1697548932885,
     "user": {
      "displayName": "Wilken Charles",
      "userId": "08238201343018523362"
     },
     "user_tz": 180
    },
    "id": "6dblsSHHyeKQ",
    "outputId": "edc079a4-8d3d-4176-b618-a4b91f1e3327"
   },
   "outputs": [
    {
     "name": "stdout",
     "output_type": "stream",
     "text": [
      "1000\n",
      "100000\n"
     ]
    }
   ],
   "source": [
    "print(len(query))\n",
    "print(len(dbsearch))"
   ]
  },
  {
   "cell_type": "code",
   "execution_count": 15,
   "metadata": {
    "colab": {
     "base_uri": "https://localhost:8080/"
    },
    "executionInfo": {
     "elapsed": 774,
     "status": "ok",
     "timestamp": 1697548949532,
     "user": {
      "displayName": "Wilken Charles",
      "userId": "08238201343018523362"
     },
     "user_tz": 180
    },
    "id": "ZefWaXD_y_cF",
    "outputId": "327faafe-5285-4c41-9272-da41238c39ea"
   },
   "outputs": [
    {
     "name": "stdout",
     "output_type": "stream",
     "text": [
      "Progresso: 100.00% concluído\r"
     ]
    }
   ],
   "source": [
    "# Pegando os embeddings das trajs query:\n",
    "query = get_embedding_for_all_trajs(query)"
   ]
  },
  {
   "cell_type": "code",
   "execution_count": 16,
   "metadata": {
    "colab": {
     "base_uri": "https://localhost:8080/"
    },
    "executionInfo": {
     "elapsed": 48509,
     "status": "ok",
     "timestamp": 1697549026734,
     "user": {
      "displayName": "Wilken Charles",
      "userId": "08238201343018523362"
     },
     "user_tz": 180
    },
    "id": "ukY6pelpy_XE",
    "outputId": "d2b0182f-cd7c-4879-a464-cdb9f82466ca"
   },
   "outputs": [
    {
     "name": "stdout",
     "output_type": "stream",
     "text": [
      "Progresso: 100.00% concluído\r"
     ]
    }
   ],
   "source": [
    "# Pegando os embeddings das trajs do dbsearch:\n",
    "dbsearch = get_embedding_for_all_trajs(dbsearch)"
   ]
  },
  {
   "cell_type": "code",
   "execution_count": 17,
   "metadata": {
    "executionInfo": {
     "elapsed": 7,
     "status": "ok",
     "timestamp": 1697549026735,
     "user": {
      "displayName": "Wilken Charles",
      "userId": "08238201343018523362"
     },
     "user_tz": 180
    },
    "id": "PJGYD4d6y_Uu"
   },
   "outputs": [],
   "source": [
    "def rank(t_query, i, db_search):\n",
    "    dists = cosine_distances(t_query.reshape(1, -1), db_search) # pega todas as distâncias de Dq[i] as trajs do db_search (D_qUD_p)\n",
    "    dists = dists.flatten()\n",
    "    order = dists.argsort() # pega a ordem\n",
    "    ranks = order.argsort() # pega o rank\n",
    "\n",
    "    return ranks[i] + 1 # retorna o ranking de ta' no dbsearch | soma +1 pq o argsort rankea a partir de 0 (zero)"
   ]
  },
  {
   "cell_type": "code",
   "execution_count": 18,
   "metadata": {
    "executionInfo": {
     "elapsed": 6,
     "status": "ok",
     "timestamp": 1697549026735,
     "user": {
      "displayName": "Wilken Charles",
      "userId": "08238201343018523362"
     },
     "user_tz": 180
    },
    "id": "Rxlewk3Ay_Rt"
   },
   "outputs": [],
   "source": [
    "def acc(ranks):\n",
    "    count = 0\n",
    "    for i in range(len(ranks)):\n",
    "        if ranks[i] == 1:\n",
    "            count += 1\n",
    "\n",
    "    return round(count/len(ranks), 2)"
   ]
  },
  {
   "cell_type": "code",
   "execution_count": 19,
   "metadata": {
    "executionInfo": {
     "elapsed": 5,
     "status": "ok",
     "timestamp": 1697549026735,
     "user": {
      "displayName": "Wilken Charles",
      "userId": "08238201343018523362"
     },
     "user_tz": 180
    },
    "id": "ZpgaRmRfzjAb"
   },
   "outputs": [],
   "source": [
    "def mr(ranks):\n",
    "    return (sum(ranks)/len(ranks))"
   ]
  },
  {
   "cell_type": "code",
   "execution_count": 20,
   "metadata": {
    "executionInfo": {
     "elapsed": 3,
     "status": "ok",
     "timestamp": 1697549037453,
     "user": {
      "displayName": "Wilken Charles",
      "userId": "08238201343018523362"
     },
     "user_tz": 180
    },
    "id": "KOYeynDwzi97"
   },
   "outputs": [],
   "source": [
    "def mrr(ranks):\n",
    "    count = 0\n",
    "    for i in range(len(ranks)):\n",
    "        count += 1/ranks[i]\n",
    "\n",
    "    return round(count/len(ranks), 2)"
   ]
  },
  {
   "cell_type": "code",
   "execution_count": 21,
   "metadata": {
    "executionInfo": {
     "elapsed": 473,
     "status": "ok",
     "timestamp": 1697549307006,
     "user": {
      "displayName": "Wilken Charles",
      "userId": "08238201343018523362"
     },
     "user_tz": 180
    },
    "id": "TlJZpKf0zi7S"
   },
   "outputs": [],
   "source": [
    "# Intervalo de Confiança do Ranks\n",
    "def cip_r(ranks):\n",
    "    data = []\n",
    "    for i in range(len(ranks)):\n",
    "        data.append(ranks[i]) # Add os Ranks\n",
    "\n",
    "    #create 95% confidence interval for population mean weight\n",
    "    ic = st.t.interval(alpha=0.95, df=len(data)-1, loc=np.mean(data), scale=st.sem(data))\n",
    "\n",
    "    return tuple(round(valor, 3) for valor in ic) # arredonda pra 3 casas decimais"
   ]
  },
  {
   "cell_type": "code",
   "execution_count": 22,
   "metadata": {
    "executionInfo": {
     "elapsed": 2,
     "status": "ok",
     "timestamp": 1697549307589,
     "user": {
      "displayName": "Wilken Charles",
      "userId": "08238201343018523362"
     },
     "user_tz": 180
    },
    "id": "yQ0cHmk9zi2Z"
   },
   "outputs": [],
   "source": [
    "# Intervalo de Confiança dos Reciprocal Ranks\n",
    "def cip_rr(ranks):\n",
    "    data = []\n",
    "    for i in range(len(ranks)):\n",
    "        data.append(1/ranks[i]) # Add os RRs...\n",
    "\n",
    "    #create 95% confidence interval for population mean weight\n",
    "    ic = st.t.interval(alpha=0.95, df=len(data)-1, loc=np.mean(data), scale=st.sem(data))\n",
    "\n",
    "    return tuple(round(valor, 3) for valor in ic) # arredonda pra 3 casas decimais"
   ]
  },
  {
   "cell_type": "code",
   "execution_count": 23,
   "metadata": {},
   "outputs": [
    {
     "name": "stdout",
     "output_type": "stream",
     "text": [
      "Mean rank: 10.25(7.939, 12.561), Acc: 0.55, MRR: 0.66(0.636, 0.685) with dbsearch size: 20000\n",
      "Mean rank: 19.379(14.797, 23.961), Acc: 0.47, MRR: 0.58(0.556, 0.608) with dbsearch size: 40000\n",
      "Mean rank: 28.375(21.597, 35.153), Acc: 0.43, MRR: 0.54(0.517, 0.57) with dbsearch size: 60000\n",
      "Mean rank: 38.304(29.055, 47.553), Acc: 0.4, MRR: 0.51(0.485, 0.538) with dbsearch size: 80000\n",
      "Mean rank: 47.626(36.082, 59.17), Acc: 0.39, MRR: 0.49(0.464, 0.517) with dbsearch size: 100000\n",
      "CPU times: user 15min 34s, sys: 38min 25s, total: 54min\n",
      "Wall time: 13min 39s\n"
     ]
    }
   ],
   "source": [
    "%%time\n",
    "# d2v_w5_s256_ep30_dm0.model\n",
    "dbsizes = [20000, 40000, 60000, 80000, 100000]\n",
    "for dbsize in dbsizes:\n",
    "    ranks = []\n",
    "    search = dbsearch[:dbsize]\n",
    "    for i in range(len(query)):\n",
    "        ranks.append(rank(query[i], i, search)) # rank das ta no dbsearch!\n",
    "    print('Mean rank: {}{}, Acc: {}, MRR: {}{} with dbsearch size: {}'.format(mr(ranks), cip_r(ranks), acc(ranks), mrr(ranks), cip_rr(ranks), dbsize))"
   ]
  },
  {
   "cell_type": "code",
   "execution_count": 23,
   "metadata": {},
   "outputs": [
    {
     "name": "stdout",
     "output_type": "stream",
     "text": [
      "Mean rank: 3.052(2.369, 3.735), Acc: 0.75, MRR: 0.82(0.805, 0.844) with dbsearch size: 20000\n",
      "Mean rank: 5.069(3.743, 6.395), Acc: 0.68, MRR: 0.77(0.748, 0.792) with dbsearch size: 40000\n",
      "Mean rank: 7.047(5.089, 9.005), Acc: 0.64, MRR: 0.73(0.711, 0.758) with dbsearch size: 60000\n",
      "Mean rank: 9.072(6.54, 11.604), Acc: 0.61, MRR: 0.71(0.681, 0.729) with dbsearch size: 80000\n",
      "Mean rank: 10.982(7.884, 14.08), Acc: 0.58, MRR: 0.68(0.659, 0.708) with dbsearch size: 100000\n",
      "CPU times: user 12min 39s, sys: 34min 5s, total: 46min 44s\n",
      "Wall time: 11min 47s\n"
     ]
    }
   ],
   "source": [
    "%%time\n",
    "# d2v_w5_s128_ep30_dm0.model\n",
    "dbsizes = [20000, 40000, 60000, 80000, 100000]\n",
    "for dbsize in dbsizes:\n",
    "    ranks = []\n",
    "    search = dbsearch[:dbsize]\n",
    "    for i in range(len(query)):\n",
    "        ranks.append(rank(query[i], i, search)) # rank das ta no dbsearch!\n",
    "    print('Mean rank: {}{}, Acc: {}, MRR: {}{} with dbsearch size: {}'.format(mr(ranks), cip_r(ranks), acc(ranks), mrr(ranks), cip_rr(ranks), dbsize))"
   ]
  },
  {
   "cell_type": "code",
   "execution_count": 27,
   "metadata": {
    "colab": {
     "base_uri": "https://localhost:8080/"
    },
    "executionInfo": {
     "elapsed": 157861,
     "status": "ok",
     "timestamp": 1697549466414,
     "user": {
      "displayName": "Wilken Charles",
      "userId": "08238201343018523362"
     },
     "user_tz": 180
    },
    "id": "D82X900Izx8l",
    "outputId": "2377a5b8-5272-4e9f-92c9-ff2ac1b98046"
   },
   "outputs": [
    {
     "name": "stdout",
     "output_type": "stream",
     "text": [
      "Mean rank: 3185.365(2894.678, 3476.052), Acc: 0.04, MRR: 0.07(0.054, 0.079) with dbsearch size: 20000\n",
      "Mean rank: 6368.482(5787.291, 6949.673), Acc: 0.02, MRR: 0.05(0.037, 0.057) with dbsearch size: 40000\n",
      "Mean rank: 9559.959(8687.629, 10432.289), Acc: 0.02, MRR: 0.04(0.028, 0.046) with dbsearch size: 60000\n",
      "Mean rank: 12782.632(11617.801, 13947.463), Acc: 0.02, MRR: 0.03(0.024, 0.041) with dbsearch size: 80000\n",
      "Mean rank: 16021.086(14563.174, 17478.998), Acc: 0.01, MRR: 0.03(0.021, 0.037) with dbsearch size: 100000\n",
      "CPU times: user 10min 44s, sys: 30min 30s, total: 41min 15s\n",
      "Wall time: 10min 22s\n"
     ]
    }
   ],
   "source": [
    "%%time\n",
    "# d2v_w5_s64_ep1_dm0.model\n",
    "dbsizes = [20000, 40000, 60000, 80000, 100000]\n",
    "for dbsize in dbsizes:\n",
    "    ranks = []\n",
    "    search = dbsearch[:dbsize]\n",
    "    for i in range(len(query)):\n",
    "        ranks.append(rank(query[i], i, search)) # rank das ta no dbsearch!\n",
    "    print('Mean rank: {}{}, Acc: {}, MRR: {}{} with dbsearch size: {}'.format(mr(ranks), cip_r(ranks), acc(ranks), mrr(ranks), cip_rr(ranks), dbsize))"
   ]
  },
  {
   "cell_type": "code",
   "execution_count": 50,
   "metadata": {},
   "outputs": [
    {
     "name": "stdout",
     "output_type": "stream",
     "text": [
      "Mean rank: 5.47(2.428, 8.512), Acc: 0.71, MRR: 0.79(0.771, 0.813) with dbsearch size: 20000\n",
      "Mean rank: 9.482(3.527, 15.437), Acc: 0.63, MRR: 0.73(0.704, 0.751) with dbsearch size: 40000\n",
      "Mean rank: 13.475(4.661, 22.289), Acc: 0.58, MRR: 0.69(0.664, 0.712) with dbsearch size: 60000\n",
      "Mean rank: 18.213(6.451, 29.975), Acc: 0.55, MRR: 0.66(0.63, 0.68) with dbsearch size: 80000\n",
      "Mean rank: 22.57(7.938, 37.202), Acc: 0.53, MRR: 0.63(0.607, 0.657) with dbsearch size: 100000\n",
      "CPU times: user 10min 38s, sys: 30min 21s, total: 41min\n",
      "Wall time: 10min 19s\n"
     ]
    }
   ],
   "source": [
    "%%time\n",
    "# d2v_w5_s64_ep5_dm0.model\n",
    "dbsizes = [20000, 40000, 60000, 80000, 100000]\n",
    "for dbsize in dbsizes:\n",
    "    ranks = []\n",
    "    search = dbsearch[:dbsize]\n",
    "    for i in range(len(query)):\n",
    "        ranks.append(rank(query[i], i, search)) # rank das ta no dbsearch!\n",
    "    print('Mean rank: {}{}, Acc: {}, MRR: {}{} with dbsearch size: {}'.format(mr(ranks), cip_r(ranks), acc(ranks), mrr(ranks), cip_rr(ranks), dbsize))"
   ]
  },
  {
   "cell_type": "code",
   "execution_count": 66,
   "metadata": {},
   "outputs": [
    {
     "name": "stdout",
     "output_type": "stream",
     "text": [
      "Mean rank: 11.079(-4.652, 26.81), Acc: 0.81, MRR: 0.87(0.85, 0.885) with dbsearch size: 20000\n",
      "Mean rank: 21.008(-10.157, 52.173), Acc: 0.75, MRR: 0.83(0.806, 0.845) with dbsearch size: 40000\n",
      "Mean rank: 30.78(-15.743, 77.303), Acc: 0.71, MRR: 0.8(0.777, 0.818) with dbsearch size: 60000\n",
      "Mean rank: 40.338(-20.812, 101.488), Acc: 0.69, MRR: 0.77(0.751, 0.795) with dbsearch size: 80000\n",
      "Mean rank: 49.359(-25.52, 124.238), Acc: 0.67, MRR: 0.75(0.732, 0.777) with dbsearch size: 100000\n",
      "CPU times: user 10min 46s, sys: 30min 32s, total: 41min 19s\n",
      "Wall time: 10min 23s\n"
     ]
    }
   ],
   "source": [
    "%%time\n",
    "# d2v_w5_s64_ep10_dm0.model\n",
    "dbsizes = [20000, 40000, 60000, 80000, 100000]\n",
    "for dbsize in dbsizes:\n",
    "    ranks = []\n",
    "    search = dbsearch[:dbsize]\n",
    "    for i in range(len(query)):\n",
    "        ranks.append(rank(query[i], i, search)) # rank das ta no dbsearch!\n",
    "    print('Mean rank: {}{}, Acc: {}, MRR: {}{} with dbsearch size: {}'.format(mr(ranks), cip_r(ranks), acc(ranks), mrr(ranks), cip_rr(ranks), dbsize))"
   ]
  },
  {
   "cell_type": "code",
   "execution_count": 82,
   "metadata": {},
   "outputs": [
    {
     "name": "stdout",
     "output_type": "stream",
     "text": [
      "Mean rank: 1.837(1.042, 2.632), Acc: 0.86, MRR: 0.91(0.898, 0.926) with dbsearch size: 20000\n",
      "Mean rank: 2.644(0.973, 4.315), Acc: 0.82, MRR: 0.88(0.866, 0.898) with dbsearch size: 40000\n",
      "Mean rank: 3.436(0.886, 5.986), Acc: 0.79, MRR: 0.86(0.841, 0.876) with dbsearch size: 60000\n",
      "Mean rank: 4.289(0.955, 7.623), Acc: 0.76, MRR: 0.83(0.814, 0.852) with dbsearch size: 80000\n",
      "Mean rank: 5.076(0.969, 9.183), Acc: 0.74, MRR: 0.82(0.797, 0.837) with dbsearch size: 100000\n",
      "CPU times: user 10min 44s, sys: 30min 29s, total: 41min 13s\n",
      "Wall time: 10min 22s\n"
     ]
    }
   ],
   "source": [
    "%%time\n",
    "# d2v_w5_s64_ep20_dm0.model\n",
    "dbsizes = [20000, 40000, 60000, 80000, 100000]\n",
    "for dbsize in dbsizes:\n",
    "    ranks = []\n",
    "    search = dbsearch[:dbsize]\n",
    "    for i in range(len(query)):\n",
    "        ranks.append(rank(query[i], i, search)) # rank das ta no dbsearch!\n",
    "    print('Mean rank: {}{}, Acc: {}, MRR: {}{} with dbsearch size: {}'.format(mr(ranks), cip_r(ranks), acc(ranks), mrr(ranks), cip_rr(ranks), dbsize))"
   ]
  },
  {
   "cell_type": "code",
   "execution_count": 98,
   "metadata": {},
   "outputs": [
    {
     "name": "stdout",
     "output_type": "stream",
     "text": [
      "Mean rank: 1.441(1.234, 1.648), Acc: 0.88, MRR: 0.92(0.907, 0.934) with dbsearch size: 20000\n",
      "Mean rank: 1.805(1.464, 2.146), Acc: 0.82, MRR: 0.88(0.867, 0.899) with dbsearch size: 40000\n",
      "Mean rank: 2.164(1.693, 2.635), Acc: 0.8, MRR: 0.86(0.845, 0.88) with dbsearch size: 60000\n",
      "Mean rank: 2.623(1.935, 3.311), Acc: 0.77, MRR: 0.84(0.821, 0.859) with dbsearch size: 80000\n",
      "Mean rank: 2.996(2.128, 3.864), Acc: 0.75, MRR: 0.82(0.805, 0.844) with dbsearch size: 100000\n",
      "CPU times: user 10min 37s, sys: 30min 8s, total: 40min 46s\n",
      "Wall time: 10min 15s\n"
     ]
    }
   ],
   "source": [
    "%%time\n",
    "# d2v_w5_s64_ep30_dm0.model\n",
    "dbsizes = [20000, 40000, 60000, 80000, 100000]\n",
    "for dbsize in dbsizes:\n",
    "    ranks = []\n",
    "    search = dbsearch[:dbsize]\n",
    "    for i in range(len(query)):\n",
    "        ranks.append(rank(query[i], i, search)) # rank das ta no dbsearch!\n",
    "    print('Mean rank: {}{}, Acc: {}, MRR: {}{} with dbsearch size: {}'.format(mr(ranks), cip_r(ranks), acc(ranks), mrr(ranks), cip_rr(ranks), dbsize))"
   ]
  },
  {
   "cell_type": "code",
   "execution_count": 114,
   "metadata": {},
   "outputs": [
    {
     "name": "stdout",
     "output_type": "stream",
     "text": [
      "Mean rank: 1.447(1.282, 1.612), Acc: 0.88, MRR: 0.92(0.908, 0.935) with dbsearch size: 20000\n",
      "Mean rank: 1.882(1.565, 2.199), Acc: 0.82, MRR: 0.88(0.869, 0.901) with dbsearch size: 40000\n",
      "Mean rank: 2.287(1.847, 2.727), Acc: 0.8, MRR: 0.86(0.845, 0.88) with dbsearch size: 60000\n",
      "Mean rank: 2.796(2.181, 3.411), Acc: 0.77, MRR: 0.84(0.82, 0.858) with dbsearch size: 80000\n",
      "Mean rank: 3.188(2.436, 3.94), Acc: 0.75, MRR: 0.83(0.806, 0.845) with dbsearch size: 100000\n",
      "CPU times: user 10min 43s, sys: 30min 18s, total: 41min 2s\n",
      "Wall time: 10min 19s\n"
     ]
    }
   ],
   "source": [
    "%%time\n",
    "# d2v_w5_s64_ep40_dm0.model\n",
    "dbsizes = [20000, 40000, 60000, 80000, 100000]\n",
    "for dbsize in dbsizes:\n",
    "    ranks = []\n",
    "    search = dbsearch[:dbsize]\n",
    "    for i in range(len(query)):\n",
    "        ranks.append(rank(query[i], i, search)) # rank das ta no dbsearch!\n",
    "    print('Mean rank: {}{}, Acc: {}, MRR: {}{} with dbsearch size: {}'.format(mr(ranks), cip_r(ranks), acc(ranks), mrr(ranks), cip_rr(ranks), dbsize))"
   ]
  },
  {
   "cell_type": "code",
   "execution_count": 130,
   "metadata": {},
   "outputs": [
    {
     "name": "stdout",
     "output_type": "stream",
     "text": [
      "Mean rank: 1.389(1.286, 1.492), Acc: 0.86, MRR: 0.91(0.898, 0.926) with dbsearch size: 20000\n",
      "Mean rank: 1.739(1.551, 1.927), Acc: 0.82, MRR: 0.88(0.863, 0.896) with dbsearch size: 40000\n",
      "Mean rank: 2.061(1.796, 2.326), Acc: 0.79, MRR: 0.85(0.837, 0.873) with dbsearch size: 60000\n",
      "Mean rank: 2.478(2.117, 2.839), Acc: 0.75, MRR: 0.83(0.81, 0.848) with dbsearch size: 80000\n",
      "Mean rank: 2.828(2.377, 3.279), Acc: 0.73, MRR: 0.81(0.791, 0.831) with dbsearch size: 100000\n",
      "CPU times: user 10min 44s, sys: 30min 29s, total: 41min 13s\n",
      "Wall time: 10min 22s\n"
     ]
    }
   ],
   "source": [
    "%%time\n",
    "# d2v_w5_s64_ep50_dm0.model\n",
    "dbsizes = [20000, 40000, 60000, 80000, 100000]\n",
    "for dbsize in dbsizes:\n",
    "    ranks = []\n",
    "    search = dbsearch[:dbsize]\n",
    "    for i in range(len(query)):\n",
    "        ranks.append(rank(query[i], i, search)) # rank das ta no dbsearch!\n",
    "    print('Mean rank: {}{}, Acc: {}, MRR: {}{} with dbsearch size: {}'.format(mr(ranks), cip_r(ranks), acc(ranks), mrr(ranks), cip_rr(ranks), dbsize))"
   ]
  },
  {
   "cell_type": "code",
   "execution_count": 146,
   "metadata": {
    "id": "SPgGq8hEyeHX"
   },
   "outputs": [
    {
     "name": "stdout",
     "output_type": "stream",
     "text": [
      "Mean rank: 2.347(1.58, 3.114), Acc: 0.84, MRR: 0.89(0.877, 0.908) with dbsearch size: 20000\n",
      "Mean rank: 3.633(2.074, 5.192), Acc: 0.78, MRR: 0.85(0.834, 0.87) with dbsearch size: 40000\n",
      "Mean rank: 4.901(2.556, 7.246), Acc: 0.75, MRR: 0.83(0.808, 0.846) with dbsearch size: 60000\n",
      "Mean rank: 6.234(3.159, 9.309), Acc: 0.72, MRR: 0.8(0.781, 0.822) with dbsearch size: 80000\n",
      "Mean rank: 7.417(3.64, 11.194), Acc: 0.7, MRR: 0.79(0.764, 0.806) with dbsearch size: 100000\n",
      "CPU times: user 10min 46s, sys: 30min 26s, total: 41min 12s\n",
      "Wall time: 10min 22s\n"
     ]
    }
   ],
   "source": [
    "%%time\n",
    "# d2v_w5_s64_ep100_dm0.model\n",
    "dbsizes = [20000, 40000, 60000, 80000, 100000]\n",
    "for dbsize in dbsizes:\n",
    "    ranks = []\n",
    "    search = dbsearch[:dbsize]\n",
    "    for i in range(len(query)):\n",
    "        ranks.append(rank(query[i], i, search)) # rank das ta no dbsearch!\n",
    "    print('Mean rank: {}{}, Acc: {}, MRR: {}{} with dbsearch size: {}'.format(mr(ranks), cip_r(ranks), acc(ranks), mrr(ranks), cip_rr(ranks), dbsize))"
   ]
  }
 ],
 "metadata": {
  "colab": {
   "authorship_tag": "ABX9TyPy37m4vuWRdT+RjuoFGswM",
   "machine_shape": "hm",
   "mount_file_id": "1p08vH0TUoD3gAjgD0xgbL72V9mmzEwii",
   "provenance": []
  },
  "gpuClass": "standard",
  "kernelspec": {
   "display_name": "Python 3 (ipykernel)",
   "language": "python",
   "name": "python3"
  },
  "language_info": {
   "codemirror_mode": {
    "name": "ipython",
    "version": 3
   },
   "file_extension": ".py",
   "mimetype": "text/x-python",
   "name": "python",
   "nbconvert_exporter": "python",
   "pygments_lexer": "ipython3",
   "version": "3.7.12"
  }
 },
 "nbformat": 4,
 "nbformat_minor": 1
}
