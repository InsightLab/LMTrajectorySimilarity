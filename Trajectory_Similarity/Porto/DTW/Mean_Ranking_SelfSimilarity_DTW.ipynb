{
 "cells": [
  {
   "cell_type": "code",
   "execution_count": 2,
   "metadata": {},
   "outputs": [
    {
     "name": "stdout",
     "output_type": "stream",
     "text": [
      "Defaulting to user installation because normal site-packages is not writeable\n",
      "Collecting numba\n",
      "  Downloading numba-0.56.4-cp37-cp37m-manylinux2014_x86_64.manylinux_2_17_x86_64.whl (3.5 MB)\n",
      "     |████████████████████████████████| 3.5 MB 1.1 MB/s            \n",
      "\u001b[?25hCollecting llvmlite<0.40,>=0.39.0dev0\n",
      "  Downloading llvmlite-0.39.1-cp37-cp37m-manylinux_2_17_x86_64.manylinux2014_x86_64.whl (34.6 MB)\n",
      "     |████████████████████████████████| 34.6 MB 14.7 MB/s            \n",
      "\u001b[?25hRequirement already satisfied: setuptools in /opt/tljh/user/lib/python3.7/site-packages (from numba) (68.0.0)\n",
      "Requirement already satisfied: importlib-metadata in /opt/tljh/user/lib/python3.7/site-packages (from numba) (6.7.0)\n",
      "Requirement already satisfied: numpy<1.24,>=1.18 in /opt/tljh/user/lib/python3.7/site-packages (from numba) (1.21.6)\n",
      "Requirement already satisfied: typing-extensions>=3.6.4 in /opt/tljh/user/lib/python3.7/site-packages (from importlib-metadata->numba) (4.7.1)\n",
      "Requirement already satisfied: zipp>=0.5 in /opt/tljh/user/lib/python3.7/site-packages (from importlib-metadata->numba) (3.15.0)\n",
      "Installing collected packages: llvmlite, numba\n",
      "Successfully installed llvmlite-0.39.1 numba-0.56.4\n"
     ]
    }
   ],
   "source": [
    "!pip install numba"
   ]
  },
  {
   "cell_type": "code",
   "execution_count": 1,
   "metadata": {
    "id": "aqgeBfcey_BM"
   },
   "outputs": [],
   "source": [
    "import time\n",
    "import pickle\n",
    "import numpy as np\n",
    "import pandas as pd\n",
    "import scipy.stats as st\n",
    "from numba import njit, prange\n",
    "from math import sin, cos, sqrt, atan2, radians"
   ]
  },
  {
   "cell_type": "code",
   "execution_count": 2,
   "metadata": {
    "id": "OYJ6oHsNo21z"
   },
   "outputs": [],
   "source": [
    "path = '../data/'"
   ]
  },
  {
   "cell_type": "code",
   "execution_count": 3,
   "metadata": {},
   "outputs": [
    {
     "name": "stdout",
     "output_type": "stream",
     "text": [
      "D_p-pts.pickle\texp1-trj.label\tporto.csv     train.src  val.trg\r\n",
      "D_q-pts.pickle\texp1-trj.pts\tREADME.md     train.trg  vocab.txt\r\n",
      "Dq-pts.pickle\texp1-trj.t\tsaved_models  val.src\r\n"
     ]
    }
   ],
   "source": [
    "!ls $path"
   ]
  },
  {
   "cell_type": "code",
   "execution_count": 4,
   "metadata": {
    "id": "ZFe83F7qowi8"
   },
   "outputs": [],
   "source": [
    "# Reloading Dq...\n",
    "with open(path+'Dq-pts.pickle', 'rb') as file:\n",
    "    Dq = pickle.load(file)\n",
    "\n",
    "# Reloading D_q...\n",
    "with open(path+'D_q-pts.pickle', 'rb') as file:\n",
    "    D_q = pickle.load(file)\n",
    "\n",
    "# Reloading D_p...\n",
    "with open(path+'D_p-pts.pickle', 'rb') as file:\n",
    "    D_p = pickle.load(file)"
   ]
  },
  {
   "cell_type": "code",
   "execution_count": 5,
   "metadata": {
    "id": "3HS7mjhosJDE"
   },
   "outputs": [],
   "source": [
    "@njit\n",
    "def dist_haversine(p1, p2):\n",
    "  \"\"\"\n",
    "  p1 --> numpy array [lon, lat]\n",
    "  p2 --> numpy array [lon, lat]\n",
    "  \"\"\"\n",
    "  # approximate radius of earth in km\n",
    "  R = 6371.0\n",
    "\n",
    "  lon1 = radians(p1[0]) # p1[x, ]\n",
    "  lat1 = radians(p1[1]) # p1[ ,y]\n",
    "  lon2 = radians(p2[0]) # p2[x, ]\n",
    "  lat2 = radians(p2[1]) # p2[ ,y]\n",
    "\n",
    "  dlon = lon2 - lon1\n",
    "  dlat = lat2 - lat1\n",
    "\n",
    "  a = sin(dlat / 2)**2 + cos(lat1) * cos(lat2) * sin(dlon / 2)**2\n",
    "  c = 2 * atan2(sqrt(a), sqrt(1 - a))\n",
    "\n",
    "  distance = R * c\n",
    "\n",
    "  return distance * 1000"
   ]
  },
  {
   "cell_type": "code",
   "execution_count": 6,
   "metadata": {
    "id": "KuRW3Akaqjva"
   },
   "outputs": [],
   "source": [
    "@njit\n",
    "def dtw_numba(t1, t2, dist):\n",
    "    len_t1, len_t2 = t1.shape[0], t2.shape[0]\n",
    "    dists = np.full((len_t1+1, len_t2+1), np.inf)\n",
    "    dists[0, 0] = 0.0\n",
    "    for i in prange(1, len_t1+1):\n",
    "        for j in prange(1, len_t2+1):\n",
    "            dt = dist(t1[i-1], t2[j-1])\n",
    "            dists[i, j] = min((dists[i-1, j]+dt), (dists[i, j-1]+dt), (dists[i-1, j-1]+dt))\n",
    "\n",
    "    return dists[len_t1, len_t2]"
   ]
  },
  {
   "cell_type": "code",
   "execution_count": 7,
   "metadata": {
    "colab": {
     "base_uri": "https://localhost:8080/"
    },
    "executionInfo": {
     "elapsed": 2,
     "status": "ok",
     "timestamp": 1688672508033,
     "user": {
      "displayName": "Wilken Charles",
      "userId": "08238201343018523362"
     },
     "user_tz": 180
    },
    "id": "D5VgnwytsYWp",
    "outputId": "11d71edd-bc1b-403f-ff1d-8de23cb260c4"
   },
   "outputs": [
    {
     "data": {
      "text/plain": [
       "array([[-8.585676, 41.148621],\n",
       "       [-8.585721, 41.148864],\n",
       "       [-8.587161, 41.149044],\n",
       "       [-8.590383, 41.150052],\n",
       "       [-8.593281, 41.150772],\n",
       "       [-8.593254, 41.150808],\n",
       "       [-8.59401 , 41.150493],\n",
       "       [-8.593335, 41.148324],\n",
       "       [-8.593056, 41.147415],\n",
       "       [-8.592993, 41.147397],\n",
       "       [-8.592939, 41.147352],\n",
       "       [-8.59293 , 41.147334]])"
      ]
     },
     "execution_count": 7,
     "metadata": {},
     "output_type": "execute_result"
    }
   ],
   "source": [
    "Dq[0]"
   ]
  },
  {
   "cell_type": "code",
   "execution_count": 8,
   "metadata": {
    "colab": {
     "base_uri": "https://localhost:8080/"
    },
    "executionInfo": {
     "elapsed": 3,
     "status": "ok",
     "timestamp": 1688671154398,
     "user": {
      "displayName": "Wilken Charles",
      "userId": "08238201343018523362"
     },
     "user_tz": 180
    },
    "id": "-2jOhahOpNr5",
    "outputId": "f67e0c76-b89a-4a1d-8402-1ab81a484815"
   },
   "outputs": [
    {
     "data": {
      "text/plain": [
       "array([[-8.585694, 41.148639],\n",
       "       [-8.586135, 41.14899 ],\n",
       "       [-8.588574, 41.149557],\n",
       "       [-8.592345, 41.150547],\n",
       "       [-8.593272, 41.150808],\n",
       "       [-8.59356 , 41.150871],\n",
       "       [-8.593767, 41.149683],\n",
       "       [-8.593083, 41.14746 ],\n",
       "       [-8.59302 , 41.147406],\n",
       "       [-8.592966, 41.147379],\n",
       "       [-8.59293 , 41.147343],\n",
       "       [-8.59293 , 41.147325]])"
      ]
     },
     "execution_count": 8,
     "metadata": {},
     "output_type": "execute_result"
    }
   ],
   "source": [
    "D_q[0]"
   ]
  },
  {
   "cell_type": "code",
   "execution_count": 9,
   "metadata": {},
   "outputs": [
    {
     "data": {
      "text/plain": [
       "array([[-8.620002, 41.147901],\n",
       "       [-8.620308, 41.147343],\n",
       "       [-8.620146, 41.146308],\n",
       "       [-8.620155, 41.14629 ],\n",
       "       [-8.618013, 41.145975],\n",
       "       [-8.616114, 41.145246],\n",
       "       [-8.613639, 41.145894],\n",
       "       [-8.611974, 41.146002],\n",
       "       [-8.61093 , 41.145723],\n",
       "       [-8.61102 , 41.145021],\n",
       "       [-8.612577, 41.143869],\n",
       "       [-8.613864, 41.143023],\n",
       "       [-8.615214, 41.142087],\n",
       "       [-8.615097, 41.140836],\n",
       "       [-8.613495, 41.141286]])"
      ]
     },
     "execution_count": 9,
     "metadata": {},
     "output_type": "execute_result"
    }
   ],
   "source": [
    "D_p[0]"
   ]
  },
  {
   "cell_type": "code",
   "execution_count": 10,
   "metadata": {
    "colab": {
     "base_uri": "https://localhost:8080/"
    },
    "executionInfo": {
     "elapsed": 636,
     "status": "ok",
     "timestamp": 1688673908637,
     "user": {
      "displayName": "Wilken Charles",
      "userId": "08238201343018523362"
     },
     "user_tz": 180
    },
    "id": "sJuZ8FS1qSeM",
    "outputId": "fec3e2ae-bd9d-4c81-9329-8c400f463493"
   },
   "outputs": [
    {
     "data": {
      "text/plain": [
       "574.2711876701195"
      ]
     },
     "execution_count": 10,
     "metadata": {},
     "output_type": "execute_result"
    }
   ],
   "source": [
    "dtw_numba(Dq[0], D_q[0], dist=dist_haversine)"
   ]
  },
  {
   "cell_type": "code",
   "execution_count": 11,
   "metadata": {},
   "outputs": [
    {
     "data": {
      "text/plain": [
       "0.0"
      ]
     },
     "execution_count": 11,
     "metadata": {},
     "output_type": "execute_result"
    }
   ],
   "source": [
    "dtw_numba(Dq[0], Dq[0], dist=dist_haversine)"
   ]
  },
  {
   "cell_type": "code",
   "execution_count": 13,
   "metadata": {
    "id": "RzUG03aoz-4t"
   },
   "outputs": [],
   "source": [
    "def rank(t_query, i, db_search):\n",
    "    dists = list(map(lambda t: dtw_numba(t_query, t, dist=dist_haversine), db_search)) # pega todas as distâncias de Dq[i] as trajs de D_qUD_p\n",
    "    dists = np.array(dists)\n",
    "    order = dists.argsort() # pega a ordem\n",
    "    ranks = order.argsort() # pega o rank\n",
    "\n",
    "    return ranks[i] + 1 # retorna o ranking de ta' no dbsearch | soma +1 pq o argsort rankea a partir de 0 (zero)"
   ]
  },
  {
   "cell_type": "code",
   "execution_count": 15,
   "metadata": {
    "id": "8DaoxnU9z-1U"
   },
   "outputs": [],
   "source": [
    "def acc(ranks):\n",
    "    count = 0\n",
    "    for i in range(len(ranks)):\n",
    "        if ranks[i] == 1:\n",
    "            count += 1\n",
    "\n",
    "    return round(count/len(ranks), 3)"
   ]
  },
  {
   "cell_type": "code",
   "execution_count": 16,
   "metadata": {},
   "outputs": [],
   "source": [
    "def mr(ranks):\n",
    "    return (sum(ranks)/len(ranks))"
   ]
  },
  {
   "cell_type": "code",
   "execution_count": 17,
   "metadata": {},
   "outputs": [],
   "source": [
    "def mrr(ranks):\n",
    "    count = 0\n",
    "    for i in range(len(ranks)):\n",
    "        count += 1/ranks[i]\n",
    "\n",
    "    return round(count/len(ranks), 3)"
   ]
  },
  {
   "cell_type": "code",
   "execution_count": 18,
   "metadata": {},
   "outputs": [],
   "source": [
    "# Intervalo de Confiança dos Ranks\n",
    "def cip_r(ranks):\n",
    "    data = []\n",
    "    for i in range(len(ranks)):\n",
    "        data.append(ranks[i]) # Add os Ranks\n",
    "    \n",
    "    #create 95% confidence interval for population mean weight\n",
    "    ic = st.t.interval(alpha=0.95, df=len(data)-1, loc=np.mean(data), scale=st.sem(data))\n",
    "    \n",
    "    return tuple(round(valor, 3) for valor in ic) # arredonda pra 3 casas decimais"
   ]
  },
  {
   "cell_type": "code",
   "execution_count": 19,
   "metadata": {},
   "outputs": [],
   "source": [
    "# Intervalo de Confiança dos Reciprocal Ranks\n",
    "def cip_rr(ranks):\n",
    "    data = []\n",
    "    for i in range(len(ranks)):\n",
    "        data.append(1/ranks[i]) # Add os RRs...\n",
    "    \n",
    "    #create 95% confidence interval for population mean weight\n",
    "    ic = st.t.interval(alpha=0.95, df=len(data)-1, loc=np.mean(data), scale=st.sem(data))\n",
    "    \n",
    "    return tuple(round(valor, 3) for valor in ic) # arredonda pra 3 casas decimais"
   ]
  },
  {
   "cell_type": "code",
   "execution_count": 24,
   "metadata": {},
   "outputs": [
    {
     "name": "stdout",
     "output_type": "stream",
     "text": [
      "Mean rank: 18.28(16.192, 20.377), Acc: 0.758, MRR: 0.847(0.829, 0.864) with dbsearch size: 20000\n",
      "Mean rank: 26.59(22.834, 30.357), Acc: 0.656, MRR: 0.769(0.748, 0.79) with dbsearch size: 40000\n",
      "Mean rank: 35.27(29.668, 40.881), Acc: 0.612, MRR: 0.725(0.703, 0.748) with dbsearch size: 60000\n",
      "Mean rank: 45.53(37.459, 53.611), Acc: 0.563, MRR: 0.684(0.661, 0.707) with dbsearch size: 80000\n",
      "Mean rank: 54.27(44.198, 64.356), Acc: 0.534, MRR: 0.659(0.635, 0.683) with dbsearch size: 100000\n",
      "CPU times: user 3h 11min 47s, sys: 132 ms, total: 3h 11min 48s\n",
      "Wall time: 3h 11min 48s\n"
     ]
    }
   ],
   "source": [
    "%%time\n",
    "dbsizes = [20000, 40000, 60000, 80000, 100000]\n",
    "entire_db = D_q + D_p\n",
    "for dbsize in dbsizes:\n",
    "    ranks = []\n",
    "    dbsearch = entire_db[:dbsize]\n",
    "    for i in range(len(Dq)):\n",
    "        ranks.append(rank(Dq[i], i, dbsearch)) # rank de ta' no dbsearch!\n",
    "    print('Mean rank: {}{}, Acc: {}, MRR: {}{} with dbsearch size: {}'.format(mr(ranks), cip_r(ranks), acc(ranks), mrr(ranks), cip_rr(ranks), dbsize))"
   ]
  }
 ],
 "metadata": {
  "colab": {
   "authorship_tag": "ABX9TyONEQfUk+U2+ZNl73i79fIZ",
   "machine_shape": "hm",
   "mount_file_id": "1AJXwHl_xRr_XEAE9S_OhbO3W_uxGSZES",
   "provenance": []
  },
  "kernelspec": {
   "display_name": "Python 3 (ipykernel)",
   "language": "python",
   "name": "python3"
  },
  "language_info": {
   "codemirror_mode": {
    "name": "ipython",
    "version": 3
   },
   "file_extension": ".py",
   "mimetype": "text/x-python",
   "name": "python",
   "nbconvert_exporter": "python",
   "pygments_lexer": "ipython3",
   "version": "3.7.12"
  }
 },
 "nbformat": 4,
 "nbformat_minor": 1
}
