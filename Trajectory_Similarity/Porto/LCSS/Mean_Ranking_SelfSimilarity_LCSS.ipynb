{
 "cells": [
  {
   "cell_type": "code",
   "execution_count": 28,
   "id": "4042578c",
   "metadata": {},
   "outputs": [],
   "source": [
    "import pickle\n",
    "import numpy as np\n",
    "import pandas as pd\n",
    "import scipy.stats as st\n",
    "from numba import njit, prange\n",
    "from math import sin, cos, sqrt, atan2, radians"
   ]
  },
  {
   "cell_type": "code",
   "execution_count": 29,
   "id": "f48f182f",
   "metadata": {},
   "outputs": [],
   "source": [
    "path = '../data/'"
   ]
  },
  {
   "cell_type": "code",
   "execution_count": 30,
   "id": "b4a11b87",
   "metadata": {},
   "outputs": [
    {
     "name": "stdout",
     "output_type": "stream",
     "text": [
      "D_p-pts.pickle\texp1-trj.label\tporto.csv     train.src  val.trg\r\n",
      "D_q-pts.pickle\texp1-trj.pts\tREADME.md     train.trg  vocab.txt\r\n",
      "Dq-pts.pickle\texp1-trj.t\tsaved_models  val.src\r\n"
     ]
    }
   ],
   "source": [
    "!ls $path"
   ]
  },
  {
   "cell_type": "code",
   "execution_count": 31,
   "id": "b5232059",
   "metadata": {},
   "outputs": [],
   "source": [
    "# Reloading Dq...\n",
    "with open(path+'Dq-pts.pickle', 'rb') as file:\n",
    "    Dq = pickle.load(file)\n",
    "\n",
    "# Reloading D_q...\n",
    "with open(path+'D_q-pts.pickle', 'rb') as file:\n",
    "    D_q = pickle.load(file)\n",
    "\n",
    "# Reloading D_p...\n",
    "with open(path+'D_p-pts.pickle', 'rb') as file:\n",
    "    D_p = pickle.load(file)"
   ]
  },
  {
   "cell_type": "code",
   "execution_count": 38,
   "id": "0c4c97b9",
   "metadata": {},
   "outputs": [
    {
     "data": {
      "text/plain": [
       "array([[-8.585676, 41.148621],\n",
       "       [-8.585721, 41.148864],\n",
       "       [-8.587161, 41.149044],\n",
       "       [-8.590383, 41.150052],\n",
       "       [-8.593281, 41.150772],\n",
       "       [-8.593254, 41.150808],\n",
       "       [-8.59401 , 41.150493],\n",
       "       [-8.593335, 41.148324],\n",
       "       [-8.593056, 41.147415],\n",
       "       [-8.592993, 41.147397],\n",
       "       [-8.592939, 41.147352],\n",
       "       [-8.59293 , 41.147334]])"
      ]
     },
     "execution_count": 38,
     "metadata": {},
     "output_type": "execute_result"
    }
   ],
   "source": [
    "Dq[0]"
   ]
  },
  {
   "cell_type": "code",
   "execution_count": 35,
   "id": "4f35efdd",
   "metadata": {},
   "outputs": [
    {
     "data": {
      "text/plain": [
       "array([[-8.585694, 41.148639],\n",
       "       [-8.586135, 41.14899 ],\n",
       "       [-8.588574, 41.149557],\n",
       "       [-8.592345, 41.150547],\n",
       "       [-8.593272, 41.150808],\n",
       "       [-8.59356 , 41.150871],\n",
       "       [-8.593767, 41.149683],\n",
       "       [-8.593083, 41.14746 ],\n",
       "       [-8.59302 , 41.147406],\n",
       "       [-8.592966, 41.147379],\n",
       "       [-8.59293 , 41.147343],\n",
       "       [-8.59293 , 41.147325]])"
      ]
     },
     "execution_count": 35,
     "metadata": {},
     "output_type": "execute_result"
    }
   ],
   "source": [
    "D_q[0]"
   ]
  },
  {
   "cell_type": "code",
   "execution_count": 51,
   "id": "b1bc0caa",
   "metadata": {},
   "outputs": [
    {
     "data": {
      "text/plain": [
       "array([[-8.620002, 41.147901],\n",
       "       [-8.620308, 41.147343],\n",
       "       [-8.620146, 41.146308],\n",
       "       [-8.620155, 41.14629 ],\n",
       "       [-8.618013, 41.145975],\n",
       "       [-8.616114, 41.145246],\n",
       "       [-8.613639, 41.145894],\n",
       "       [-8.611974, 41.146002],\n",
       "       [-8.61093 , 41.145723],\n",
       "       [-8.61102 , 41.145021],\n",
       "       [-8.612577, 41.143869],\n",
       "       [-8.613864, 41.143023],\n",
       "       [-8.615214, 41.142087],\n",
       "       [-8.615097, 41.140836],\n",
       "       [-8.613495, 41.141286]])"
      ]
     },
     "execution_count": 51,
     "metadata": {},
     "output_type": "execute_result"
    }
   ],
   "source": [
    "D_p[0]"
   ]
  },
  {
   "cell_type": "code",
   "execution_count": 52,
   "id": "f39b8789",
   "metadata": {},
   "outputs": [],
   "source": [
    "@njit\n",
    "def dist_haversine(p1, p2):\n",
    "    \"\"\"\n",
    "    p1 --> numpy array [lon, lat]\n",
    "    p2 --> numpy array [lon, lat]\n",
    "    \"\"\"\n",
    "    # approximate radius of earth in km\n",
    "    R = 6371.0\n",
    "\n",
    "    lon1 = radians(p1[0]) # p1[x, ]\n",
    "    lat1 = radians(p1[1]) # p1[ ,y]\n",
    "    lon2 = radians(p2[0]) # p2[x, ]\n",
    "    lat2 = radians(p2[1]) # p2[ ,y]\n",
    "\n",
    "    dlon = lon2 - lon1\n",
    "    dlat = lat2 - lat1\n",
    "\n",
    "    a = sin(dlat / 2)**2 + cos(lat1) * cos(lat2) * sin(dlon / 2)**2\n",
    "    c = 2 * atan2(sqrt(a), sqrt(1 - a))\n",
    "\n",
    "    distance = R * c\n",
    "\n",
    "    return distance * 1000"
   ]
  },
  {
   "cell_type": "code",
   "execution_count": 161,
   "id": "135105b1",
   "metadata": {},
   "outputs": [],
   "source": [
    "@njit\n",
    "def dist_lcss(T1, T2): # Programação Dinâmica da LCSS para trajetórias\n",
    "    m = len(T1) # length of the traj T1\n",
    "    n = len(T2) # length of the traj T2\n",
    "    thr = 225 # thr --> threshold in meters\n",
    "\n",
    "    # Declarando a matrix L(m+1 x n+1), lista de listas!\n",
    "    L = [[0]*(n + 1) for _ in range(m + 1)]\n",
    "\n",
    "    for i in prange(m + 1):\n",
    "        for j in prange(n + 1):\n",
    "            if i == 0 or j == 0 :\n",
    "                L[i][j] = 0\n",
    "            elif dist_haversine(T1[i-1], T2[j-1]) <= thr:\n",
    "                L[i][j] = L[i-1][j-1] + 1\n",
    "            else:\n",
    "                L[i][j] = max(L[i-1][j], L[i][j-1])\n",
    "\n",
    "    lcss_length = L[m][n]\n",
    "    \n",
    "    return 1 - (lcss_length/max(m, n))"
   ]
  },
  {
   "cell_type": "code",
   "execution_count": 162,
   "id": "8824eb94",
   "metadata": {},
   "outputs": [],
   "source": [
    "t1 =  np.array([[-37.97151, -4.93422],\n",
    "                [-37.971341, -4.934051],\n",
    "                [-37.971111, -4.933850],\n",
    "                [-37.970728, -4.933544],\n",
    "                [-37.970429, -4.933256],\n",
    "                [-37.970207, -4.933063]], dtype=np.float32)\n",
    "\n",
    "t2 =  np.array([[-37.97135, -4.93438],\n",
    "                [-37.971143, -4.934198],\n",
    "                [-37.970769, -4.933945],\n",
    "                [-37.969606, -4.934348]], dtype=np.float32)"
   ]
  },
  {
   "cell_type": "code",
   "execution_count": 163,
   "id": "de2513a8",
   "metadata": {},
   "outputs": [
    {
     "data": {
      "text/plain": [
       "0.33333333333333337"
      ]
     },
     "execution_count": 163,
     "metadata": {},
     "output_type": "execute_result"
    }
   ],
   "source": [
    "dist_lcss(t1, t2)"
   ]
  },
  {
   "cell_type": "code",
   "execution_count": 164,
   "id": "64ce9895",
   "metadata": {},
   "outputs": [
    {
     "data": {
      "text/plain": [
       "0.0"
      ]
     },
     "execution_count": 164,
     "metadata": {},
     "output_type": "execute_result"
    }
   ],
   "source": [
    "dist_lcss(t1, t1)"
   ]
  },
  {
   "cell_type": "code",
   "execution_count": 167,
   "id": "208ceff7",
   "metadata": {},
   "outputs": [],
   "source": [
    "def rank(t_query, i, db_search):\n",
    "    dists = list(map(lambda t: dist_lcss(t_query, t), db_search)) # pega todas as distâncias de Dq[i] as trajs de D_qUD_p\n",
    "    dists = np.array(dists)\n",
    "    order = dists.argsort() # pega a ordem\n",
    "    ranks = order.argsort() # pega o rank\n",
    "\n",
    "    return ranks[i] + 1 # retorna o ranking de ta' no dbsearch | soma +1 pq o argsort rankea a partir de 0 (zero)"
   ]
  },
  {
   "cell_type": "code",
   "execution_count": 168,
   "id": "9a7ca2ab",
   "metadata": {},
   "outputs": [],
   "source": [
    "def acc(ranks):\n",
    "    count = 0\n",
    "    for i in range(len(ranks)):\n",
    "        if ranks[i] == 1:\n",
    "            count += 1\n",
    "\n",
    "    return round(count/len(ranks), 3)"
   ]
  },
  {
   "cell_type": "code",
   "execution_count": 169,
   "id": "7eb0631b",
   "metadata": {},
   "outputs": [],
   "source": [
    "def mr(ranks):\n",
    "    return (sum(ranks)/len(ranks))"
   ]
  },
  {
   "cell_type": "code",
   "execution_count": 170,
   "id": "f785349e",
   "metadata": {},
   "outputs": [],
   "source": [
    "def mrr(ranks):\n",
    "    count = 0\n",
    "    for i in range(len(ranks)):\n",
    "        count += 1/ranks[i]\n",
    "\n",
    "    return round(count/len(ranks), 3)"
   ]
  },
  {
   "cell_type": "code",
   "execution_count": 171,
   "id": "0877402c",
   "metadata": {},
   "outputs": [],
   "source": [
    "# Intervalo de Confiança do Ranks\n",
    "def cip_r(ranks):\n",
    "    data = []\n",
    "    for i in range(len(ranks)):\n",
    "        data.append(ranks[i]) # Add os Ranks\n",
    "    \n",
    "    #create 95% confidence interval for population mean weight\n",
    "    ic = st.t.interval(alpha=0.95, df=len(data)-1, loc=np.mean(data), scale=st.sem(data))\n",
    "    \n",
    "    return tuple(round(valor, 3) for valor in ic) # arredonda pra 3 casas decimais"
   ]
  },
  {
   "cell_type": "code",
   "execution_count": 172,
   "id": "cb2368b6",
   "metadata": {},
   "outputs": [],
   "source": [
    "# Intervalo de Confiança dos Reciprocal Ranks\n",
    "def cip_rr(ranks):\n",
    "    data = []\n",
    "    for i in range(len(ranks)):\n",
    "        data.append(1/ranks[i]) # Add os RRs...\n",
    "    \n",
    "    #create 95% confidence interval for population mean weight\n",
    "    ic = st.t.interval(alpha=0.95, df=len(data)-1, loc=np.mean(data), scale=st.sem(data))\n",
    "    \n",
    "    return tuple(round(valor, 3) for valor in ic) # arredonda pra 3 casas decimais"
   ]
  },
  {
   "cell_type": "code",
   "execution_count": 173,
   "id": "4c57ba17",
   "metadata": {},
   "outputs": [
    {
     "name": "stdout",
     "output_type": "stream",
     "text": [
      "Mean rank: 31.196(-5.704, 68.096), Acc: 0.788, MRR: 0.849(0.83, 0.867) with dbsearch size: 20000\n",
      "Mean rank: 62.754(-13.522, 139.03), Acc: 0.741, MRR: 0.812(0.791, 0.832) with dbsearch size: 40000\n",
      "Mean rank: 92.831(-20.312, 205.974), Acc: 0.713, MRR: 0.787(0.765, 0.808) with dbsearch size: 60000\n",
      "Mean rank: 123.373(-26.742, 273.488), Acc: 0.687, MRR: 0.766(0.744, 0.789) with dbsearch size: 80000\n",
      "Mean rank: 155.148(-33.647, 343.943), Acc: 0.677, MRR: 0.753(0.73, 0.776) with dbsearch size: 100000\n",
      "CPU times: user 2h 41min 31s, sys: 116 ms, total: 2h 41min 31s\n",
      "Wall time: 2h 41min 31s\n"
     ]
    }
   ],
   "source": [
    "%%time\n",
    "dbsizes = [20000, 40000, 60000, 80000, 100000]\n",
    "entire_db = D_q + D_p\n",
    "for dbsize in dbsizes:\n",
    "    ranks = []\n",
    "    dbsearch = entire_db[:dbsize]\n",
    "    for i in range(len(Dq)):\n",
    "        ranks.append(rank(Dq[i], i, dbsearch)) # rank de ta' no dbsearch!\n",
    "    print('Mean rank: {}{}, Acc: {}, MRR: {}{} with dbsearch size: {}'.format(mr(ranks), cip_r(ranks), acc(ranks), mrr(ranks), cip_rr(ranks), dbsize))"
   ]
  }
 ],
 "metadata": {
  "kernelspec": {
   "display_name": "Python 3 (ipykernel)",
   "language": "python",
   "name": "python3"
  },
  "language_info": {
   "codemirror_mode": {
    "name": "ipython",
    "version": 3
   },
   "file_extension": ".py",
   "mimetype": "text/x-python",
   "name": "python",
   "nbconvert_exporter": "python",
   "pygments_lexer": "ipython3",
   "version": "3.7.12"
  }
 },
 "nbformat": 4,
 "nbformat_minor": 5
}
